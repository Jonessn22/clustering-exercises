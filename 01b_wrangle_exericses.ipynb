{
 "cells": [
  {
   "cell_type": "markdown",
   "id": "1c5bb7d0",
   "metadata": {},
   "source": [
    "## Key\n",
    ">✅ Complete<br>\n",
    "🟡 In Progress<br>\n",
    "⬜ Not Started"
   ]
  },
  {
   "cell_type": "code",
   "execution_count": 2,
   "id": "6bd69342",
   "metadata": {},
   "outputs": [],
   "source": [
    "# ignore warnings\n",
    "import warnings\n",
    "warnings.filterwarnings(\"ignore\")\n",
    "\n",
    "# import modules\n",
    "from env import host, user, password\n",
    "\n",
    "# wrangling\n",
    "import numpy as np\n",
    "import pandas as pd\n",
    "\n",
    "# visualizing\n",
    "%matplotlib inline\n",
    "import matplotlib.pyplot as plt\n",
    "import seaborn as sns\n",
    "\n",
    "# exploring\n",
    "import scipy.stats as stats\n",
    "\n",
    "# default pandas decimal number display format\n",
    "pd.options.display.float_format = '{:20,.2f}'.format\n"
   ]
  },
  {
   "cell_type": "markdown",
   "id": "918aa245",
   "metadata": {},
   "source": [
    "# Acquire `zillow` data\n",
    ">Acquire data from mySQL using the python module to connect and query.\n",
    "- 🟡 End with a single df\n",
    "- ✅ Use the correct join (do not eliminate observations without values)\n",
    "- ✅ Only include properties with transactions in 2017\n",
    "- ⬜ Only include the last transaction for each property (***no duplicates***)\n",
    "- Include:\n",
    "    - ✅ Log error\n",
    "    - ✅ All available fields (all db tables)\n",
    "    - ⬜ Zestimate error for each property\n",
    "    - ✅ Date of transaction\n",
    "    "
   ]
  },
  {
   "cell_type": "markdown",
   "id": "6f721563",
   "metadata": {},
   "source": [
    "### Connection Function"
   ]
  },
  {
   "cell_type": "code",
   "execution_count": 4,
   "id": "77dcdcc1",
   "metadata": {},
   "outputs": [],
   "source": [
    "def get_connection(db, user = user, host = host, password = password):\n",
    "    '''\n",
    "THIS FUNCTION TAKES IN A DATABASE AND SQL SERVER CREDENTIALS, RETURNING THE STRING THAT WILL BE\n",
    "USED TO ACCESS AND CONNECT TO THAT SERVER.\n",
    "    '''\n",
    "    \n",
    "    return f'mysql+pymysql://{user}:{password}@{host}/{db}'"
   ]
  },
  {
   "cell_type": "code",
   "execution_count": null,
   "id": "15948519",
   "metadata": {},
   "outputs": [],
   "source": [
    "def acquire_data(file_name, db):\n",
    "    '''\n",
    "\n",
    "    '''\n",
    "    \n",
    "    # if csv data file already exists in local directory...\n",
    "    if os.path.isfile(file_name):\n",
    "        \n",
    "        # write the data to dataframe\n",
    "        df = pd.read_csv(file_name)\n",
    "    \n",
    "    # if csv data file does not exist in local direction ...\n",
    "    else:\n",
    "        \n",
    "        # read the sql query used to dataframe\n",
    "        sql_query = '''SELECT *\n",
    "                        FROM '''\n",
    "        df = pd.read_sql(sql_query, get_connection(db))\n",
    "        \n",
    "        # cache csv file with data\n",
    "        df.to_csv('zillow.csv')\n",
    "        \n",
    "    return df\n",
    "    \n",
    "    "
   ]
  },
  {
   "cell_type": "code",
   "execution_count": null,
   "id": "3557a6e4",
   "metadata": {},
   "outputs": [],
   "source": []
  }
 ],
 "metadata": {
  "kernelspec": {
   "display_name": "Python 3",
   "language": "python",
   "name": "python3"
  },
  "language_info": {
   "codemirror_mode": {
    "name": "ipython",
    "version": 3
   },
   "file_extension": ".py",
   "mimetype": "text/x-python",
   "name": "python",
   "nbconvert_exporter": "python",
   "pygments_lexer": "ipython3",
   "version": "3.8.8"
  }
 },
 "nbformat": 4,
 "nbformat_minor": 5
}
