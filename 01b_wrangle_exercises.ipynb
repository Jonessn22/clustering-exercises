{
 "cells": [
  {
   "cell_type": "code",
   "execution_count": 1,
   "id": "4870093d",
   "metadata": {},
   "outputs": [],
   "source": [
    "# ignore warnings\n",
    "import warnings\n",
    "warnings.filterwarnings(\"ignore\")\n",
    "\n",
    "# import modules\n",
    "import os\n",
    "from env import host, user, password\n",
    "\n",
    "# wrangling\n",
    "import numpy as np\n",
    "import pandas as pd\n",
    "from sklearn.model_selection import train_test_split\n",
    "from sklearn.preprocessing import MinMaxScaler\n",
    "\n",
    "# visualizing\n",
    "%matplotlib inline\n",
    "import matplotlib.pyplot as plt\n",
    "import seaborn as sns\n",
    "\n",
    "# notebook setting configuration\n",
    "# pd.options.display.float_format = '{:20,.4f}'.format\n",
    "pd.set_option('display.max_rows', 100)"
   ]
  },
  {
   "cell_type": "markdown",
   "id": "c044c122",
   "metadata": {},
   "source": [
    "# Zillow\n",
    "<hr>\n",
    "For the following, iterate through the steps you would take to create functions: Write the code to do the following in a jupyter notebook, test it, convert to functions, then create the file to house those functions."
   ]
  },
  {
   "cell_type": "markdown",
   "id": "343a810f",
   "metadata": {},
   "source": [
    "## Acquire and Summarize"
   ]
  },
  {
   "cell_type": "markdown",
   "id": "4b61b0b3",
   "metadata": {},
   "source": [
    "### 1. Acquire data from mySQL using the python module to connect and query. You will want to end with a single dataframe. \n",
    "Make sure to include: \n",
    "- the **`logerror`**, \n",
    "- all fields related to the properties that are available. \n",
    "\n",
    "You will end up using all the tables in the database.\n",
    "\n",
    "- Be sure to do the correct join (inner, outer, etc.). We do not want to eliminate properties purely because they may have a null value for airconditioningtypeid.\n",
    "- Only include properties with a **transaction in 2017**, and include only **the last transaction for each property** (so no duplicate property ID's), along with **`zestimate error`** and date of transaction.\n",
    "- Only include properties that include a **`latitude`** and **`longitude value`**."
   ]
  },
  {
   "cell_type": "code",
   "execution_count": 2,
   "id": "ced4277c",
   "metadata": {},
   "outputs": [],
   "source": [
    "# parts of acquire_data() function\n",
    "\n",
    "# 1) query\n",
    "query = \"\"\"SELECT prop.*, \n",
    "       pred.logerror, \n",
    "       pred.transactiondate, \n",
    "       air.airconditioningdesc, \n",
    "       arch.architecturalstyledesc, \n",
    "       build.buildingclassdesc, \n",
    "       heat.heatingorsystemdesc, \n",
    "       landuse.propertylandusedesc, \n",
    "       story.storydesc, \n",
    "       construct.typeconstructiondesc \n",
    "       \n",
    "FROM   properties_2017 prop  \n",
    "       INNER JOIN (SELECT parcelid,\n",
    "                        logerror,\n",
    "                        Max(transactiondate) transactiondate \n",
    "                        FROM   predictions_2017 \n",
    "                        GROUP  BY parcelid, logerror) pred\n",
    "               USING (parcelid) \n",
    "       LEFT JOIN airconditioningtype air USING (airconditioningtypeid) \n",
    "       LEFT JOIN architecturalstyletype arch USING (architecturalstyletypeid) \n",
    "       LEFT JOIN buildingclasstype build USING (buildingclasstypeid) \n",
    "       LEFT JOIN heatingorsystemtype heat USING (heatingorsystemtypeid) \n",
    "       LEFT JOIN propertylandusetype landuse USING (propertylandusetypeid) \n",
    "       LEFT JOIN storytype story USING (storytypeid) \n",
    "       LEFT JOIN typeconstructiontype construct USING (typeconstructiontypeid) \n",
    "\n",
    "WHERE  prop.latitude IS NOT NULL \n",
    "       AND prop.longitude IS NOT NULL AND transactiondate <= '2017-12-31' \n",
    "\"\"\""
   ]
  },
  {
   "cell_type": "code",
   "execution_count": 3,
   "id": "091eae04",
   "metadata": {},
   "outputs": [],
   "source": [
    "# 2) database\n",
    "\n",
    "database = 'zillow'"
   ]
  },
  {
   "cell_type": "code",
   "execution_count": 4,
   "id": "7e81389e",
   "metadata": {},
   "outputs": [],
   "source": [
    "# 3) url string\n",
    "\n",
    "url = f'mysql+pymysql://{user}:{password}@{host}/{database}'"
   ]
  },
  {
   "cell_type": "code",
   "execution_count": 5,
   "id": "349210a0",
   "metadata": {},
   "outputs": [
    {
     "data": {
      "text/html": [
       "<div><div id=fee3c574-3544-4019-aa98-d2d05853cdc1 style=\"display:none; background-color:#9D6CFF; color:white; width:200px; height:30px; padding-left:5px; border-radius:4px; flex-direction:row; justify-content:space-around; align-items:center;\" onmouseover=\"this.style.backgroundColor='#BA9BF8'\" onmouseout=\"this.style.backgroundColor='#9D6CFF'\" onclick=\"window.commands?.execute('create-mitosheet-from-dataframe-output');\">See Full Dataframe in Mito</div> <script> if (window.commands.hasCommand('create-mitosheet-from-dataframe-output')) document.getElementById('fee3c574-3544-4019-aa98-d2d05853cdc1').style.display = 'flex' </script> <table border=\"1\" class=\"dataframe\">\n",
       "  <thead>\n",
       "    <tr style=\"text-align: right;\">\n",
       "      <th></th>\n",
       "      <th>id</th>\n",
       "      <th>parcelid</th>\n",
       "      <th>airconditioningtypeid</th>\n",
       "      <th>architecturalstyletypeid</th>\n",
       "      <th>basementsqft</th>\n",
       "      <th>bathroomcnt</th>\n",
       "      <th>bedroomcnt</th>\n",
       "      <th>buildingclasstypeid</th>\n",
       "      <th>buildingqualitytypeid</th>\n",
       "      <th>calculatedbathnbr</th>\n",
       "      <th>...</th>\n",
       "      <th>censustractandblock</th>\n",
       "      <th>logerror</th>\n",
       "      <th>transactiondate</th>\n",
       "      <th>airconditioningdesc</th>\n",
       "      <th>architecturalstyledesc</th>\n",
       "      <th>buildingclassdesc</th>\n",
       "      <th>heatingorsystemdesc</th>\n",
       "      <th>propertylandusedesc</th>\n",
       "      <th>storydesc</th>\n",
       "      <th>typeconstructiondesc</th>\n",
       "    </tr>\n",
       "  </thead>\n",
       "  <tbody>\n",
       "    <tr>\n",
       "      <th>0</th>\n",
       "      <td>1727539</td>\n",
       "      <td>14297519</td>\n",
       "      <td>NaN</td>\n",
       "      <td>NaN</td>\n",
       "      <td>NaN</td>\n",
       "      <td>3.5</td>\n",
       "      <td>4.0</td>\n",
       "      <td>NaN</td>\n",
       "      <td>NaN</td>\n",
       "      <td>3.5</td>\n",
       "      <td>...</td>\n",
       "      <td>6.059063e+13</td>\n",
       "      <td>0.025595</td>\n",
       "      <td>2017-01-01</td>\n",
       "      <td>None</td>\n",
       "      <td>None</td>\n",
       "      <td>None</td>\n",
       "      <td>None</td>\n",
       "      <td>Single Family Residential</td>\n",
       "      <td>None</td>\n",
       "      <td>None</td>\n",
       "    </tr>\n",
       "    <tr>\n",
       "      <th>1</th>\n",
       "      <td>1387261</td>\n",
       "      <td>17052889</td>\n",
       "      <td>NaN</td>\n",
       "      <td>NaN</td>\n",
       "      <td>NaN</td>\n",
       "      <td>1.0</td>\n",
       "      <td>2.0</td>\n",
       "      <td>NaN</td>\n",
       "      <td>NaN</td>\n",
       "      <td>1.0</td>\n",
       "      <td>...</td>\n",
       "      <td>6.111001e+13</td>\n",
       "      <td>0.055619</td>\n",
       "      <td>2017-01-01</td>\n",
       "      <td>None</td>\n",
       "      <td>None</td>\n",
       "      <td>None</td>\n",
       "      <td>None</td>\n",
       "      <td>Single Family Residential</td>\n",
       "      <td>None</td>\n",
       "      <td>None</td>\n",
       "    </tr>\n",
       "    <tr>\n",
       "      <th>2</th>\n",
       "      <td>11677</td>\n",
       "      <td>14186244</td>\n",
       "      <td>NaN</td>\n",
       "      <td>NaN</td>\n",
       "      <td>NaN</td>\n",
       "      <td>2.0</td>\n",
       "      <td>3.0</td>\n",
       "      <td>NaN</td>\n",
       "      <td>NaN</td>\n",
       "      <td>2.0</td>\n",
       "      <td>...</td>\n",
       "      <td>6.059022e+13</td>\n",
       "      <td>0.005383</td>\n",
       "      <td>2017-01-01</td>\n",
       "      <td>None</td>\n",
       "      <td>None</td>\n",
       "      <td>None</td>\n",
       "      <td>None</td>\n",
       "      <td>Single Family Residential</td>\n",
       "      <td>None</td>\n",
       "      <td>None</td>\n",
       "    </tr>\n",
       "    <tr>\n",
       "      <th>3</th>\n",
       "      <td>2288172</td>\n",
       "      <td>12177905</td>\n",
       "      <td>NaN</td>\n",
       "      <td>NaN</td>\n",
       "      <td>NaN</td>\n",
       "      <td>3.0</td>\n",
       "      <td>4.0</td>\n",
       "      <td>NaN</td>\n",
       "      <td>8.0</td>\n",
       "      <td>3.0</td>\n",
       "      <td>...</td>\n",
       "      <td>6.037300e+13</td>\n",
       "      <td>-0.103410</td>\n",
       "      <td>2017-01-01</td>\n",
       "      <td>None</td>\n",
       "      <td>None</td>\n",
       "      <td>None</td>\n",
       "      <td>Central</td>\n",
       "      <td>Single Family Residential</td>\n",
       "      <td>None</td>\n",
       "      <td>None</td>\n",
       "    </tr>\n",
       "    <tr>\n",
       "      <th>4</th>\n",
       "      <td>1970746</td>\n",
       "      <td>10887214</td>\n",
       "      <td>1.0</td>\n",
       "      <td>NaN</td>\n",
       "      <td>NaN</td>\n",
       "      <td>3.0</td>\n",
       "      <td>3.0</td>\n",
       "      <td>NaN</td>\n",
       "      <td>8.0</td>\n",
       "      <td>3.0</td>\n",
       "      <td>...</td>\n",
       "      <td>6.037124e+13</td>\n",
       "      <td>0.006940</td>\n",
       "      <td>2017-01-01</td>\n",
       "      <td>Central</td>\n",
       "      <td>None</td>\n",
       "      <td>None</td>\n",
       "      <td>Central</td>\n",
       "      <td>Condominium</td>\n",
       "      <td>None</td>\n",
       "      <td>None</td>\n",
       "    </tr>\n",
       "    <tr>\n",
       "      <th>...</th>\n",
       "      <td>...</td>\n",
       "      <td>...</td>\n",
       "      <td>...</td>\n",
       "      <td>...</td>\n",
       "      <td>...</td>\n",
       "      <td>...</td>\n",
       "      <td>...</td>\n",
       "      <td>...</td>\n",
       "      <td>...</td>\n",
       "      <td>...</td>\n",
       "      <td>...</td>\n",
       "      <td>...</td>\n",
       "      <td>...</td>\n",
       "      <td>...</td>\n",
       "      <td>...</td>\n",
       "      <td>...</td>\n",
       "      <td>...</td>\n",
       "      <td>...</td>\n",
       "      <td>...</td>\n",
       "      <td>...</td>\n",
       "      <td>...</td>\n",
       "    </tr>\n",
       "    <tr>\n",
       "      <th>77569</th>\n",
       "      <td>2864704</td>\n",
       "      <td>10833991</td>\n",
       "      <td>1.0</td>\n",
       "      <td>NaN</td>\n",
       "      <td>NaN</td>\n",
       "      <td>3.0</td>\n",
       "      <td>3.0</td>\n",
       "      <td>NaN</td>\n",
       "      <td>8.0</td>\n",
       "      <td>3.0</td>\n",
       "      <td>...</td>\n",
       "      <td>6.037132e+13</td>\n",
       "      <td>-0.002245</td>\n",
       "      <td>2017-09-20</td>\n",
       "      <td>Central</td>\n",
       "      <td>None</td>\n",
       "      <td>None</td>\n",
       "      <td>Central</td>\n",
       "      <td>Condominium</td>\n",
       "      <td>None</td>\n",
       "      <td>None</td>\n",
       "    </tr>\n",
       "    <tr>\n",
       "      <th>77570</th>\n",
       "      <td>673515</td>\n",
       "      <td>11000655</td>\n",
       "      <td>NaN</td>\n",
       "      <td>NaN</td>\n",
       "      <td>NaN</td>\n",
       "      <td>2.0</td>\n",
       "      <td>2.0</td>\n",
       "      <td>NaN</td>\n",
       "      <td>6.0</td>\n",
       "      <td>2.0</td>\n",
       "      <td>...</td>\n",
       "      <td>6.037101e+13</td>\n",
       "      <td>0.020615</td>\n",
       "      <td>2017-09-20</td>\n",
       "      <td>None</td>\n",
       "      <td>None</td>\n",
       "      <td>None</td>\n",
       "      <td>Central</td>\n",
       "      <td>Single Family Residential</td>\n",
       "      <td>None</td>\n",
       "      <td>None</td>\n",
       "    </tr>\n",
       "    <tr>\n",
       "      <th>77571</th>\n",
       "      <td>2968375</td>\n",
       "      <td>17239384</td>\n",
       "      <td>NaN</td>\n",
       "      <td>NaN</td>\n",
       "      <td>NaN</td>\n",
       "      <td>2.0</td>\n",
       "      <td>4.0</td>\n",
       "      <td>NaN</td>\n",
       "      <td>NaN</td>\n",
       "      <td>2.0</td>\n",
       "      <td>...</td>\n",
       "      <td>6.111008e+13</td>\n",
       "      <td>0.013209</td>\n",
       "      <td>2017-09-21</td>\n",
       "      <td>None</td>\n",
       "      <td>None</td>\n",
       "      <td>None</td>\n",
       "      <td>None</td>\n",
       "      <td>Single Family Residential</td>\n",
       "      <td>None</td>\n",
       "      <td>None</td>\n",
       "    </tr>\n",
       "    <tr>\n",
       "      <th>77572</th>\n",
       "      <td>1843709</td>\n",
       "      <td>12773139</td>\n",
       "      <td>1.0</td>\n",
       "      <td>NaN</td>\n",
       "      <td>NaN</td>\n",
       "      <td>1.0</td>\n",
       "      <td>3.0</td>\n",
       "      <td>NaN</td>\n",
       "      <td>4.0</td>\n",
       "      <td>1.0</td>\n",
       "      <td>...</td>\n",
       "      <td>6.037434e+13</td>\n",
       "      <td>0.037129</td>\n",
       "      <td>2017-09-21</td>\n",
       "      <td>Central</td>\n",
       "      <td>None</td>\n",
       "      <td>None</td>\n",
       "      <td>Central</td>\n",
       "      <td>Single Family Residential</td>\n",
       "      <td>None</td>\n",
       "      <td>None</td>\n",
       "    </tr>\n",
       "    <tr>\n",
       "      <th>77573</th>\n",
       "      <td>1187175</td>\n",
       "      <td>12826780</td>\n",
       "      <td>NaN</td>\n",
       "      <td>NaN</td>\n",
       "      <td>NaN</td>\n",
       "      <td>2.0</td>\n",
       "      <td>3.0</td>\n",
       "      <td>NaN</td>\n",
       "      <td>6.0</td>\n",
       "      <td>2.0</td>\n",
       "      <td>...</td>\n",
       "      <td>6.037503e+13</td>\n",
       "      <td>0.007204</td>\n",
       "      <td>2017-09-25</td>\n",
       "      <td>None</td>\n",
       "      <td>None</td>\n",
       "      <td>None</td>\n",
       "      <td>Central</td>\n",
       "      <td>Single Family Residential</td>\n",
       "      <td>None</td>\n",
       "      <td>None</td>\n",
       "    </tr>\n",
       "  </tbody>\n",
       "</table></div>"
      ],
      "text/plain": [
       "            id  parcelid  airconditioningtypeid  architecturalstyletypeid  \\\n",
       "0      1727539  14297519                    NaN                       NaN   \n",
       "1      1387261  17052889                    NaN                       NaN   \n",
       "2        11677  14186244                    NaN                       NaN   \n",
       "3      2288172  12177905                    NaN                       NaN   \n",
       "4      1970746  10887214                    1.0                       NaN   \n",
       "...        ...       ...                    ...                       ...   \n",
       "77569  2864704  10833991                    1.0                       NaN   \n",
       "77570   673515  11000655                    NaN                       NaN   \n",
       "77571  2968375  17239384                    NaN                       NaN   \n",
       "77572  1843709  12773139                    1.0                       NaN   \n",
       "77573  1187175  12826780                    NaN                       NaN   \n",
       "\n",
       "       basementsqft  bathroomcnt  bedroomcnt  buildingclasstypeid  \\\n",
       "0               NaN          3.5         4.0                  NaN   \n",
       "1               NaN          1.0         2.0                  NaN   \n",
       "2               NaN          2.0         3.0                  NaN   \n",
       "3               NaN          3.0         4.0                  NaN   \n",
       "4               NaN          3.0         3.0                  NaN   \n",
       "...             ...          ...         ...                  ...   \n",
       "77569           NaN          3.0         3.0                  NaN   \n",
       "77570           NaN          2.0         2.0                  NaN   \n",
       "77571           NaN          2.0         4.0                  NaN   \n",
       "77572           NaN          1.0         3.0                  NaN   \n",
       "77573           NaN          2.0         3.0                  NaN   \n",
       "\n",
       "       buildingqualitytypeid  calculatedbathnbr  ...  censustractandblock  \\\n",
       "0                        NaN                3.5  ...         6.059063e+13   \n",
       "1                        NaN                1.0  ...         6.111001e+13   \n",
       "2                        NaN                2.0  ...         6.059022e+13   \n",
       "3                        8.0                3.0  ...         6.037300e+13   \n",
       "4                        8.0                3.0  ...         6.037124e+13   \n",
       "...                      ...                ...  ...                  ...   \n",
       "77569                    8.0                3.0  ...         6.037132e+13   \n",
       "77570                    6.0                2.0  ...         6.037101e+13   \n",
       "77571                    NaN                2.0  ...         6.111008e+13   \n",
       "77572                    4.0                1.0  ...         6.037434e+13   \n",
       "77573                    6.0                2.0  ...         6.037503e+13   \n",
       "\n",
       "       logerror  transactiondate  airconditioningdesc  architecturalstyledesc  \\\n",
       "0      0.025595       2017-01-01                 None                    None   \n",
       "1      0.055619       2017-01-01                 None                    None   \n",
       "2      0.005383       2017-01-01                 None                    None   \n",
       "3     -0.103410       2017-01-01                 None                    None   \n",
       "4      0.006940       2017-01-01              Central                    None   \n",
       "...         ...              ...                  ...                     ...   \n",
       "77569 -0.002245       2017-09-20              Central                    None   \n",
       "77570  0.020615       2017-09-20                 None                    None   \n",
       "77571  0.013209       2017-09-21                 None                    None   \n",
       "77572  0.037129       2017-09-21              Central                    None   \n",
       "77573  0.007204       2017-09-25                 None                    None   \n",
       "\n",
       "       buildingclassdesc  heatingorsystemdesc        propertylandusedesc  \\\n",
       "0                   None                 None  Single Family Residential   \n",
       "1                   None                 None  Single Family Residential   \n",
       "2                   None                 None  Single Family Residential   \n",
       "3                   None              Central  Single Family Residential   \n",
       "4                   None              Central                Condominium   \n",
       "...                  ...                  ...                        ...   \n",
       "77569               None              Central                Condominium   \n",
       "77570               None              Central  Single Family Residential   \n",
       "77571               None                 None  Single Family Residential   \n",
       "77572               None              Central  Single Family Residential   \n",
       "77573               None              Central  Single Family Residential   \n",
       "\n",
       "       storydesc  typeconstructiondesc  \n",
       "0           None                  None  \n",
       "1           None                  None  \n",
       "2           None                  None  \n",
       "3           None                  None  \n",
       "4           None                  None  \n",
       "...          ...                   ...  \n",
       "77569       None                  None  \n",
       "77570       None                  None  \n",
       "77571       None                  None  \n",
       "77572       None                  None  \n",
       "77573       None                  None  \n",
       "\n",
       "[77574 rows x 68 columns]"
      ]
     },
     "execution_count": 5,
     "metadata": {},
     "output_type": "execute_result"
    }
   ],
   "source": [
    "# 4) read sql query into df using query and url string\n",
    "\n",
    "pd.read_sql(query, url)"
   ]
  },
  {
   "cell_type": "markdown",
   "id": "dd4dcdbe",
   "metadata": {},
   "source": [
    ">### `acquire_data()` function"
   ]
  },
  {
   "cell_type": "code",
   "execution_count": 6,
   "id": "3dafa198",
   "metadata": {},
   "outputs": [],
   "source": [
    "def acquire_data(file_name, database, query):\n",
    "    '''\n",
    "THIS FUNCTION TAKES IN:\n",
    "    (1) A CSV FILE NAME ***MAKE SURE YOU INCLUDE .CSV EXT*** \n",
    "    (2) DATABASE NAME AND \n",
    "    (3) SQL QUERY STRING \n",
    "AND RETURNS A PANDAS DF BY:\n",
    "        (i.) CHECKING TO SEE IF LOCAL CSV FILE WITH DATA EXISTS\n",
    "        (ii.) WRITING THE LOCAL CSV FILE OT PANDAS DF \n",
    "OR, IF LOCAL CSV DOES NOT EXIST:\n",
    "        (i.) IMPORTING DATABASE CONNECTION CREDENTIALS\n",
    "        (ii.) USING CREDENTIALS TO CREATE DATABASE CONNECTION STRING\n",
    "        (iii.) READING THE SQL QUERY INTO A DF\n",
    "        (iv.) CACHING DF AND SAVING DATA AS LOCAL CSV FILE\n",
    "    '''\n",
    "    # checking for local csv file\n",
    "    if os.path.isfile(file_name):\n",
    "        \n",
    "        # reading csv file to pandas df\n",
    "        df = pd.read_csv(file_name)\n",
    "        \n",
    "    # or, if no local csv file\n",
    "    else:\n",
    "\n",
    "        # url database connection string \n",
    "        url = f'mysql+pymysql://{user}:{password}@{host}/{database}'\n",
    "\n",
    "        # reading sql query into df using sql query and url string\n",
    "        df = pd.read_sql(query, url)\n",
    "        \n",
    "        # write df to local csv file\n",
    "        df.to_csv(file_name)\n",
    "    \n",
    "    return df "
   ]
  },
  {
   "cell_type": "code",
   "execution_count": 7,
   "id": "eb4ec8fd",
   "metadata": {},
   "outputs": [],
   "source": [
    "zillow_data = acquire_data('zillow_data.csv', 'zillow', query)"
   ]
  },
  {
   "cell_type": "markdown",
   "id": "3808a317",
   "metadata": {},
   "source": [
    "### 2. Summarize your data (summary stats, info, dtypes, shape, distributions, value_counts, etc.)\n",
    "> ### `summarize_data()` function"
   ]
  },
  {
   "cell_type": "code",
   "execution_count": 8,
   "id": "36b0f6ca",
   "metadata": {},
   "outputs": [],
   "source": [
    "def summarize_data(df, num_unique_cols):\n",
    "    '''\n",
    "THIS FUNCTIONS TAKES IN A DATAFRAME AND THE MAX NUMBER OF UNIQUE COLUMN VALUES TO \n",
    "PRINT VALUE_COUNTS FOR AND PRINTS THE FOLLOWING SUMMARY INFORMATION:\n",
    "    1) DF SHAPE, NUMBER OF ROWS AND COLUMNS\n",
    "    2) DF INFO\n",
    "    3) THE UNIQUE VALUES IN THE DF COLUMNS (NUMBER AND, IF <= 10, EACH UNIQUE VALUE)\n",
    "    4) THE DESCRIPTIVE STATS FOR THE DF NUMERICAL COLUMNS\n",
    "RETURNING A PREVIEW, THE FIRST FIVE ROWS, OF THE DATAFRAME\n",
    "    '''\n",
    "    \n",
    "    preview = df.head()\n",
    "    \n",
    "    print('1) DataFrame Shape'.upper())\n",
    "    print('-' * len('DataFrame Shape'))\n",
    "    print(f'Rows: {df.shape[0]}\\nColumns: {df.shape[1]}')\n",
    "    print()\n",
    "    print()\n",
    "    \n",
    "    print('2) DataFrame Info'.upper())\n",
    "    print('-' * len('DataFrame Info'))\n",
    "    print(df.info())\n",
    "    print()\n",
    "    print()\n",
    "    \n",
    "    print('3) Unique Values by Column'.upper())\n",
    "    print('-' * len('Unique Values by Column'))\n",
    "    \n",
    "    unique_cols = []\n",
    "    for col in df.columns:\n",
    "        if df[col].nunique() <= num_unique_cols:\n",
    "            print(col.upper())\n",
    "            print('-' * len(col))\n",
    "            print(f'Number of Unique Values for {col}: {df[col].nunique()}')\n",
    "            print(df[col].value_counts(dropna = False))\n",
    "            unique_cols.append(col)\n",
    "            print()\n",
    "            \n",
    "        else:\n",
    "            print(col.upper())\n",
    "            print('-' * len(col))\n",
    "            print(f'Number of Unique Values for {col}: {df[col].nunique()}')\n",
    "            print(f'This column has > {num_unique_cols} values')\n",
    "            print()\n",
    "        print()\n",
    "            \n",
    "    print()\n",
    "    print('4) Descriptive Stats'.upper())\n",
    "    print('-' * len('Descriptive Stats'))\n",
    "    print(df.describe())\n",
    "    print()\n",
    "            \n",
    "    return preview"
   ]
  },
  {
   "cell_type": "code",
   "execution_count": 9,
   "id": "b0ebdbf8",
   "metadata": {},
   "outputs": [
    {
     "name": "stdout",
     "output_type": "stream",
     "text": [
      "1) DATAFRAME SHAPE\n",
      "---------------\n",
      "Rows: 77574\n",
      "Columns: 68\n",
      "\n",
      "\n",
      "2) DATAFRAME INFO\n",
      "--------------\n",
      "<class 'pandas.core.frame.DataFrame'>\n",
      "RangeIndex: 77574 entries, 0 to 77573\n",
      "Data columns (total 68 columns):\n",
      " #   Column                        Non-Null Count  Dtype  \n",
      "---  ------                        --------------  -----  \n",
      " 0   id                            77574 non-null  int64  \n",
      " 1   parcelid                      77574 non-null  int64  \n",
      " 2   airconditioningtypeid         25006 non-null  float64\n",
      " 3   architecturalstyletypeid      206 non-null    float64\n",
      " 4   basementsqft                  50 non-null     float64\n",
      " 5   bathroomcnt                   77574 non-null  float64\n",
      " 6   bedroomcnt                    77574 non-null  float64\n",
      " 7   buildingclasstypeid           15 non-null     float64\n",
      " 8   buildingqualitytypeid         49808 non-null  float64\n",
      " 9   calculatedbathnbr             76959 non-null  float64\n",
      " 10  decktypeid                    614 non-null    float64\n",
      " 11  finishedfloor1squarefeet      6035 non-null   float64\n",
      " 12  calculatedfinishedsquarefeet  77374 non-null  float64\n",
      " 13  finishedsquarefeet12          73919 non-null  float64\n",
      " 14  finishedsquarefeet13          42 non-null     float64\n",
      " 15  finishedsquarefeet15          3027 non-null   float64\n",
      " 16  finishedsquarefeet50          6035 non-null   float64\n",
      " 17  finishedsquarefeet6           386 non-null    float64\n",
      " 18  fips                          77574 non-null  float64\n",
      " 19  fireplacecnt                  8287 non-null   float64\n",
      " 20  fullbathcnt                   76959 non-null  float64\n",
      " 21  garagecarcnt                  25517 non-null  float64\n",
      " 22  garagetotalsqft               25517 non-null  float64\n",
      " 23  hashottuborspa                1539 non-null   float64\n",
      " 24  heatingorsystemtypeid         49569 non-null  float64\n",
      " 25  latitude                      77574 non-null  float64\n",
      " 26  longitude                     77574 non-null  float64\n",
      " 27  lotsizesquarefeet             69317 non-null  float64\n",
      " 28  poolcnt                       16173 non-null  float64\n",
      " 29  poolsizesum                   869 non-null    float64\n",
      " 30  pooltypeid10                  465 non-null    float64\n",
      " 31  pooltypeid2                   1074 non-null   float64\n",
      " 32  pooltypeid7                   15078 non-null  float64\n",
      " 33  propertycountylandusecode     77574 non-null  object \n",
      " 34  propertylandusetypeid         77574 non-null  float64\n",
      " 35  propertyzoningdesc            50474 non-null  object \n",
      " 36  rawcensustractandblock        77574 non-null  float64\n",
      " 37  regionidcity                  76102 non-null  float64\n",
      " 38  regionidcounty                77574 non-null  float64\n",
      " 39  regionidneighborhood          30973 non-null  float64\n",
      " 40  regionidzip                   77524 non-null  float64\n",
      " 41  roomcnt                       77574 non-null  float64\n",
      " 42  storytypeid                   50 non-null     float64\n",
      " 43  threequarterbathnbr           10105 non-null  float64\n",
      " 44  typeconstructiontypeid        222 non-null    float64\n",
      " 45  unitcnt                       50702 non-null  float64\n",
      " 46  yardbuildingsqft17            2393 non-null   float64\n",
      " 47  yardbuildingsqft26            70 non-null     float64\n",
      " 48  yearbuilt                     77305 non-null  float64\n",
      " 49  numberofstories               17596 non-null  float64\n",
      " 50  fireplaceflag                 172 non-null    float64\n",
      " 51  structuretaxvaluedollarcnt    77459 non-null  float64\n",
      " 52  taxvaluedollarcnt             77573 non-null  float64\n",
      " 53  assessmentyear                77574 non-null  float64\n",
      " 54  landtaxvaluedollarcnt         77572 non-null  float64\n",
      " 55  taxamount                     77569 non-null  float64\n",
      " 56  taxdelinquencyflag            2900 non-null   object \n",
      " 57  taxdelinquencyyear            2900 non-null   float64\n",
      " 58  censustractandblock           77327 non-null  float64\n",
      " 59  logerror                      77574 non-null  float64\n",
      " 60  transactiondate               77574 non-null  object \n",
      " 61  airconditioningdesc           25006 non-null  object \n",
      " 62  architecturalstyledesc        206 non-null    object \n",
      " 63  buildingclassdesc             15 non-null     object \n",
      " 64  heatingorsystemdesc           49569 non-null  object \n",
      " 65  propertylandusedesc           77574 non-null  object \n",
      " 66  storydesc                     50 non-null     object \n",
      " 67  typeconstructiondesc          222 non-null    object \n",
      "dtypes: float64(55), int64(2), object(11)\n",
      "memory usage: 40.2+ MB\n",
      "None\n",
      "\n",
      "\n",
      "3) UNIQUE VALUES BY COLUMN\n",
      "-----------------------\n",
      "ID\n",
      "--\n",
      "Number of Unique Values for id: 77381\n",
      "This column has > 25 values\n",
      "\n",
      "\n",
      "PARCELID\n",
      "--------\n",
      "Number of Unique Values for parcelid: 77381\n",
      "This column has > 25 values\n",
      "\n",
      "\n",
      "AIRCONDITIONINGTYPEID\n",
      "---------------------\n",
      "Number of Unique Values for airconditioningtypeid: 5\n",
      "NaN     52568\n",
      "1.0     23185\n",
      "13.0     1575\n",
      "5.0       167\n",
      "11.0       53\n",
      "9.0        26\n",
      "Name: airconditioningtypeid, dtype: int64\n",
      "\n",
      "\n",
      "ARCHITECTURALSTYLETYPEID\n",
      "------------------------\n",
      "Number of Unique Values for architecturalstyletypeid: 5\n",
      "NaN     77368\n",
      "7.0       172\n",
      "8.0        19\n",
      "21.0        7\n",
      "2.0         5\n",
      "3.0         3\n",
      "Name: architecturalstyletypeid, dtype: int64\n",
      "\n",
      "\n",
      "BASEMENTSQFT\n",
      "------------\n",
      "Number of Unique Values for basementsqft: 43\n",
      "This column has > 25 values\n",
      "\n",
      "\n",
      "BATHROOMCNT\n",
      "-----------\n",
      "Number of Unique Values for bathroomcnt: 22\n",
      "2.0     31573\n",
      "3.0     17354\n",
      "1.0     12945\n",
      "2.5      6607\n",
      "4.0      3355\n",
      "1.5      1418\n",
      "3.5      1036\n",
      "5.0      1026\n",
      "4.5       696\n",
      "0.0       598\n",
      "6.0       419\n",
      "5.5       224\n",
      "7.0       114\n",
      "8.0       108\n",
      "6.5        47\n",
      "9.0        23\n",
      "7.5        16\n",
      "10.0        7\n",
      "11.0        3\n",
      "8.5         3\n",
      "13.0        1\n",
      "18.0        1\n",
      "Name: bathroomcnt, dtype: int64\n",
      "\n",
      "\n",
      "BEDROOMCNT\n",
      "----------\n",
      "Number of Unique Values for bedroomcnt: 16\n",
      "3.0     30435\n",
      "2.0     19222\n",
      "4.0     17549\n",
      "5.0      4550\n",
      "1.0      3391\n",
      "6.0      1000\n",
      "0.0       836\n",
      "8.0       253\n",
      "7.0       208\n",
      "9.0        70\n",
      "10.0       31\n",
      "12.0       16\n",
      "11.0        9\n",
      "13.0        2\n",
      "14.0        1\n",
      "16.0        1\n",
      "Name: bedroomcnt, dtype: int64\n",
      "\n",
      "\n",
      "BUILDINGCLASSTYPEID\n",
      "-------------------\n",
      "Number of Unique Values for buildingclasstypeid: 2\n",
      "NaN    77559\n",
      "4.0       14\n",
      "3.0        1\n",
      "Name: buildingclasstypeid, dtype: int64\n",
      "\n",
      "\n",
      "BUILDINGQUALITYTYPEID\n",
      "---------------------\n",
      "Number of Unique Values for buildingqualitytypeid: 12\n",
      "NaN     27766\n",
      "8.0     14685\n",
      "6.0     13501\n",
      "4.0      9507\n",
      "7.0      5981\n",
      "9.0      2303\n",
      "5.0      2099\n",
      "11.0      933\n",
      "3.0       335\n",
      "10.0      313\n",
      "12.0      116\n",
      "1.0        26\n",
      "2.0         9\n",
      "Name: buildingqualitytypeid, dtype: int64\n",
      "\n",
      "\n",
      "CALCULATEDBATHNBR\n",
      "-----------------\n",
      "Number of Unique Values for calculatedbathnbr: 21\n",
      "2.0     31573\n",
      "3.0     17354\n",
      "1.0     12945\n",
      "2.5      6598\n",
      "4.0      3355\n",
      "1.5      1411\n",
      "3.5      1036\n",
      "5.0      1026\n",
      "4.5       696\n",
      "NaN       615\n",
      "6.0       419\n",
      "5.5       223\n",
      "7.0       114\n",
      "8.0       108\n",
      "6.5        47\n",
      "9.0        23\n",
      "7.5        16\n",
      "10.0        7\n",
      "11.0        3\n",
      "8.5         3\n",
      "13.0        1\n",
      "18.0        1\n",
      "Name: calculatedbathnbr, dtype: int64\n",
      "\n",
      "\n",
      "DECKTYPEID\n",
      "----------\n",
      "Number of Unique Values for decktypeid: 1\n",
      "NaN     76960\n",
      "66.0      614\n",
      "Name: decktypeid, dtype: int64\n",
      "\n",
      "\n",
      "FINISHEDFLOOR1SQUAREFEET\n",
      "------------------------\n",
      "Number of Unique Values for finishedfloor1squarefeet: 1787\n",
      "This column has > 25 values\n",
      "\n",
      "\n",
      "CALCULATEDFINISHEDSQUAREFEET\n",
      "----------------------------\n",
      "Number of Unique Values for calculatedfinishedsquarefeet: 4972\n",
      "This column has > 25 values\n",
      "\n",
      "\n",
      "FINISHEDSQUAREFEET12\n",
      "--------------------\n",
      "Number of Unique Values for finishedsquarefeet12: 4868\n",
      "This column has > 25 values\n",
      "\n",
      "\n",
      "FINISHEDSQUAREFEET13\n",
      "--------------------\n",
      "Number of Unique Values for finishedsquarefeet13: 13\n",
      "NaN       77532\n",
      "1440.0       18\n",
      "1344.0        6\n",
      "1536.0        3\n",
      "1488.0        3\n",
      "1248.0        2\n",
      "1392.0        2\n",
      "1152.0        2\n",
      "1200.0        1\n",
      "1056.0        1\n",
      "1060.0        1\n",
      "1512.0        1\n",
      "1300.0        1\n",
      "1560.0        1\n",
      "Name: finishedsquarefeet13, dtype: int64\n",
      "\n",
      "\n",
      "FINISHEDSQUAREFEET15\n",
      "--------------------\n",
      "Number of Unique Values for finishedsquarefeet15: 1724\n",
      "This column has > 25 values\n",
      "\n",
      "\n",
      "FINISHEDSQUAREFEET50\n",
      "--------------------\n",
      "Number of Unique Values for finishedsquarefeet50: 1807\n",
      "This column has > 25 values\n",
      "\n",
      "\n",
      "FINISHEDSQUAREFEET6\n",
      "-------------------\n",
      "Number of Unique Values for finishedsquarefeet6: 350\n",
      "This column has > 25 values\n",
      "\n",
      "\n",
      "FIPS\n",
      "----\n",
      "Number of Unique Values for fips: 3\n",
      "6037.0    50694\n",
      "6059.0    20630\n",
      "6111.0     6250\n",
      "Name: fips, dtype: int64\n",
      "\n",
      "\n",
      "FIREPLACECNT\n",
      "------------\n",
      "Number of Unique Values for fireplacecnt: 5\n",
      "NaN    69287\n",
      "1.0     7016\n",
      "2.0      998\n",
      "3.0      235\n",
      "4.0       35\n",
      "5.0        3\n",
      "Name: fireplacecnt, dtype: int64\n",
      "\n",
      "\n",
      "FULLBATHCNT\n",
      "-----------\n",
      "Number of Unique Values for fullbathcnt: 13\n",
      "2.0     38188\n",
      "3.0     18394\n",
      "1.0     14356\n",
      "4.0      4052\n",
      "5.0      1245\n",
      "NaN       615\n",
      "6.0       456\n",
      "7.0       122\n",
      "8.0       111\n",
      "9.0        23\n",
      "10.0        7\n",
      "11.0        3\n",
      "18.0        1\n",
      "13.0        1\n",
      "Name: fullbathcnt, dtype: int64\n",
      "\n",
      "\n",
      "GARAGECARCNT\n",
      "------------\n",
      "Number of Unique Values for garagecarcnt: 14\n",
      "NaN     52057\n",
      "2.0     18637\n",
      "1.0      5689\n",
      "3.0       632\n",
      "4.0       256\n",
      "0.0       230\n",
      "5.0        45\n",
      "6.0        14\n",
      "7.0         4\n",
      "10.0        3\n",
      "8.0         2\n",
      "9.0         2\n",
      "14.0        1\n",
      "11.0        1\n",
      "13.0        1\n",
      "Name: garagecarcnt, dtype: int64\n",
      "\n",
      "\n",
      "GARAGETOTALSQFT\n",
      "---------------\n",
      "Number of Unique Values for garagetotalsqft: 839\n",
      "This column has > 25 values\n",
      "\n",
      "\n",
      "HASHOTTUBORSPA\n",
      "--------------\n",
      "Number of Unique Values for hashottuborspa: 1\n",
      "NaN    76035\n",
      "1.0     1539\n",
      "Name: hashottuborspa, dtype: int64\n",
      "\n",
      "\n",
      "HEATINGORSYSTEMTYPEID\n",
      "---------------------\n",
      "Number of Unique Values for heatingorsystemtypeid: 10\n",
      "2.0     33633\n",
      "NaN     28005\n",
      "7.0     14106\n",
      "24.0      850\n",
      "6.0       776\n",
      "20.0      104\n",
      "13.0       60\n",
      "18.0       23\n",
      "1.0        13\n",
      "10.0        3\n",
      "11.0        1\n",
      "Name: heatingorsystemtypeid, dtype: int64\n",
      "\n",
      "\n",
      "LATITUDE\n",
      "--------\n",
      "Number of Unique Values for latitude: 64038\n",
      "This column has > 25 values\n",
      "\n",
      "\n",
      "LONGITUDE\n",
      "---------\n",
      "Number of Unique Values for longitude: 62461\n",
      "This column has > 25 values\n",
      "\n",
      "\n",
      "LOTSIZESQUAREFEET\n",
      "-----------------\n",
      "Number of Unique Values for lotsizesquarefeet: 18848\n",
      "This column has > 25 values\n",
      "\n",
      "\n",
      "POOLCNT\n",
      "-------\n",
      "Number of Unique Values for poolcnt: 1\n",
      "NaN    61401\n",
      "1.0    16173\n",
      "Name: poolcnt, dtype: int64\n",
      "\n",
      "\n",
      "POOLSIZESUM\n",
      "-----------\n",
      "Number of Unique Values for poolsizesum: 262\n",
      "This column has > 25 values\n",
      "\n",
      "\n",
      "POOLTYPEID10\n",
      "------------\n",
      "Number of Unique Values for pooltypeid10: 1\n",
      "NaN    77109\n",
      "1.0      465\n",
      "Name: pooltypeid10, dtype: int64\n",
      "\n",
      "\n",
      "POOLTYPEID2\n",
      "-----------\n",
      "Number of Unique Values for pooltypeid2: 1\n",
      "NaN    76500\n",
      "1.0     1074\n",
      "Name: pooltypeid2, dtype: int64\n",
      "\n",
      "\n",
      "POOLTYPEID7\n",
      "-----------\n",
      "Number of Unique Values for pooltypeid7: 1\n"
     ]
    },
    {
     "name": "stdout",
     "output_type": "stream",
     "text": [
      "NaN    62496\n",
      "1.0    15078\n",
      "Name: pooltypeid7, dtype: int64\n",
      "\n",
      "\n",
      "PROPERTYCOUNTYLANDUSECODE\n",
      "-------------------------\n",
      "Number of Unique Values for propertycountylandusecode: 75\n",
      "This column has > 25 values\n",
      "\n",
      "\n",
      "PROPERTYLANDUSETYPEID\n",
      "---------------------\n",
      "Number of Unique Values for propertylandusetypeid: 13\n",
      "261.0    52438\n",
      "266.0    19341\n",
      "246.0     2021\n",
      "269.0     1947\n",
      "248.0      729\n",
      "247.0      539\n",
      "265.0      335\n",
      "263.0       74\n",
      "275.0       59\n",
      "260.0       41\n",
      "267.0       29\n",
      "31.0        15\n",
      "264.0        6\n",
      "Name: propertylandusetypeid, dtype: int64\n",
      "\n",
      "\n",
      "PROPERTYZONINGDESC\n",
      "------------------\n",
      "Number of Unique Values for propertyzoningdesc: 1907\n",
      "This column has > 25 values\n",
      "\n",
      "\n",
      "RAWCENSUSTRACTANDBLOCK\n",
      "----------------------\n",
      "Number of Unique Values for rawcensustractandblock: 39191\n",
      "This column has > 25 values\n",
      "\n",
      "\n",
      "REGIONIDCITY\n",
      "------------\n",
      "Number of Unique Values for regionidcity: 175\n",
      "This column has > 25 values\n",
      "\n",
      "\n",
      "REGIONIDCOUNTY\n",
      "--------------\n",
      "Number of Unique Values for regionidcounty: 3\n",
      "3101.0    50694\n",
      "1286.0    20630\n",
      "2061.0     6250\n",
      "Name: regionidcounty, dtype: int64\n",
      "\n",
      "\n",
      "REGIONIDNEIGHBORHOOD\n",
      "--------------------\n",
      "Number of Unique Values for regionidneighborhood: 480\n",
      "This column has > 25 values\n",
      "\n",
      "\n",
      "REGIONIDZIP\n",
      "-----------\n",
      "Number of Unique Values for regionidzip: 389\n",
      "This column has > 25 values\n",
      "\n",
      "\n",
      "ROOMCNT\n",
      "-------\n",
      "Number of Unique Values for roomcnt: 16\n",
      "0.0     59964\n",
      "6.0      4523\n",
      "7.0      3843\n",
      "5.0      3023\n",
      "8.0      2875\n",
      "4.0      1422\n",
      "9.0      1196\n",
      "10.0      340\n",
      "3.0       212\n",
      "11.0      108\n",
      "12.0       35\n",
      "2.0        15\n",
      "13.0       10\n",
      "14.0        6\n",
      "15.0        1\n",
      "1.0         1\n",
      "Name: roomcnt, dtype: int64\n",
      "\n",
      "\n",
      "STORYTYPEID\n",
      "-----------\n",
      "Number of Unique Values for storytypeid: 1\n",
      "NaN    77524\n",
      "7.0       50\n",
      "Name: storytypeid, dtype: int64\n",
      "\n",
      "\n",
      "THREEQUARTERBATHNBR\n",
      "-------------------\n",
      "Number of Unique Values for threequarterbathnbr: 4\n",
      "NaN    67469\n",
      "1.0    10021\n",
      "2.0       75\n",
      "3.0        8\n",
      "7.0        1\n",
      "Name: threequarterbathnbr, dtype: int64\n",
      "\n",
      "\n",
      "TYPECONSTRUCTIONTYPEID\n",
      "----------------------\n",
      "Number of Unique Values for typeconstructiontypeid: 4\n",
      "NaN     77352\n",
      "6.0       219\n",
      "4.0         1\n",
      "13.0        1\n",
      "10.0        1\n",
      "Name: typeconstructiontypeid, dtype: int64\n",
      "\n",
      "\n",
      "UNITCNT\n",
      "-------\n",
      "Number of Unique Values for unitcnt: 8\n",
      "1.0      47412\n",
      "NaN      26872\n",
      "2.0       2031\n",
      "4.0        726\n",
      "3.0        529\n",
      "42.0         1\n",
      "237.0        1\n",
      "45.0         1\n",
      "6.0          1\n",
      "Name: unitcnt, dtype: int64\n",
      "\n",
      "\n",
      "YARDBUILDINGSQFT17\n",
      "------------------\n",
      "Number of Unique Values for yardbuildingsqft17: 540\n",
      "This column has > 25 values\n",
      "\n",
      "\n",
      "YARDBUILDINGSQFT26\n",
      "------------------\n",
      "Number of Unique Values for yardbuildingsqft26: 59\n",
      "This column has > 25 values\n",
      "\n",
      "\n",
      "YEARBUILT\n",
      "---------\n",
      "Number of Unique Values for yearbuilt: 136\n",
      "This column has > 25 values\n",
      "\n",
      "\n",
      "NUMBEROFSTORIES\n",
      "---------------\n",
      "Number of Unique Values for numberofstories: 4\n",
      "NaN    59978\n",
      "1.0    10396\n",
      "2.0     6762\n",
      "3.0      437\n",
      "6.0        1\n",
      "Name: numberofstories, dtype: int64\n",
      "\n",
      "\n",
      "FIREPLACEFLAG\n",
      "-------------\n",
      "Number of Unique Values for fireplaceflag: 1\n",
      "NaN    77402\n",
      "1.0      172\n",
      "Name: fireplaceflag, dtype: int64\n",
      "\n",
      "\n",
      "STRUCTURETAXVALUEDOLLARCNT\n",
      "--------------------------\n",
      "Number of Unique Values for structuretaxvaluedollarcnt: 50430\n",
      "This column has > 25 values\n",
      "\n",
      "\n",
      "TAXVALUEDOLLARCNT\n",
      "-----------------\n",
      "Number of Unique Values for taxvaluedollarcnt: 50949\n",
      "This column has > 25 values\n",
      "\n",
      "\n",
      "ASSESSMENTYEAR\n",
      "--------------\n",
      "Number of Unique Values for assessmentyear: 1\n",
      "2016.0    77574\n",
      "Name: assessmentyear, dtype: int64\n",
      "\n",
      "\n",
      "LANDTAXVALUEDOLLARCNT\n",
      "---------------------\n",
      "Number of Unique Values for landtaxvaluedollarcnt: 51600\n",
      "This column has > 25 values\n",
      "\n",
      "\n",
      "TAXAMOUNT\n",
      "---------\n",
      "Number of Unique Values for taxamount: 73825\n",
      "This column has > 25 values\n",
      "\n",
      "\n",
      "TAXDELINQUENCYFLAG\n",
      "------------------\n",
      "Number of Unique Values for taxdelinquencyflag: 1\n",
      "NaN    74674\n",
      "Y       2900\n",
      "Name: taxdelinquencyflag, dtype: int64\n",
      "\n",
      "\n",
      "TAXDELINQUENCYYEAR\n",
      "------------------\n",
      "Number of Unique Values for taxdelinquencyyear: 13\n",
      "NaN     74674\n",
      "15.0     1560\n",
      "14.0      801\n",
      "13.0      187\n",
      "12.0      113\n",
      "11.0       98\n",
      "10.0       66\n",
      "9.0        47\n",
      "8.0        14\n",
      "7.0        10\n",
      "4.0         1\n",
      "3.0         1\n",
      "99.0        1\n",
      "6.0         1\n",
      "Name: taxdelinquencyyear, dtype: int64\n",
      "\n",
      "\n",
      "CENSUSTRACTANDBLOCK\n",
      "-------------------\n",
      "Number of Unique Values for censustractandblock: 39006\n",
      "This column has > 25 values\n",
      "\n",
      "\n",
      "LOGERROR\n",
      "--------\n",
      "Number of Unique Values for logerror: 77029\n",
      "This column has > 25 values\n",
      "\n",
      "\n",
      "TRANSACTIONDATE\n",
      "---------------\n",
      "Number of Unique Values for transactiondate: 264\n",
      "This column has > 25 values\n",
      "\n",
      "\n",
      "AIRCONDITIONINGDESC\n",
      "-------------------\n",
      "Number of Unique Values for airconditioningdesc: 5\n",
      "NaN              52568\n",
      "Central          23185\n",
      "Yes               1575\n",
      "None               167\n",
      "Wall Unit           53\n",
      "Refrigeration       26\n",
      "Name: airconditioningdesc, dtype: int64\n",
      "\n",
      "\n",
      "ARCHITECTURALSTYLEDESC\n",
      "----------------------\n",
      "Number of Unique Values for architecturalstyledesc: 5\n",
      "NaN              77368\n",
      "Contemporary       172\n",
      "Conventional        19\n",
      "Ranch/Rambler        7\n",
      "Bungalow             5\n",
      "Cape Cod             3\n",
      "Name: architecturalstyledesc, dtype: int64\n",
      "\n",
      "\n",
      "BUILDINGCLASSDESC\n",
      "-----------------\n",
      "Number of Unique Values for buildingclassdesc: 2\n",
      "NaN                                                                                                                                                                                                                                        77559\n",
      "Buildings having wood or wood and steel frames                                                                                                                                                                                                14\n",
      "Buildings having exterior walls built of a non-combustible material such as brick, concrete, block or poured concrete. Interior partitions and roof structures are built of combustible materials. Floor may be concrete or wood frame.        1\n",
      "Name: buildingclassdesc, dtype: int64\n",
      "\n",
      "\n",
      "HEATINGORSYSTEMDESC\n",
      "-------------------\n",
      "Number of Unique Values for heatingorsystemdesc: 10\n",
      "Central       33633\n",
      "NaN           28005\n",
      "Floor/Wall    14106\n",
      "Yes             850\n",
      "Forced air      776\n",
      "Solar           104\n",
      "None             60\n",
      "Radiant          23\n",
      "Baseboard        13\n",
      "Gravity           3\n",
      "Heat Pump         1\n",
      "Name: heatingorsystemdesc, dtype: int64\n",
      "\n",
      "\n",
      "PROPERTYLANDUSEDESC\n",
      "-------------------\n",
      "Number of Unique Values for propertylandusedesc: 13\n",
      "Single Family Residential                     52438\n",
      "Condominium                                   19341\n",
      "Duplex (2 Units, Any Combination)              2021\n",
      "Planned Unit Development                       1947\n",
      "Quadruplex (4 Units, Any Combination)           729\n",
      "Triplex (3 Units, Any Combination)              539\n",
      "Cluster Home                                    335\n",
      "Mobile Home                                      74\n",
      "Manufactured, Modular, Prefabricated Homes       59\n",
      "Residential General                              41\n",
      "Cooperative                                      29\n",
      "Commercial/Office/Residential Mixed Used         15\n",
      "Townhouse                                         6\n",
      "Name: propertylandusedesc, dtype: int64\n",
      "\n",
      "\n",
      "STORYDESC\n",
      "---------\n",
      "Number of Unique Values for storydesc: 1\n",
      "NaN         77524\n",
      "Basement       50\n",
      "Name: storydesc, dtype: int64\n",
      "\n",
      "\n",
      "TYPECONSTRUCTIONDESC\n",
      "--------------------\n",
      "Number of Unique Values for typeconstructiondesc: 4\n",
      "NaN         77352\n",
      "Frame         219\n",
      "Metal           1\n",
      "Masonry         1\n",
      "Concrete        1\n",
      "Name: typeconstructiondesc, dtype: int64\n",
      "\n",
      "\n",
      "\n",
      "4) DESCRIPTIVE STATS\n",
      "-----------------\n",
      "                 id      parcelid  airconditioningtypeid  \\\n",
      "count  7.757400e+04  7.757400e+04           25006.000000   \n",
      "mean   1.495340e+06  1.300630e+07               1.812045   \n",
      "std    8.609689e+05  3.478043e+06               2.965823   \n",
      "min    3.490000e+02  1.071186e+07               1.000000   \n",
      "25%    7.520875e+05  1.153819e+07               1.000000   \n",
      "50%    1.498169e+06  1.253050e+07               1.000000   \n",
      "75%    2.240588e+06  1.421124e+07               1.000000   \n",
      "max    2.982274e+06  1.676893e+08              13.000000   \n",
      "\n",
      "       architecturalstyletypeid  basementsqft   bathroomcnt    bedroomcnt  \\\n",
      "count                206.000000     50.000000  77574.000000  77574.000000   \n",
      "mean                   7.388350    679.720000      2.298521      3.053252   \n",
      "std                    2.734542    689.703546      0.996706      1.140447   \n",
      "min                    2.000000     38.000000      0.000000      0.000000   \n",
      "25%                    7.000000    273.000000      2.000000      2.000000   \n",
      "50%                    7.000000    515.000000      2.000000      3.000000   \n",
      "75%                    7.000000    796.500000      3.000000      4.000000   \n",
      "max                   21.000000   3560.000000     18.000000     16.000000   \n",
      "\n",
      "       buildingclasstypeid  buildingqualitytypeid  calculatedbathnbr  ...  \\\n",
      "count            15.000000           49808.000000       76959.000000  ...   \n",
      "mean              3.933333               6.533830           2.316389  ...   \n",
      "std               0.258199               1.722041           0.979690  ...   \n",
      "min               3.000000               1.000000           1.000000  ...   \n",
      "25%               4.000000               6.000000           2.000000  ...   \n",
      "50%               4.000000               6.000000           2.000000  ...   \n",
      "75%               4.000000               8.000000           3.000000  ...   \n",
      "max               4.000000              12.000000          18.000000  ...   \n",
      "\n",
      "       numberofstories  fireplaceflag  structuretaxvaluedollarcnt  \\\n",
      "count     17596.000000          172.0                7.745900e+04   \n",
      "mean          1.434246            1.0                1.892829e+05   \n",
      "std           0.544518            0.0                2.304149e+05   \n",
      "min           1.000000            1.0                4.400000e+01   \n",
      "25%           1.000000            1.0                8.418200e+04   \n",
      "50%           1.000000            1.0                1.364070e+05   \n",
      "75%           2.000000            1.0                2.187340e+05   \n",
      "max           6.000000            1.0                1.142179e+07   \n",
      "\n",
      "       taxvaluedollarcnt  assessmentyear  landtaxvaluedollarcnt  \\\n",
      "count       7.757300e+04         77574.0           7.757200e+04   \n",
      "mean        4.901477e+05          2016.0           3.011468e+05   \n",
      "std         6.538059e+05             0.0           4.927317e+05   \n",
      "min         1.000000e+03          2016.0           1.610000e+02   \n",
      "25%         2.068980e+05          2016.0           8.529200e+04   \n",
      "50%         3.588790e+05          2016.0           2.031810e+05   \n",
      "75%         5.690000e+05          2016.0           3.667610e+05   \n",
      "max         4.906124e+07          2016.0           4.895220e+07   \n",
      "\n",
      "           taxamount  taxdelinquencyyear  censustractandblock      logerror  \n",
      "count   77569.000000         2900.000000         7.732700e+04  77574.000000  \n",
      "mean     5995.855691           14.088276         6.049666e+13      0.016805  \n",
      "std      7628.912331            2.181281         1.533386e+12      0.170742  \n",
      "min        19.920000            3.000000         6.037101e+13     -4.655420  \n",
      "25%      2712.610000           14.000000         6.037311e+13     -0.024310  \n",
      "50%      4448.300000           15.000000         6.037603e+13      0.006673  \n",
      "75%      6926.820000           15.000000         6.059042e+13      0.039292  \n",
      "max    586639.300000           99.000000         4.830301e+14      5.262999  \n",
      "\n",
      "[8 rows x 57 columns]\n",
      "\n"
     ]
    },
    {
     "data": {
      "text/html": [
       "<div><div id=84a494d5-2a7a-4814-9fbe-6d74c3c79c7f style=\"display:none; background-color:#9D6CFF; color:white; width:200px; height:30px; padding-left:5px; border-radius:4px; flex-direction:row; justify-content:space-around; align-items:center;\" onmouseover=\"this.style.backgroundColor='#BA9BF8'\" onmouseout=\"this.style.backgroundColor='#9D6CFF'\" onclick=\"window.commands?.execute('create-mitosheet-from-dataframe-output');\">See Full Dataframe in Mito</div> <script> if (window.commands.hasCommand('create-mitosheet-from-dataframe-output')) document.getElementById('84a494d5-2a7a-4814-9fbe-6d74c3c79c7f').style.display = 'flex' </script> <table border=\"1\" class=\"dataframe\">\n",
       "  <thead>\n",
       "    <tr style=\"text-align: right;\">\n",
       "      <th></th>\n",
       "      <th>id</th>\n",
       "      <th>parcelid</th>\n",
       "      <th>airconditioningtypeid</th>\n",
       "      <th>architecturalstyletypeid</th>\n",
       "      <th>basementsqft</th>\n",
       "      <th>bathroomcnt</th>\n",
       "      <th>bedroomcnt</th>\n",
       "      <th>buildingclasstypeid</th>\n",
       "      <th>buildingqualitytypeid</th>\n",
       "      <th>calculatedbathnbr</th>\n",
       "      <th>...</th>\n",
       "      <th>censustractandblock</th>\n",
       "      <th>logerror</th>\n",
       "      <th>transactiondate</th>\n",
       "      <th>airconditioningdesc</th>\n",
       "      <th>architecturalstyledesc</th>\n",
       "      <th>buildingclassdesc</th>\n",
       "      <th>heatingorsystemdesc</th>\n",
       "      <th>propertylandusedesc</th>\n",
       "      <th>storydesc</th>\n",
       "      <th>typeconstructiondesc</th>\n",
       "    </tr>\n",
       "  </thead>\n",
       "  <tbody>\n",
       "    <tr>\n",
       "      <th>0</th>\n",
       "      <td>1727539</td>\n",
       "      <td>14297519</td>\n",
       "      <td>NaN</td>\n",
       "      <td>NaN</td>\n",
       "      <td>NaN</td>\n",
       "      <td>3.5</td>\n",
       "      <td>4.0</td>\n",
       "      <td>NaN</td>\n",
       "      <td>NaN</td>\n",
       "      <td>3.5</td>\n",
       "      <td>...</td>\n",
       "      <td>6.059063e+13</td>\n",
       "      <td>0.025595</td>\n",
       "      <td>2017-01-01</td>\n",
       "      <td>NaN</td>\n",
       "      <td>NaN</td>\n",
       "      <td>NaN</td>\n",
       "      <td>NaN</td>\n",
       "      <td>Single Family Residential</td>\n",
       "      <td>NaN</td>\n",
       "      <td>NaN</td>\n",
       "    </tr>\n",
       "    <tr>\n",
       "      <th>1</th>\n",
       "      <td>1387261</td>\n",
       "      <td>17052889</td>\n",
       "      <td>NaN</td>\n",
       "      <td>NaN</td>\n",
       "      <td>NaN</td>\n",
       "      <td>1.0</td>\n",
       "      <td>2.0</td>\n",
       "      <td>NaN</td>\n",
       "      <td>NaN</td>\n",
       "      <td>1.0</td>\n",
       "      <td>...</td>\n",
       "      <td>6.111001e+13</td>\n",
       "      <td>0.055619</td>\n",
       "      <td>2017-01-01</td>\n",
       "      <td>NaN</td>\n",
       "      <td>NaN</td>\n",
       "      <td>NaN</td>\n",
       "      <td>NaN</td>\n",
       "      <td>Single Family Residential</td>\n",
       "      <td>NaN</td>\n",
       "      <td>NaN</td>\n",
       "    </tr>\n",
       "    <tr>\n",
       "      <th>2</th>\n",
       "      <td>11677</td>\n",
       "      <td>14186244</td>\n",
       "      <td>NaN</td>\n",
       "      <td>NaN</td>\n",
       "      <td>NaN</td>\n",
       "      <td>2.0</td>\n",
       "      <td>3.0</td>\n",
       "      <td>NaN</td>\n",
       "      <td>NaN</td>\n",
       "      <td>2.0</td>\n",
       "      <td>...</td>\n",
       "      <td>6.059022e+13</td>\n",
       "      <td>0.005383</td>\n",
       "      <td>2017-01-01</td>\n",
       "      <td>NaN</td>\n",
       "      <td>NaN</td>\n",
       "      <td>NaN</td>\n",
       "      <td>NaN</td>\n",
       "      <td>Single Family Residential</td>\n",
       "      <td>NaN</td>\n",
       "      <td>NaN</td>\n",
       "    </tr>\n",
       "    <tr>\n",
       "      <th>3</th>\n",
       "      <td>2288172</td>\n",
       "      <td>12177905</td>\n",
       "      <td>NaN</td>\n",
       "      <td>NaN</td>\n",
       "      <td>NaN</td>\n",
       "      <td>3.0</td>\n",
       "      <td>4.0</td>\n",
       "      <td>NaN</td>\n",
       "      <td>8.0</td>\n",
       "      <td>3.0</td>\n",
       "      <td>...</td>\n",
       "      <td>6.037300e+13</td>\n",
       "      <td>-0.103410</td>\n",
       "      <td>2017-01-01</td>\n",
       "      <td>NaN</td>\n",
       "      <td>NaN</td>\n",
       "      <td>NaN</td>\n",
       "      <td>Central</td>\n",
       "      <td>Single Family Residential</td>\n",
       "      <td>NaN</td>\n",
       "      <td>NaN</td>\n",
       "    </tr>\n",
       "    <tr>\n",
       "      <th>4</th>\n",
       "      <td>1970746</td>\n",
       "      <td>10887214</td>\n",
       "      <td>1.0</td>\n",
       "      <td>NaN</td>\n",
       "      <td>NaN</td>\n",
       "      <td>3.0</td>\n",
       "      <td>3.0</td>\n",
       "      <td>NaN</td>\n",
       "      <td>8.0</td>\n",
       "      <td>3.0</td>\n",
       "      <td>...</td>\n",
       "      <td>6.037124e+13</td>\n",
       "      <td>0.006940</td>\n",
       "      <td>2017-01-01</td>\n",
       "      <td>Central</td>\n",
       "      <td>NaN</td>\n",
       "      <td>NaN</td>\n",
       "      <td>Central</td>\n",
       "      <td>Condominium</td>\n",
       "      <td>NaN</td>\n",
       "      <td>NaN</td>\n",
       "    </tr>\n",
       "  </tbody>\n",
       "</table></div>"
      ],
      "text/plain": [
       "        id  parcelid  airconditioningtypeid  architecturalstyletypeid  \\\n",
       "0  1727539  14297519                    NaN                       NaN   \n",
       "1  1387261  17052889                    NaN                       NaN   \n",
       "2    11677  14186244                    NaN                       NaN   \n",
       "3  2288172  12177905                    NaN                       NaN   \n",
       "4  1970746  10887214                    1.0                       NaN   \n",
       "\n",
       "   basementsqft  bathroomcnt  bedroomcnt  buildingclasstypeid  \\\n",
       "0           NaN          3.5         4.0                  NaN   \n",
       "1           NaN          1.0         2.0                  NaN   \n",
       "2           NaN          2.0         3.0                  NaN   \n",
       "3           NaN          3.0         4.0                  NaN   \n",
       "4           NaN          3.0         3.0                  NaN   \n",
       "\n",
       "   buildingqualitytypeid  calculatedbathnbr  ...  censustractandblock  \\\n",
       "0                    NaN                3.5  ...         6.059063e+13   \n",
       "1                    NaN                1.0  ...         6.111001e+13   \n",
       "2                    NaN                2.0  ...         6.059022e+13   \n",
       "3                    8.0                3.0  ...         6.037300e+13   \n",
       "4                    8.0                3.0  ...         6.037124e+13   \n",
       "\n",
       "   logerror  transactiondate  airconditioningdesc  architecturalstyledesc  \\\n",
       "0  0.025595       2017-01-01                  NaN                     NaN   \n",
       "1  0.055619       2017-01-01                  NaN                     NaN   \n",
       "2  0.005383       2017-01-01                  NaN                     NaN   \n",
       "3 -0.103410       2017-01-01                  NaN                     NaN   \n",
       "4  0.006940       2017-01-01              Central                     NaN   \n",
       "\n",
       "   buildingclassdesc  heatingorsystemdesc        propertylandusedesc  \\\n",
       "0                NaN                  NaN  Single Family Residential   \n",
       "1                NaN                  NaN  Single Family Residential   \n",
       "2                NaN                  NaN  Single Family Residential   \n",
       "3                NaN              Central  Single Family Residential   \n",
       "4                NaN              Central                Condominium   \n",
       "\n",
       "   storydesc  typeconstructiondesc  \n",
       "0        NaN                   NaN  \n",
       "1        NaN                   NaN  \n",
       "2        NaN                   NaN  \n",
       "3        NaN                   NaN  \n",
       "4        NaN                   NaN  \n",
       "\n",
       "[5 rows x 68 columns]"
      ]
     },
     "execution_count": 9,
     "metadata": {},
     "output_type": "execute_result"
    }
   ],
   "source": [
    "summarize_data(zillow_data, 25)"
   ]
  },
  {
   "cell_type": "markdown",
   "id": "48c113bd",
   "metadata": {},
   "source": [
    "### 3. Nulls by Column \n",
    "Write a function that takes in a dataframe of observations and attributes and returns a dataframe where:\n",
    "- each row is an atttribute name, \n",
    "- the first column is the number of rows with missing values for that attribute, and \n",
    "- the second column is percent of total rows that have missing values for that attribute. \n",
    "\n",
    "Run the function and document takeaways from this on how you want to handle missing values."
   ]
  },
  {
   "cell_type": "code",
   "execution_count": 10,
   "id": "4281f3a5",
   "metadata": {
    "scrolled": true
   },
   "outputs": [
    {
     "data": {
      "text/plain": [
       "id                                  0\n",
       "parcelid                            0\n",
       "airconditioningtypeid           52568\n",
       "architecturalstyletypeid        77368\n",
       "basementsqft                    77524\n",
       "bathroomcnt                         0\n",
       "bedroomcnt                          0\n",
       "buildingclasstypeid             77559\n",
       "buildingqualitytypeid           27766\n",
       "calculatedbathnbr                 615\n",
       "decktypeid                      76960\n",
       "finishedfloor1squarefeet        71539\n",
       "calculatedfinishedsquarefeet      200\n",
       "finishedsquarefeet12             3655\n",
       "finishedsquarefeet13            77532\n",
       "finishedsquarefeet15            74547\n",
       "finishedsquarefeet50            71539\n",
       "finishedsquarefeet6             77188\n",
       "fips                                0\n",
       "fireplacecnt                    69287\n",
       "fullbathcnt                       615\n",
       "garagecarcnt                    52057\n",
       "garagetotalsqft                 52057\n",
       "hashottuborspa                  76035\n",
       "heatingorsystemtypeid           28005\n",
       "latitude                            0\n",
       "longitude                           0\n",
       "lotsizesquarefeet                8257\n",
       "poolcnt                         61401\n",
       "poolsizesum                     76705\n",
       "pooltypeid10                    77109\n",
       "pooltypeid2                     76500\n",
       "pooltypeid7                     62496\n",
       "propertycountylandusecode           0\n",
       "propertylandusetypeid               0\n",
       "propertyzoningdesc              27100\n",
       "rawcensustractandblock              0\n",
       "regionidcity                     1472\n",
       "regionidcounty                      0\n",
       "regionidneighborhood            46601\n",
       "regionidzip                        50\n",
       "roomcnt                             0\n",
       "storytypeid                     77524\n",
       "threequarterbathnbr             67469\n",
       "typeconstructiontypeid          77352\n",
       "unitcnt                         26872\n",
       "yardbuildingsqft17              75181\n",
       "yardbuildingsqft26              77504\n",
       "yearbuilt                         269\n",
       "numberofstories                 59978\n",
       "fireplaceflag                   77402\n",
       "structuretaxvaluedollarcnt        115\n",
       "taxvaluedollarcnt                   1\n",
       "assessmentyear                      0\n",
       "landtaxvaluedollarcnt               2\n",
       "taxamount                           5\n",
       "taxdelinquencyflag              74674\n",
       "taxdelinquencyyear              74674\n",
       "censustractandblock               247\n",
       "logerror                            0\n",
       "transactiondate                     0\n",
       "airconditioningdesc             52568\n",
       "architecturalstyledesc          77368\n",
       "buildingclassdesc               77559\n",
       "heatingorsystemdesc             28005\n",
       "propertylandusedesc                 0\n",
       "storydesc                       77524\n",
       "typeconstructiondesc            77352\n",
       "dtype: int64"
      ]
     },
     "execution_count": 10,
     "metadata": {},
     "output_type": "execute_result"
    }
   ],
   "source": [
    "# series with attribute names as index and count of nulls in each attribute column is are the values\n",
    "\n",
    "zillow_data.isnull().sum()"
   ]
  },
  {
   "cell_type": "code",
   "execution_count": 16,
   "id": "37e70590",
   "metadata": {},
   "outputs": [
    {
     "data": {
      "text/plain": [
       "77574"
      ]
     },
     "execution_count": 16,
     "metadata": {},
     "output_type": "execute_result"
    }
   ],
   "source": [
    "# total number of rows (will be denominator of percent of total rows fraction)\n",
    "\n",
    "zillow_data.shape[0]"
   ]
  },
  {
   "cell_type": "markdown",
   "id": "c7d36975",
   "metadata": {},
   "source": [
    ">### `hist_data()` function"
   ]
  },
  {
   "cell_type": "code",
   "execution_count": 19,
   "id": "c34e95db",
   "metadata": {},
   "outputs": [],
   "source": [
    "def hist_data(df):\n",
    "    '''\n",
    "THIS FUNCTION TAKES IN A DF AND PLOTS A HISTOGRAM FOR EACH COLUMN.\n",
    "    '''\n",
    "    df.hist(figsize=((36), 32), bins=20)\n",
    "    plt.tight_layout();"
   ]
  },
  {
   "cell_type": "code",
   "execution_count": 20,
   "id": "d7c10482",
   "metadata": {
    "scrolled": true
   },
   "outputs": [
    {
     "data": {
      "image/png": "[encoded data removed]",
      "text/plain": [
       "<Figure size 2592x2304 with 64 Axes>"
      ]
     },
     "metadata": {
      "needs_background": "light"
     },
     "output_type": "display_data"
    }
   ],
   "source": [
    "hist_data(zillow_data)"
   ]
  },
  {
   "cell_type": "markdown",
   "id": "2d8ea2ed",
   "metadata": {},
   "source": [
    "### 3. Nulls DataFrames"
   ]
  },
  {
   "cell_type": "markdown",
   "id": "059c7428",
   "metadata": {},
   "source": [
    ">### `nulls_by_col()` function"
   ]
  },
  {
   "cell_type": "code",
   "execution_count": 11,
   "id": "de80a120",
   "metadata": {},
   "outputs": [
    {
     "data": {
      "text/html": [
       "<div><div id=3bbf4143-540e-4735-8c22-0bc97aedb2ac style=\"display:none; background-color:#9D6CFF; color:white; width:200px; height:30px; padding-left:5px; border-radius:4px; flex-direction:row; justify-content:space-around; align-items:center;\" onmouseover=\"this.style.backgroundColor='#BA9BF8'\" onmouseout=\"this.style.backgroundColor='#9D6CFF'\" onclick=\"window.commands?.execute('create-mitosheet-from-dataframe-output');\">See Full Dataframe in Mito</div> <script> if (window.commands.hasCommand('create-mitosheet-from-dataframe-output')) document.getElementById('3bbf4143-540e-4735-8c22-0bc97aedb2ac').style.display = 'flex' </script> <table border=\"1\" class=\"dataframe\">\n",
       "  <thead>\n",
       "    <tr style=\"text-align: right;\">\n",
       "      <th></th>\n",
       "      <th>id</th>\n",
       "      <th>parcelid</th>\n",
       "      <th>airconditioningtypeid</th>\n",
       "      <th>architecturalstyletypeid</th>\n",
       "      <th>basementsqft</th>\n",
       "      <th>bathroomcnt</th>\n",
       "      <th>bedroomcnt</th>\n",
       "      <th>buildingclasstypeid</th>\n",
       "      <th>buildingqualitytypeid</th>\n",
       "      <th>calculatedbathnbr</th>\n",
       "      <th>...</th>\n",
       "      <th>censustractandblock</th>\n",
       "      <th>logerror</th>\n",
       "      <th>transactiondate</th>\n",
       "      <th>airconditioningdesc</th>\n",
       "      <th>architecturalstyledesc</th>\n",
       "      <th>buildingclassdesc</th>\n",
       "      <th>heatingorsystemdesc</th>\n",
       "      <th>propertylandusedesc</th>\n",
       "      <th>storydesc</th>\n",
       "      <th>typeconstructiondesc</th>\n",
       "    </tr>\n",
       "  </thead>\n",
       "  <tbody>\n",
       "    <tr>\n",
       "      <th>0</th>\n",
       "      <td>False</td>\n",
       "      <td>False</td>\n",
       "      <td>True</td>\n",
       "      <td>True</td>\n",
       "      <td>True</td>\n",
       "      <td>False</td>\n",
       "      <td>False</td>\n",
       "      <td>True</td>\n",
       "      <td>True</td>\n",
       "      <td>False</td>\n",
       "      <td>...</td>\n",
       "      <td>False</td>\n",
       "      <td>False</td>\n",
       "      <td>False</td>\n",
       "      <td>True</td>\n",
       "      <td>True</td>\n",
       "      <td>True</td>\n",
       "      <td>True</td>\n",
       "      <td>False</td>\n",
       "      <td>True</td>\n",
       "      <td>True</td>\n",
       "    </tr>\n",
       "    <tr>\n",
       "      <th>1</th>\n",
       "      <td>False</td>\n",
       "      <td>False</td>\n",
       "      <td>True</td>\n",
       "      <td>True</td>\n",
       "      <td>True</td>\n",
       "      <td>False</td>\n",
       "      <td>False</td>\n",
       "      <td>True</td>\n",
       "      <td>True</td>\n",
       "      <td>False</td>\n",
       "      <td>...</td>\n",
       "      <td>False</td>\n",
       "      <td>False</td>\n",
       "      <td>False</td>\n",
       "      <td>True</td>\n",
       "      <td>True</td>\n",
       "      <td>True</td>\n",
       "      <td>True</td>\n",
       "      <td>False</td>\n",
       "      <td>True</td>\n",
       "      <td>True</td>\n",
       "    </tr>\n",
       "    <tr>\n",
       "      <th>2</th>\n",
       "      <td>False</td>\n",
       "      <td>False</td>\n",
       "      <td>True</td>\n",
       "      <td>True</td>\n",
       "      <td>True</td>\n",
       "      <td>False</td>\n",
       "      <td>False</td>\n",
       "      <td>True</td>\n",
       "      <td>True</td>\n",
       "      <td>False</td>\n",
       "      <td>...</td>\n",
       "      <td>False</td>\n",
       "      <td>False</td>\n",
       "      <td>False</td>\n",
       "      <td>True</td>\n",
       "      <td>True</td>\n",
       "      <td>True</td>\n",
       "      <td>True</td>\n",
       "      <td>False</td>\n",
       "      <td>True</td>\n",
       "      <td>True</td>\n",
       "    </tr>\n",
       "    <tr>\n",
       "      <th>3</th>\n",
       "      <td>False</td>\n",
       "      <td>False</td>\n",
       "      <td>True</td>\n",
       "      <td>True</td>\n",
       "      <td>True</td>\n",
       "      <td>False</td>\n",
       "      <td>False</td>\n",
       "      <td>True</td>\n",
       "      <td>False</td>\n",
       "      <td>False</td>\n",
       "      <td>...</td>\n",
       "      <td>False</td>\n",
       "      <td>False</td>\n",
       "      <td>False</td>\n",
       "      <td>True</td>\n",
       "      <td>True</td>\n",
       "      <td>True</td>\n",
       "      <td>False</td>\n",
       "      <td>False</td>\n",
       "      <td>True</td>\n",
       "      <td>True</td>\n",
       "    </tr>\n",
       "    <tr>\n",
       "      <th>4</th>\n",
       "      <td>False</td>\n",
       "      <td>False</td>\n",
       "      <td>False</td>\n",
       "      <td>True</td>\n",
       "      <td>True</td>\n",
       "      <td>False</td>\n",
       "      <td>False</td>\n",
       "      <td>True</td>\n",
       "      <td>False</td>\n",
       "      <td>False</td>\n",
       "      <td>...</td>\n",
       "      <td>False</td>\n",
       "      <td>False</td>\n",
       "      <td>False</td>\n",
       "      <td>False</td>\n",
       "      <td>True</td>\n",
       "      <td>True</td>\n",
       "      <td>False</td>\n",
       "      <td>False</td>\n",
       "      <td>True</td>\n",
       "      <td>True</td>\n",
       "    </tr>\n",
       "    <tr>\n",
       "      <th>...</th>\n",
       "      <td>...</td>\n",
       "      <td>...</td>\n",
       "      <td>...</td>\n",
       "      <td>...</td>\n",
       "      <td>...</td>\n",
       "      <td>...</td>\n",
       "      <td>...</td>\n",
       "      <td>...</td>\n",
       "      <td>...</td>\n",
       "      <td>...</td>\n",
       "      <td>...</td>\n",
       "      <td>...</td>\n",
       "      <td>...</td>\n",
       "      <td>...</td>\n",
       "      <td>...</td>\n",
       "      <td>...</td>\n",
       "      <td>...</td>\n",
       "      <td>...</td>\n",
       "      <td>...</td>\n",
       "      <td>...</td>\n",
       "      <td>...</td>\n",
       "    </tr>\n",
       "    <tr>\n",
       "      <th>77569</th>\n",
       "      <td>False</td>\n",
       "      <td>False</td>\n",
       "      <td>False</td>\n",
       "      <td>True</td>\n",
       "      <td>True</td>\n",
       "      <td>False</td>\n",
       "      <td>False</td>\n",
       "      <td>True</td>\n",
       "      <td>False</td>\n",
       "      <td>False</td>\n",
       "      <td>...</td>\n",
       "      <td>False</td>\n",
       "      <td>False</td>\n",
       "      <td>False</td>\n",
       "      <td>False</td>\n",
       "      <td>True</td>\n",
       "      <td>True</td>\n",
       "      <td>False</td>\n",
       "      <td>False</td>\n",
       "      <td>True</td>\n",
       "      <td>True</td>\n",
       "    </tr>\n",
       "    <tr>\n",
       "      <th>77570</th>\n",
       "      <td>False</td>\n",
       "      <td>False</td>\n",
       "      <td>True</td>\n",
       "      <td>True</td>\n",
       "      <td>True</td>\n",
       "      <td>False</td>\n",
       "      <td>False</td>\n",
       "      <td>True</td>\n",
       "      <td>False</td>\n",
       "      <td>False</td>\n",
       "      <td>...</td>\n",
       "      <td>False</td>\n",
       "      <td>False</td>\n",
       "      <td>False</td>\n",
       "      <td>True</td>\n",
       "      <td>True</td>\n",
       "      <td>True</td>\n",
       "      <td>False</td>\n",
       "      <td>False</td>\n",
       "      <td>True</td>\n",
       "      <td>True</td>\n",
       "    </tr>\n",
       "    <tr>\n",
       "      <th>77571</th>\n",
       "      <td>False</td>\n",
       "      <td>False</td>\n",
       "      <td>True</td>\n",
       "      <td>True</td>\n",
       "      <td>True</td>\n",
       "      <td>False</td>\n",
       "      <td>False</td>\n",
       "      <td>True</td>\n",
       "      <td>True</td>\n",
       "      <td>False</td>\n",
       "      <td>...</td>\n",
       "      <td>False</td>\n",
       "      <td>False</td>\n",
       "      <td>False</td>\n",
       "      <td>True</td>\n",
       "      <td>True</td>\n",
       "      <td>True</td>\n",
       "      <td>True</td>\n",
       "      <td>False</td>\n",
       "      <td>True</td>\n",
       "      <td>True</td>\n",
       "    </tr>\n",
       "    <tr>\n",
       "      <th>77572</th>\n",
       "      <td>False</td>\n",
       "      <td>False</td>\n",
       "      <td>False</td>\n",
       "      <td>True</td>\n",
       "      <td>True</td>\n",
       "      <td>False</td>\n",
       "      <td>False</td>\n",
       "      <td>True</td>\n",
       "      <td>False</td>\n",
       "      <td>False</td>\n",
       "      <td>...</td>\n",
       "      <td>False</td>\n",
       "      <td>False</td>\n",
       "      <td>False</td>\n",
       "      <td>False</td>\n",
       "      <td>True</td>\n",
       "      <td>True</td>\n",
       "      <td>False</td>\n",
       "      <td>False</td>\n",
       "      <td>True</td>\n",
       "      <td>True</td>\n",
       "    </tr>\n",
       "    <tr>\n",
       "      <th>77573</th>\n",
       "      <td>False</td>\n",
       "      <td>False</td>\n",
       "      <td>True</td>\n",
       "      <td>True</td>\n",
       "      <td>True</td>\n",
       "      <td>False</td>\n",
       "      <td>False</td>\n",
       "      <td>True</td>\n",
       "      <td>False</td>\n",
       "      <td>False</td>\n",
       "      <td>...</td>\n",
       "      <td>False</td>\n",
       "      <td>False</td>\n",
       "      <td>False</td>\n",
       "      <td>True</td>\n",
       "      <td>True</td>\n",
       "      <td>True</td>\n",
       "      <td>False</td>\n",
       "      <td>False</td>\n",
       "      <td>True</td>\n",
       "      <td>True</td>\n",
       "    </tr>\n",
       "  </tbody>\n",
       "</table></div>"
      ],
      "text/plain": [
       "          id  parcelid  airconditioningtypeid  architecturalstyletypeid  \\\n",
       "0      False     False                   True                      True   \n",
       "1      False     False                   True                      True   \n",
       "2      False     False                   True                      True   \n",
       "3      False     False                   True                      True   \n",
       "4      False     False                  False                      True   \n",
       "...      ...       ...                    ...                       ...   \n",
       "77569  False     False                  False                      True   \n",
       "77570  False     False                   True                      True   \n",
       "77571  False     False                   True                      True   \n",
       "77572  False     False                  False                      True   \n",
       "77573  False     False                   True                      True   \n",
       "\n",
       "       basementsqft  bathroomcnt  bedroomcnt  buildingclasstypeid  \\\n",
       "0              True        False       False                 True   \n",
       "1              True        False       False                 True   \n",
       "2              True        False       False                 True   \n",
       "3              True        False       False                 True   \n",
       "4              True        False       False                 True   \n",
       "...             ...          ...         ...                  ...   \n",
       "77569          True        False       False                 True   \n",
       "77570          True        False       False                 True   \n",
       "77571          True        False       False                 True   \n",
       "77572          True        False       False                 True   \n",
       "77573          True        False       False                 True   \n",
       "\n",
       "       buildingqualitytypeid  calculatedbathnbr  ...  censustractandblock  \\\n",
       "0                       True              False  ...                False   \n",
       "1                       True              False  ...                False   \n",
       "2                       True              False  ...                False   \n",
       "3                      False              False  ...                False   \n",
       "4                      False              False  ...                False   \n",
       "...                      ...                ...  ...                  ...   \n",
       "77569                  False              False  ...                False   \n",
       "77570                  False              False  ...                False   \n",
       "77571                   True              False  ...                False   \n",
       "77572                  False              False  ...                False   \n",
       "77573                  False              False  ...                False   \n",
       "\n",
       "       logerror  transactiondate  airconditioningdesc  architecturalstyledesc  \\\n",
       "0         False            False                 True                    True   \n",
       "1         False            False                 True                    True   \n",
       "2         False            False                 True                    True   \n",
       "3         False            False                 True                    True   \n",
       "4         False            False                False                    True   \n",
       "...         ...              ...                  ...                     ...   \n",
       "77569     False            False                False                    True   \n",
       "77570     False            False                 True                    True   \n",
       "77571     False            False                 True                    True   \n",
       "77572     False            False                False                    True   \n",
       "77573     False            False                 True                    True   \n",
       "\n",
       "       buildingclassdesc  heatingorsystemdesc  propertylandusedesc  storydesc  \\\n",
       "0                   True                 True                False       True   \n",
       "1                   True                 True                False       True   \n",
       "2                   True                 True                False       True   \n",
       "3                   True                False                False       True   \n",
       "4                   True                False                False       True   \n",
       "...                  ...                  ...                  ...        ...   \n",
       "77569               True                False                False       True   \n",
       "77570               True                False                False       True   \n",
       "77571               True                 True                False       True   \n",
       "77572               True                False                False       True   \n",
       "77573               True                False                False       True   \n",
       "\n",
       "       typeconstructiondesc  \n",
       "0                      True  \n",
       "1                      True  \n",
       "2                      True  \n",
       "3                      True  \n",
       "4                      True  \n",
       "...                     ...  \n",
       "77569                  True  \n",
       "77570                  True  \n",
       "77571                  True  \n",
       "77572                  True  \n",
       "77573                  True  \n",
       "\n",
       "[77574 rows x 68 columns]"
      ]
     },
     "execution_count": 11,
     "metadata": {},
     "output_type": "execute_result"
    }
   ],
   "source": [
    "zillow_data.isnull()"
   ]
  },
  {
   "cell_type": "code",
   "execution_count": 12,
   "id": "e050ed76",
   "metadata": {},
   "outputs": [
    {
     "data": {
      "text/plain": [
       "buildingclassdesc               77559\n",
       "buildingclasstypeid             77559\n",
       "finishedsquarefeet13            77532\n",
       "storytypeid                     77524\n",
       "basementsqft                    77524\n",
       "storydesc                       77524\n",
       "yardbuildingsqft26              77504\n",
       "fireplaceflag                   77402\n",
       "architecturalstyletypeid        77368\n",
       "architecturalstyledesc          77368\n",
       "typeconstructiondesc            77352\n",
       "typeconstructiontypeid          77352\n",
       "finishedsquarefeet6             77188\n",
       "pooltypeid10                    77109\n",
       "decktypeid                      76960\n",
       "poolsizesum                     76705\n",
       "pooltypeid2                     76500\n",
       "hashottuborspa                  76035\n",
       "yardbuildingsqft17              75181\n",
       "taxdelinquencyyear              74674\n",
       "taxdelinquencyflag              74674\n",
       "finishedsquarefeet15            74547\n",
       "finishedsquarefeet50            71539\n",
       "finishedfloor1squarefeet        71539\n",
       "fireplacecnt                    69287\n",
       "threequarterbathnbr             67469\n",
       "pooltypeid7                     62496\n",
       "poolcnt                         61401\n",
       "numberofstories                 59978\n",
       "airconditioningdesc             52568\n",
       "airconditioningtypeid           52568\n",
       "garagecarcnt                    52057\n",
       "garagetotalsqft                 52057\n",
       "regionidneighborhood            46601\n",
       "heatingorsystemtypeid           28005\n",
       "heatingorsystemdesc             28005\n",
       "buildingqualitytypeid           27766\n",
       "propertyzoningdesc              27100\n",
       "unitcnt                         26872\n",
       "lotsizesquarefeet                8257\n",
       "finishedsquarefeet12             3655\n",
       "regionidcity                     1472\n",
       "fullbathcnt                       615\n",
       "calculatedbathnbr                 615\n",
       "yearbuilt                         269\n",
       "censustractandblock               247\n",
       "calculatedfinishedsquarefeet      200\n",
       "structuretaxvaluedollarcnt        115\n",
       "regionidzip                        50\n",
       "taxamount                           5\n",
       "landtaxvaluedollarcnt               2\n",
       "taxvaluedollarcnt                   1\n",
       "logerror                            0\n",
       "transactiondate                     0\n",
       "propertylandusedesc                 0\n",
       "id                                  0\n",
       "assessmentyear                      0\n",
       "roomcnt                             0\n",
       "regionidcounty                      0\n",
       "rawcensustractandblock              0\n",
       "parcelid                            0\n",
       "propertycountylandusecode           0\n",
       "longitude                           0\n",
       "latitude                            0\n",
       "fips                                0\n",
       "bedroomcnt                          0\n",
       "bathroomcnt                         0\n",
       "propertylandusetypeid               0\n",
       "dtype: int64"
      ]
     },
     "execution_count": 12,
     "metadata": {},
     "output_type": "execute_result"
    }
   ],
   "source": [
    "zillow_data.isnull().sum().sort_values(ascending = False)"
   ]
  },
  {
   "cell_type": "code",
   "execution_count": 13,
   "id": "9f6a281c",
   "metadata": {},
   "outputs": [],
   "source": [
    "def nulls_by_col(df):\n",
    "    '''\n",
    "THIS FUNCTION TAKES IN A DATAFRAME AND RETURNS THE NUMBER OF ROWS MISSING FOR EACH COLUMN AND THE \n",
    "PERCENTAGE OF MISSING MISSING ROWS TO TOTAL ROWS. THE VALUES ARE SORTED IN DESCENDING ORDER BY THE PERCENTAGE MISSING.\n",
    "\n",
    "LASTLY, THE NUMBER OF MISSING ROWS FOR EACH COLUMN IS PLOTTED IN A HISTOGRAM.\n",
    "    '''\n",
    "\n",
    "    num_missing_rows = df.isnull().sum()\n",
    "    rows = df.shape[0]\n",
    "    pct_missing = num_missing_rows / rows\n",
    "    \n",
    "    nulls_by_col_df = pd.DataFrame({'num_missing_rows': num_missing_rows, 'pct_rows_missing': pct_missing})\\\n",
    "    .sort_values(by = 'pct_rows_missing', ascending = False)\\\n",
    "    .reset_index().rename(columns = {'index': 'attribute'})\n",
    "    \n",
    "    nulls_by_col_df.num_missing_rows.hist(figsize=(8, 4), bins = 100)\n",
    "    plt.title('Distribution of Missing Rows for Each Column')\n",
    "    \n",
    "    return nulls_by_col_df"
   ]
  },
  {
   "cell_type": "code",
   "execution_count": 14,
   "id": "03aaf856",
   "metadata": {},
   "outputs": [
    {
     "name": "stderr",
     "output_type": "stream",
     "text": [
      "NumExpr defaulting to 8 threads.\n"
     ]
    },
    {
     "data": {
      "text/html": [
       "<div><div id=2efdc6e9-b599-45e5-9840-4203255f7320 style=\"display:none; background-color:#9D6CFF; color:white; width:200px; height:30px; padding-left:5px; border-radius:4px; flex-direction:row; justify-content:space-around; align-items:center;\" onmouseover=\"this.style.backgroundColor='#BA9BF8'\" onmouseout=\"this.style.backgroundColor='#9D6CFF'\" onclick=\"window.commands?.execute('create-mitosheet-from-dataframe-output');\">See Full Dataframe in Mito</div> <script> if (window.commands.hasCommand('create-mitosheet-from-dataframe-output')) document.getElementById('2efdc6e9-b599-45e5-9840-4203255f7320').style.display = 'flex' </script> <table border=\"1\" class=\"dataframe\">\n",
       "  <thead>\n",
       "    <tr style=\"text-align: right;\">\n",
       "      <th></th>\n",
       "      <th>attribute</th>\n",
       "      <th>num_missing_rows</th>\n",
       "      <th>pct_rows_missing</th>\n",
       "    </tr>\n",
       "  </thead>\n",
       "  <tbody>\n",
       "    <tr>\n",
       "      <th>0</th>\n",
       "      <td>buildingclassdesc</td>\n",
       "      <td>77559</td>\n",
       "      <td>0.999807</td>\n",
       "    </tr>\n",
       "    <tr>\n",
       "      <th>1</th>\n",
       "      <td>buildingclasstypeid</td>\n",
       "      <td>77559</td>\n",
       "      <td>0.999807</td>\n",
       "    </tr>\n",
       "    <tr>\n",
       "      <th>2</th>\n",
       "      <td>finishedsquarefeet13</td>\n",
       "      <td>77532</td>\n",
       "      <td>0.999459</td>\n",
       "    </tr>\n",
       "    <tr>\n",
       "      <th>3</th>\n",
       "      <td>storytypeid</td>\n",
       "      <td>77524</td>\n",
       "      <td>0.999355</td>\n",
       "    </tr>\n",
       "    <tr>\n",
       "      <th>4</th>\n",
       "      <td>basementsqft</td>\n",
       "      <td>77524</td>\n",
       "      <td>0.999355</td>\n",
       "    </tr>\n",
       "    <tr>\n",
       "      <th>...</th>\n",
       "      <td>...</td>\n",
       "      <td>...</td>\n",
       "      <td>...</td>\n",
       "    </tr>\n",
       "    <tr>\n",
       "      <th>63</th>\n",
       "      <td>latitude</td>\n",
       "      <td>0</td>\n",
       "      <td>0.000000</td>\n",
       "    </tr>\n",
       "    <tr>\n",
       "      <th>64</th>\n",
       "      <td>fips</td>\n",
       "      <td>0</td>\n",
       "      <td>0.000000</td>\n",
       "    </tr>\n",
       "    <tr>\n",
       "      <th>65</th>\n",
       "      <td>bedroomcnt</td>\n",
       "      <td>0</td>\n",
       "      <td>0.000000</td>\n",
       "    </tr>\n",
       "    <tr>\n",
       "      <th>66</th>\n",
       "      <td>bathroomcnt</td>\n",
       "      <td>0</td>\n",
       "      <td>0.000000</td>\n",
       "    </tr>\n",
       "    <tr>\n",
       "      <th>67</th>\n",
       "      <td>propertylandusetypeid</td>\n",
       "      <td>0</td>\n",
       "      <td>0.000000</td>\n",
       "    </tr>\n",
       "  </tbody>\n",
       "</table></div>"
      ],
      "text/plain": [
       "                       attribute  num_missing_rows  pct_rows_missing\n",
       "0              buildingclassdesc             77559          0.999807\n",
       "1            buildingclasstypeid             77559          0.999807\n",
       "2           finishedsquarefeet13             77532          0.999459\n",
       "3                    storytypeid             77524          0.999355\n",
       "4                   basementsqft             77524          0.999355\n",
       "5                      storydesc             77524          0.999355\n",
       "6             yardbuildingsqft26             77504          0.999098\n",
       "7                  fireplaceflag             77402          0.997783\n",
       "8       architecturalstyletypeid             77368          0.997344\n",
       "9         architecturalstyledesc             77368          0.997344\n",
       "10          typeconstructiondesc             77352          0.997138\n",
       "11        typeconstructiontypeid             77352          0.997138\n",
       "12           finishedsquarefeet6             77188          0.995024\n",
       "13                  pooltypeid10             77109          0.994006\n",
       "14                    decktypeid             76960          0.992085\n",
       "15                   poolsizesum             76705          0.988798\n",
       "16                   pooltypeid2             76500          0.986155\n",
       "17                hashottuborspa             76035          0.980161\n",
       "18            yardbuildingsqft17             75181          0.969152\n",
       "19            taxdelinquencyyear             74674          0.962616\n",
       "20            taxdelinquencyflag             74674          0.962616\n",
       "21          finishedsquarefeet15             74547          0.960979\n",
       "22          finishedsquarefeet50             71539          0.922203\n",
       "23      finishedfloor1squarefeet             71539          0.922203\n",
       "24                  fireplacecnt             69287          0.893173\n",
       "25           threequarterbathnbr             67469          0.869737\n",
       "26                   pooltypeid7             62496          0.805631\n",
       "27                       poolcnt             61401          0.791515\n",
       "28               numberofstories             59978          0.773171\n",
       "29           airconditioningdesc             52568          0.677650\n",
       "30         airconditioningtypeid             52568          0.677650\n",
       "31                  garagecarcnt             52057          0.671062\n",
       "32               garagetotalsqft             52057          0.671062\n",
       "33          regionidneighborhood             46601          0.600730\n",
       "34         heatingorsystemtypeid             28005          0.361010\n",
       "35           heatingorsystemdesc             28005          0.361010\n",
       "36         buildingqualitytypeid             27766          0.357929\n",
       "37            propertyzoningdesc             27100          0.349344\n",
       "38                       unitcnt             26872          0.346405\n",
       "39             lotsizesquarefeet              8257          0.106440\n",
       "40          finishedsquarefeet12              3655          0.047116\n",
       "41                  regionidcity              1472          0.018975\n",
       "42                   fullbathcnt               615          0.007928\n",
       "43             calculatedbathnbr               615          0.007928\n",
       "44                     yearbuilt               269          0.003468\n",
       "45           censustractandblock               247          0.003184\n",
       "46  calculatedfinishedsquarefeet               200          0.002578\n",
       "47    structuretaxvaluedollarcnt               115          0.001482\n",
       "48                   regionidzip                50          0.000645\n",
       "49                     taxamount                 5          0.000064\n",
       "50         landtaxvaluedollarcnt                 2          0.000026\n",
       "51             taxvaluedollarcnt                 1          0.000013\n",
       "52                      logerror                 0          0.000000\n",
       "53               transactiondate                 0          0.000000\n",
       "54           propertylandusedesc                 0          0.000000\n",
       "55                            id                 0          0.000000\n",
       "56                assessmentyear                 0          0.000000\n",
       "57                       roomcnt                 0          0.000000\n",
       "58                regionidcounty                 0          0.000000\n",
       "59        rawcensustractandblock                 0          0.000000\n",
       "60                      parcelid                 0          0.000000\n",
       "61     propertycountylandusecode                 0          0.000000\n",
       "62                     longitude                 0          0.000000\n",
       "63                      latitude                 0          0.000000\n",
       "64                          fips                 0          0.000000\n",
       "65                    bedroomcnt                 0          0.000000\n",
       "66                   bathroomcnt                 0          0.000000\n",
       "67         propertylandusetypeid                 0          0.000000"
      ]
     },
     "execution_count": 14,
     "metadata": {},
     "output_type": "execute_result"
    },
    {
     "data": {
      "image/png": "[encoded data removed]",
      "text/plain": [
       "<Figure size 576x288 with 1 Axes>"
      ]
     },
     "metadata": {
      "needs_background": "light"
     },
     "output_type": "display_data"
    }
   ],
   "source": [
    "nulls_by_col(zillow_data)"
   ]
  },
  {
   "cell_type": "code",
   "execution_count": 72,
   "id": "f544b6f3",
   "metadata": {},
   "outputs": [
    {
     "data": {
      "image/png": "[encoded data removed]",
      "text/plain": [
       "<Figure size 576x288 with 1 Axes>"
      ]
     },
     "metadata": {
      "needs_background": "light"
     },
     "output_type": "display_data"
    }
   ],
   "source": [
    "nulls_by_col_df = nulls_by_col(zillow_data)"
   ]
  },
  {
   "cell_type": "markdown",
   "id": "be07905b",
   "metadata": {},
   "source": [
    ">### `nulls_by_row()` function\n",
    "\n",
    "Write a function that takes in a dataframe and returns a dataframe with 3 columns: \n",
    "- the number of columns missing, \n",
    "- percent of columns missing, and \n",
    "- number of rows with n columns missing. \n",
    "\n",
    "Run the function and document takeaways from this on how you want to handle missing values."
   ]
  },
  {
   "cell_type": "code",
   "execution_count": 15,
   "id": "bc18afc1",
   "metadata": {},
   "outputs": [
    {
     "data": {
      "text/plain": [
       "0        36\n",
       "1        33\n",
       "2        34\n",
       "3        32\n",
       "4        29\n",
       "         ..\n",
       "77569    29\n",
       "77570    33\n",
       "77571    32\n",
       "77572    32\n",
       "77573    34\n",
       "Length: 77574, dtype: int64"
      ]
     },
     "execution_count": 15,
     "metadata": {},
     "output_type": "execute_result"
    }
   ],
   "source": [
    "# number of nulls in each row\n",
    "\n",
    "zillow_data.isnull().sum(axis = 1)"
   ]
  },
  {
   "cell_type": "code",
   "execution_count": 16,
   "id": "e8524b7c",
   "metadata": {},
   "outputs": [
    {
     "data": {
      "text/plain": [
       "33    14817\n",
       "34    13356\n",
       "32    12606\n",
       "31     9911\n",
       "36     5793\n",
       "29     5285\n",
       "35     5163\n",
       "37     3630\n",
       "30     3465\n",
       "38     1932\n",
       "28      457\n",
       "27      316\n",
       "39      285\n",
       "40      230\n",
       "44       79\n",
       "26       65\n",
       "45       50\n",
       "41       29\n",
       "43       29\n",
       "42       26\n",
       "25       24\n",
       "24       13\n",
       "46        5\n",
       "47        3\n",
       "48        3\n",
       "23        2\n",
       "dtype: int64"
      ]
     },
     "execution_count": 16,
     "metadata": {},
     "output_type": "execute_result"
    }
   ],
   "source": [
    "zillow_data.isnull().sum(axis = 1).value_counts()"
   ]
  },
  {
   "cell_type": "markdown",
   "id": "1e2c46b3",
   "metadata": {},
   "source": [
    ">There are **14_817 `column1`** rows with **33 `column0`** null value columns"
   ]
  },
  {
   "cell_type": "code",
   "execution_count": 17,
   "id": "22e71ab8",
   "metadata": {
    "scrolled": true
   },
   "outputs": [
    {
     "data": {
      "text/html": [
       "<div><div id=d16e1acf-3f15-4fa1-be58-f0ae8a3b252b style=\"display:none; background-color:#9D6CFF; color:white; width:200px; height:30px; padding-left:5px; border-radius:4px; flex-direction:row; justify-content:space-around; align-items:center;\" onmouseover=\"this.style.backgroundColor='#BA9BF8'\" onmouseout=\"this.style.backgroundColor='#9D6CFF'\" onclick=\"window.commands?.execute('create-mitosheet-from-dataframe-output');\">See Full Dataframe in Mito</div> <script> if (window.commands.hasCommand('create-mitosheet-from-dataframe-output')) document.getElementById('d16e1acf-3f15-4fa1-be58-f0ae8a3b252b').style.display = 'flex' </script> <table border=\"1\" class=\"dataframe\">\n",
       "  <thead>\n",
       "    <tr style=\"text-align: right;\">\n",
       "      <th></th>\n",
       "      <th>num_cols_missing</th>\n",
       "      <th>num_rows</th>\n",
       "    </tr>\n",
       "  </thead>\n",
       "  <tbody>\n",
       "    <tr>\n",
       "      <th>0</th>\n",
       "      <td>23</td>\n",
       "      <td>2</td>\n",
       "    </tr>\n",
       "    <tr>\n",
       "      <th>1</th>\n",
       "      <td>24</td>\n",
       "      <td>13</td>\n",
       "    </tr>\n",
       "    <tr>\n",
       "      <th>2</th>\n",
       "      <td>25</td>\n",
       "      <td>24</td>\n",
       "    </tr>\n",
       "    <tr>\n",
       "      <th>3</th>\n",
       "      <td>26</td>\n",
       "      <td>65</td>\n",
       "    </tr>\n",
       "    <tr>\n",
       "      <th>4</th>\n",
       "      <td>27</td>\n",
       "      <td>316</td>\n",
       "    </tr>\n",
       "    <tr>\n",
       "      <th>...</th>\n",
       "      <td>...</td>\n",
       "      <td>...</td>\n",
       "    </tr>\n",
       "    <tr>\n",
       "      <th>21</th>\n",
       "      <td>44</td>\n",
       "      <td>79</td>\n",
       "    </tr>\n",
       "    <tr>\n",
       "      <th>22</th>\n",
       "      <td>45</td>\n",
       "      <td>50</td>\n",
       "    </tr>\n",
       "    <tr>\n",
       "      <th>23</th>\n",
       "      <td>46</td>\n",
       "      <td>5</td>\n",
       "    </tr>\n",
       "    <tr>\n",
       "      <th>24</th>\n",
       "      <td>47</td>\n",
       "      <td>3</td>\n",
       "    </tr>\n",
       "    <tr>\n",
       "      <th>25</th>\n",
       "      <td>48</td>\n",
       "      <td>3</td>\n",
       "    </tr>\n",
       "  </tbody>\n",
       "</table></div>"
      ],
      "text/plain": [
       "    num_cols_missing  num_rows\n",
       "0                 23         2\n",
       "1                 24        13\n",
       "2                 25        24\n",
       "3                 26        65\n",
       "4                 27       316\n",
       "5                 28       457\n",
       "6                 29      5285\n",
       "7                 30      3465\n",
       "8                 31      9911\n",
       "9                 32     12606\n",
       "10                33     14817\n",
       "11                34     13356\n",
       "12                35      5163\n",
       "13                36      5793\n",
       "14                37      3630\n",
       "15                38      1932\n",
       "16                39       285\n",
       "17                40       230\n",
       "18                41        29\n",
       "19                42        26\n",
       "20                43        29\n",
       "21                44        79\n",
       "22                45        50\n",
       "23                46         5\n",
       "24                47         3\n",
       "25                48         3"
      ]
     },
     "execution_count": 17,
     "metadata": {},
     "output_type": "execute_result"
    }
   ],
   "source": [
    "# creating a dataframe with col1 as the number of column values missing and col2 as the number of rows with\n",
    "#     that many columns missing\n",
    "\n",
    "pd.DataFrame(zillow_data.isnull().sum(axis = 1), columns = ['num_cols_missing']).reset_index()\\\n",
    ".groupby('num_cols_missing').count().reset_index().rename(columns = {'index': 'num_rows'})"
   ]
  },
  {
   "cell_type": "code",
   "execution_count": 18,
   "id": "f48c1535",
   "metadata": {},
   "outputs": [
    {
     "data": {
      "text/plain": [
       "68"
      ]
     },
     "execution_count": 18,
     "metadata": {},
     "output_type": "execute_result"
    }
   ],
   "source": [
    "# total number of columns, this will be the denominator of the pct_cols_missing fraction\n",
    "\n",
    "zillow_data.shape[1]"
   ]
  },
  {
   "cell_type": "code",
   "execution_count": 19,
   "id": "b1ea6274",
   "metadata": {},
   "outputs": [],
   "source": [
    "def nulls_by_row(df):\n",
    "    '''\n",
    "THIS FUNCTION TAKES IN A DATAFRAME AND RETURNS INFORMATION ABOUT THE NUMBER OF COLUMN VALUES\n",
    "MISSING FROM EACH ROW. \n",
    "    1) COL 1 IS THE NUMBER OF COLUMN VALUES MISSING\n",
    "    2) COL 2 IS THE NUMBER OF ROWS WITH THAT MANY (COL 1) COLUMN VALUES MISSING\n",
    "    3) COL 3 IS THE PERCENTAGE OF COLUMN VALUES MISSING TO THE TOTAL NUMBER OF COLUMNS\n",
    "    \n",
    "THIS INFORMATION IS RETURNED IN THE FORM OF A DATAFRAME AND SORTED IN DESCENDING ORDER BY THE\n",
    "PERCENTAGE OF COLUMN VALUES MISSING.\n",
    "    '''\n",
    "    \n",
    "    df2 = pd.DataFrame(df.isnull().sum(axis = 1), columns = ['num_cols_missing']).reset_index()\\\n",
    "    .groupby('num_cols_missing').count().reset_index().rename(columns = {'index': 'num_rows'})\n",
    "    \n",
    "    df2['pct_cols_missing'] = df2.num_cols_missing / df.shape[1]\n",
    "    \n",
    "    df2 = df2.sort_values(by = 'pct_cols_missing', ascending = False)\n",
    "    \n",
    "    return df2"
   ]
  },
  {
   "cell_type": "code",
   "execution_count": 92,
   "id": "83143a74",
   "metadata": {},
   "outputs": [
    {
     "data": {
      "text/html": [
       "<div><div id=c280ff35-dc4a-4052-8c22-194a52cb70b8 style=\"display:none; background-color:#9D6CFF; color:white; width:200px; height:30px; padding-left:5px; border-radius:4px; flex-direction:row; justify-content:space-around; align-items:center;\" onmouseover=\"this.style.backgroundColor='#BA9BF8'\" onmouseout=\"this.style.backgroundColor='#9D6CFF'\" onclick=\"window.commands?.execute('create-mitosheet-from-dataframe-output');\">See Full Dataframe in Mito</div> <script> if (window.commands.hasCommand('create-mitosheet-from-dataframe-output')) document.getElementById('c280ff35-dc4a-4052-8c22-194a52cb70b8').style.display = 'flex' </script> <table border=\"1\" class=\"dataframe\">\n",
       "  <thead>\n",
       "    <tr style=\"text-align: right;\">\n",
       "      <th></th>\n",
       "      <th>num_cols_missing</th>\n",
       "      <th>num_rows</th>\n",
       "      <th>pct_cols_missing</th>\n",
       "    </tr>\n",
       "  </thead>\n",
       "  <tbody>\n",
       "    <tr>\n",
       "      <th>25</th>\n",
       "      <td>48</td>\n",
       "      <td>3</td>\n",
       "      <td>0.705882</td>\n",
       "    </tr>\n",
       "    <tr>\n",
       "      <th>24</th>\n",
       "      <td>47</td>\n",
       "      <td>3</td>\n",
       "      <td>0.691176</td>\n",
       "    </tr>\n",
       "    <tr>\n",
       "      <th>23</th>\n",
       "      <td>46</td>\n",
       "      <td>5</td>\n",
       "      <td>0.676471</td>\n",
       "    </tr>\n",
       "    <tr>\n",
       "      <th>22</th>\n",
       "      <td>45</td>\n",
       "      <td>50</td>\n",
       "      <td>0.661765</td>\n",
       "    </tr>\n",
       "    <tr>\n",
       "      <th>21</th>\n",
       "      <td>44</td>\n",
       "      <td>79</td>\n",
       "      <td>0.647059</td>\n",
       "    </tr>\n",
       "    <tr>\n",
       "      <th>...</th>\n",
       "      <td>...</td>\n",
       "      <td>...</td>\n",
       "      <td>...</td>\n",
       "    </tr>\n",
       "    <tr>\n",
       "      <th>4</th>\n",
       "      <td>27</td>\n",
       "      <td>316</td>\n",
       "      <td>0.397059</td>\n",
       "    </tr>\n",
       "    <tr>\n",
       "      <th>3</th>\n",
       "      <td>26</td>\n",
       "      <td>65</td>\n",
       "      <td>0.382353</td>\n",
       "    </tr>\n",
       "    <tr>\n",
       "      <th>2</th>\n",
       "      <td>25</td>\n",
       "      <td>24</td>\n",
       "      <td>0.367647</td>\n",
       "    </tr>\n",
       "    <tr>\n",
       "      <th>1</th>\n",
       "      <td>24</td>\n",
       "      <td>13</td>\n",
       "      <td>0.352941</td>\n",
       "    </tr>\n",
       "    <tr>\n",
       "      <th>0</th>\n",
       "      <td>23</td>\n",
       "      <td>2</td>\n",
       "      <td>0.338235</td>\n",
       "    </tr>\n",
       "  </tbody>\n",
       "</table></div>"
      ],
      "text/plain": [
       "    num_cols_missing  num_rows  pct_cols_missing\n",
       "25                48         3          0.705882\n",
       "24                47         3          0.691176\n",
       "23                46         5          0.676471\n",
       "22                45        50          0.661765\n",
       "21                44        79          0.647059\n",
       "20                43        29          0.632353\n",
       "19                42        26          0.617647\n",
       "18                41        29          0.602941\n",
       "17                40       230          0.588235\n",
       "16                39       285          0.573529\n",
       "15                38      1932          0.558824\n",
       "14                37      3630          0.544118\n",
       "13                36      5793          0.529412\n",
       "12                35      5163          0.514706\n",
       "11                34     13356          0.500000\n",
       "10                33     14817          0.485294\n",
       "9                 32     12606          0.470588\n",
       "8                 31      9911          0.455882\n",
       "7                 30      3465          0.441176\n",
       "6                 29      5285          0.426471\n",
       "5                 28       457          0.411765\n",
       "4                 27       316          0.397059\n",
       "3                 26        65          0.382353\n",
       "2                 25        24          0.367647\n",
       "1                 24        13          0.352941\n",
       "0                 23         2          0.338235"
      ]
     },
     "execution_count": 92,
     "metadata": {},
     "output_type": "execute_result"
    }
   ],
   "source": [
    "nulls_by_row(zillow_data)"
   ]
  },
  {
   "cell_type": "code",
   "execution_count": null,
   "id": "ada86af2",
   "metadata": {},
   "outputs": [],
   "source": []
  },
  {
   "cell_type": "markdown",
   "id": "1f571368",
   "metadata": {},
   "source": [
    "## Prepare"
   ]
  },
  {
   "cell_type": "markdown",
   "id": "9bbe0528",
   "metadata": {},
   "source": [
    "### 1. Remove non-single unit properties\n",
    "Remove any properties that are likely to be something other than single unit properties. (e.g. no duplexes, no land/lot, ...). \n",
    ">There are multiple ways to estimate that a property is a single unit, and there is not a single \"right\" answer. But for this exercise, ***do not purely filter by unitcnt*** as we did previously. Add some new logic that will reduce the number of properties that are falsely removed. You might want to use `bedroomcnt`, `square feet`, `unit type` or the like to then identify those with unitcnt not defined."
   ]
  },
  {
   "cell_type": "markdown",
   "id": "36c096d5",
   "metadata": {},
   "source": [
    "#### first looking at homes that may have more than one unit"
   ]
  },
  {
   "cell_type": "code",
   "execution_count": 20,
   "id": "4017a0dd",
   "metadata": {},
   "outputs": [
    {
     "data": {
      "text/plain": [
       "1.0      47412\n",
       "NaN      26872\n",
       "2.0       2031\n",
       "4.0        726\n",
       "3.0        529\n",
       "42.0         1\n",
       "237.0        1\n",
       "45.0         1\n",
       "6.0          1\n",
       "Name: unitcnt, dtype: int64"
      ]
     },
     "execution_count": 20,
     "metadata": {},
     "output_type": "execute_result"
    }
   ],
   "source": [
    "# value count of number of homes with each unit count\n",
    "\n",
    "zillow_data.unitcnt.value_counts(dropna = False)"
   ]
  },
  {
   "cell_type": "markdown",
   "id": "aaf920c2",
   "metadata": {},
   "source": [
    ">### We should drop homes with > 1 `unitcnt`"
   ]
  },
  {
   "cell_type": "markdown",
   "id": "f70f057b",
   "metadata": {},
   "source": [
    "##### let's look at bedroom count next"
   ]
  },
  {
   "cell_type": "code",
   "execution_count": 21,
   "id": "b14eb3be",
   "metadata": {},
   "outputs": [
    {
     "data": {
      "text/plain": [
       "3.0     30435\n",
       "2.0     19222\n",
       "4.0     17549\n",
       "5.0      4550\n",
       "1.0      3391\n",
       "6.0      1000\n",
       "0.0       836\n",
       "8.0       253\n",
       "7.0       208\n",
       "9.0        70\n",
       "10.0       31\n",
       "12.0       16\n",
       "11.0        9\n",
       "13.0        2\n",
       "14.0        1\n",
       "16.0        1\n",
       "Name: bedroomcnt, dtype: int64"
      ]
     },
     "execution_count": 21,
     "metadata": {},
     "output_type": "execute_result"
    }
   ],
   "source": [
    "zillow_data.bedroomcnt.value_counts(dropna = False)"
   ]
  },
  {
   "cell_type": "code",
   "execution_count": 22,
   "id": "c9d8b6a2",
   "metadata": {},
   "outputs": [
    {
     "data": {
      "text/html": [
       "<div><div id=4fbf0ada-e33a-498b-a9c9-318f88ad6a29 style=\"display:none; background-color:#9D6CFF; color:white; width:200px; height:30px; padding-left:5px; border-radius:4px; flex-direction:row; justify-content:space-around; align-items:center;\" onmouseover=\"this.style.backgroundColor='#BA9BF8'\" onmouseout=\"this.style.backgroundColor='#9D6CFF'\" onclick=\"window.commands?.execute('create-mitosheet-from-dataframe-output');\">See Full Dataframe in Mito</div> <script> if (window.commands.hasCommand('create-mitosheet-from-dataframe-output')) document.getElementById('4fbf0ada-e33a-498b-a9c9-318f88ad6a29').style.display = 'flex' </script> <table border=\"1\" class=\"dataframe\">\n",
       "  <thead>\n",
       "    <tr style=\"text-align: right;\">\n",
       "      <th></th>\n",
       "      <th>bedcnt</th>\n",
       "      <th>count</th>\n",
       "    </tr>\n",
       "  </thead>\n",
       "  <tbody>\n",
       "    <tr>\n",
       "      <th>0</th>\n",
       "      <td>3.0</td>\n",
       "      <td>30435</td>\n",
       "    </tr>\n",
       "    <tr>\n",
       "      <th>1</th>\n",
       "      <td>2.0</td>\n",
       "      <td>19222</td>\n",
       "    </tr>\n",
       "    <tr>\n",
       "      <th>2</th>\n",
       "      <td>4.0</td>\n",
       "      <td>17549</td>\n",
       "    </tr>\n",
       "    <tr>\n",
       "      <th>3</th>\n",
       "      <td>5.0</td>\n",
       "      <td>4550</td>\n",
       "    </tr>\n",
       "    <tr>\n",
       "      <th>4</th>\n",
       "      <td>1.0</td>\n",
       "      <td>3391</td>\n",
       "    </tr>\n",
       "    <tr>\n",
       "      <th>...</th>\n",
       "      <td>...</td>\n",
       "      <td>...</td>\n",
       "    </tr>\n",
       "    <tr>\n",
       "      <th>11</th>\n",
       "      <td>12.0</td>\n",
       "      <td>16</td>\n",
       "    </tr>\n",
       "    <tr>\n",
       "      <th>12</th>\n",
       "      <td>11.0</td>\n",
       "      <td>9</td>\n",
       "    </tr>\n",
       "    <tr>\n",
       "      <th>13</th>\n",
       "      <td>13.0</td>\n",
       "      <td>2</td>\n",
       "    </tr>\n",
       "    <tr>\n",
       "      <th>14</th>\n",
       "      <td>14.0</td>\n",
       "      <td>1</td>\n",
       "    </tr>\n",
       "    <tr>\n",
       "      <th>15</th>\n",
       "      <td>16.0</td>\n",
       "      <td>1</td>\n",
       "    </tr>\n",
       "  </tbody>\n",
       "</table></div>"
      ],
      "text/plain": [
       "    bedcnt  count\n",
       "0      3.0  30435\n",
       "1      2.0  19222\n",
       "2      4.0  17549\n",
       "3      5.0   4550\n",
       "4      1.0   3391\n",
       "5      6.0   1000\n",
       "6      0.0    836\n",
       "7      8.0    253\n",
       "8      7.0    208\n",
       "9      9.0     70\n",
       "10    10.0     31\n",
       "11    12.0     16\n",
       "12    11.0      9\n",
       "13    13.0      2\n",
       "14    14.0      1\n",
       "15    16.0      1"
      ]
     },
     "execution_count": 22,
     "metadata": {},
     "output_type": "execute_result"
    }
   ],
   "source": [
    "# looking to see where a good cutoff will be to filter out bedroom count\n",
    "#     creating a df of the counts of each bedroomct value\n",
    "\n",
    "bedcnt_df = pd.DataFrame(zillow_data.bedroomcnt.value_counts(dropna = False)).reset_index()\\\n",
    ".rename(columns = {'index': 'bedcnt', 'bedroomcnt': 'count'})\n",
    "bedcnt_df"
   ]
  },
  {
   "cell_type": "code",
   "execution_count": 23,
   "id": "f4254d5e",
   "metadata": {},
   "outputs": [
    {
     "data": {
      "text/plain": [
       "<AxesSubplot:>"
      ]
     },
     "execution_count": 23,
     "metadata": {},
     "output_type": "execute_result"
    },
    {
     "data": {
      "image/png": "[encoded data removed]",
      "text/plain": [
       "<Figure size 432x288 with 1 Axes>"
      ]
     },
     "metadata": {
      "needs_background": "light"
     },
     "output_type": "display_data"
    }
   ],
   "source": [
    "bedcnt_df.plot()"
   ]
  },
  {
   "cell_type": "markdown",
   "id": "280f04d9",
   "metadata": {},
   "source": [
    "***woooooah***\n",
    "### scaling the bedroom count, the range is so high that the count of each looks like a flat line"
   ]
  },
  {
   "cell_type": "code",
   "execution_count": 24,
   "id": "06bd7bb7",
   "metadata": {},
   "outputs": [
    {
     "data": {
      "text/html": [
       "<div><div id=d38e21c4-c8d5-4bf7-97a3-1385a2a78fb7 style=\"display:none; background-color:#9D6CFF; color:white; width:200px; height:30px; padding-left:5px; border-radius:4px; flex-direction:row; justify-content:space-around; align-items:center;\" onmouseover=\"this.style.backgroundColor='#BA9BF8'\" onmouseout=\"this.style.backgroundColor='#9D6CFF'\" onclick=\"window.commands?.execute('create-mitosheet-from-dataframe-output');\">See Full Dataframe in Mito</div> <script> if (window.commands.hasCommand('create-mitosheet-from-dataframe-output')) document.getElementById('d38e21c4-c8d5-4bf7-97a3-1385a2a78fb7').style.display = 'flex' </script> <table border=\"1\" class=\"dataframe\">\n",
       "  <thead>\n",
       "    <tr style=\"text-align: right;\">\n",
       "      <th></th>\n",
       "      <th>bedcnt</th>\n",
       "      <th>count</th>\n",
       "    </tr>\n",
       "  </thead>\n",
       "  <tbody>\n",
       "    <tr>\n",
       "      <th>0</th>\n",
       "      <td>3.0</td>\n",
       "      <td>30435</td>\n",
       "    </tr>\n",
       "    <tr>\n",
       "      <th>1</th>\n",
       "      <td>2.0</td>\n",
       "      <td>19222</td>\n",
       "    </tr>\n",
       "    <tr>\n",
       "      <th>2</th>\n",
       "      <td>4.0</td>\n",
       "      <td>17549</td>\n",
       "    </tr>\n",
       "    <tr>\n",
       "      <th>3</th>\n",
       "      <td>5.0</td>\n",
       "      <td>4550</td>\n",
       "    </tr>\n",
       "    <tr>\n",
       "      <th>4</th>\n",
       "      <td>1.0</td>\n",
       "      <td>3391</td>\n",
       "    </tr>\n",
       "    <tr>\n",
       "      <th>...</th>\n",
       "      <td>...</td>\n",
       "      <td>...</td>\n",
       "    </tr>\n",
       "    <tr>\n",
       "      <th>11</th>\n",
       "      <td>12.0</td>\n",
       "      <td>16</td>\n",
       "    </tr>\n",
       "    <tr>\n",
       "      <th>12</th>\n",
       "      <td>11.0</td>\n",
       "      <td>9</td>\n",
       "    </tr>\n",
       "    <tr>\n",
       "      <th>13</th>\n",
       "      <td>13.0</td>\n",
       "      <td>2</td>\n",
       "    </tr>\n",
       "    <tr>\n",
       "      <th>14</th>\n",
       "      <td>14.0</td>\n",
       "      <td>1</td>\n",
       "    </tr>\n",
       "    <tr>\n",
       "      <th>15</th>\n",
       "      <td>16.0</td>\n",
       "      <td>1</td>\n",
       "    </tr>\n",
       "  </tbody>\n",
       "</table></div>"
      ],
      "text/plain": [
       "    bedcnt  count\n",
       "0      3.0  30435\n",
       "1      2.0  19222\n",
       "2      4.0  17549\n",
       "3      5.0   4550\n",
       "4      1.0   3391\n",
       "5      6.0   1000\n",
       "6      0.0    836\n",
       "7      8.0    253\n",
       "8      7.0    208\n",
       "9      9.0     70\n",
       "10    10.0     31\n",
       "11    12.0     16\n",
       "12    11.0      9\n",
       "13    13.0      2\n",
       "14    14.0      1\n",
       "15    16.0      1"
      ]
     },
     "execution_count": 24,
     "metadata": {},
     "output_type": "execute_result"
    }
   ],
   "source": [
    "bedcnt_df"
   ]
  },
  {
   "cell_type": "code",
   "execution_count": 25,
   "id": "0532efba",
   "metadata": {},
   "outputs": [],
   "source": [
    "# using the minmaxscaler \n",
    "from sklearn.preprocessing import MinMaxScaler\n",
    "\n",
    "scaler = MinMaxScaler()\n",
    "\n",
    "scaled_df = scaler.fit_transform(bedcnt_df)"
   ]
  },
  {
   "cell_type": "code",
   "execution_count": 26,
   "id": "958ed1c6",
   "metadata": {},
   "outputs": [],
   "source": [
    "bedcnt_df['scaled_count'] = pd.DataFrame(scaled_df)[1]"
   ]
  },
  {
   "cell_type": "code",
   "execution_count": 27,
   "id": "d4f732c9",
   "metadata": {},
   "outputs": [
    {
     "data": {
      "text/html": [
       "<div><div id=f871279a-10b7-4bc5-8828-eb4f6d65a158 style=\"display:none; background-color:#9D6CFF; color:white; width:200px; height:30px; padding-left:5px; border-radius:4px; flex-direction:row; justify-content:space-around; align-items:center;\" onmouseover=\"this.style.backgroundColor='#BA9BF8'\" onmouseout=\"this.style.backgroundColor='#9D6CFF'\" onclick=\"window.commands?.execute('create-mitosheet-from-dataframe-output');\">See Full Dataframe in Mito</div> <script> if (window.commands.hasCommand('create-mitosheet-from-dataframe-output')) document.getElementById('f871279a-10b7-4bc5-8828-eb4f6d65a158').style.display = 'flex' </script> <table border=\"1\" class=\"dataframe\">\n",
       "  <thead>\n",
       "    <tr style=\"text-align: right;\">\n",
       "      <th></th>\n",
       "      <th>bedcnt</th>\n",
       "      <th>count</th>\n",
       "      <th>scaled_count</th>\n",
       "    </tr>\n",
       "  </thead>\n",
       "  <tbody>\n",
       "    <tr>\n",
       "      <th>0</th>\n",
       "      <td>3.0</td>\n",
       "      <td>30435</td>\n",
       "      <td>1.000000</td>\n",
       "    </tr>\n",
       "    <tr>\n",
       "      <th>1</th>\n",
       "      <td>2.0</td>\n",
       "      <td>19222</td>\n",
       "      <td>0.631563</td>\n",
       "    </tr>\n",
       "    <tr>\n",
       "      <th>2</th>\n",
       "      <td>4.0</td>\n",
       "      <td>17549</td>\n",
       "      <td>0.576592</td>\n",
       "    </tr>\n",
       "    <tr>\n",
       "      <th>3</th>\n",
       "      <td>5.0</td>\n",
       "      <td>4550</td>\n",
       "      <td>0.149471</td>\n",
       "    </tr>\n",
       "    <tr>\n",
       "      <th>4</th>\n",
       "      <td>1.0</td>\n",
       "      <td>3391</td>\n",
       "      <td>0.111389</td>\n",
       "    </tr>\n",
       "    <tr>\n",
       "      <th>...</th>\n",
       "      <td>...</td>\n",
       "      <td>...</td>\n",
       "      <td>...</td>\n",
       "    </tr>\n",
       "    <tr>\n",
       "      <th>11</th>\n",
       "      <td>12.0</td>\n",
       "      <td>16</td>\n",
       "      <td>0.000493</td>\n",
       "    </tr>\n",
       "    <tr>\n",
       "      <th>12</th>\n",
       "      <td>11.0</td>\n",
       "      <td>9</td>\n",
       "      <td>0.000263</td>\n",
       "    </tr>\n",
       "    <tr>\n",
       "      <th>13</th>\n",
       "      <td>13.0</td>\n",
       "      <td>2</td>\n",
       "      <td>0.000033</td>\n",
       "    </tr>\n",
       "    <tr>\n",
       "      <th>14</th>\n",
       "      <td>14.0</td>\n",
       "      <td>1</td>\n",
       "      <td>0.000000</td>\n",
       "    </tr>\n",
       "    <tr>\n",
       "      <th>15</th>\n",
       "      <td>16.0</td>\n",
       "      <td>1</td>\n",
       "      <td>0.000000</td>\n",
       "    </tr>\n",
       "  </tbody>\n",
       "</table></div>"
      ],
      "text/plain": [
       "    bedcnt  count  scaled_count\n",
       "0      3.0  30435      1.000000\n",
       "1      2.0  19222      0.631563\n",
       "2      4.0  17549      0.576592\n",
       "3      5.0   4550      0.149471\n",
       "4      1.0   3391      0.111389\n",
       "5      6.0   1000      0.032825\n",
       "6      0.0    836      0.027436\n",
       "7      8.0    253      0.008280\n",
       "8      7.0    208      0.006802\n",
       "9      9.0     70      0.002267\n",
       "10    10.0     31      0.000986\n",
       "11    12.0     16      0.000493\n",
       "12    11.0      9      0.000263\n",
       "13    13.0      2      0.000033\n",
       "14    14.0      1      0.000000\n",
       "15    16.0      1      0.000000"
      ]
     },
     "execution_count": 27,
     "metadata": {},
     "output_type": "execute_result"
    }
   ],
   "source": [
    "bedcnt_df"
   ]
  },
  {
   "cell_type": "code",
   "execution_count": 28,
   "id": "96fde77e",
   "metadata": {},
   "outputs": [
    {
     "data": {
      "text/plain": [
       "77574"
      ]
     },
     "execution_count": 28,
     "metadata": {},
     "output_type": "execute_result"
    }
   ],
   "source": [
    "bedcnt_df['count'].sum()"
   ]
  },
  {
   "cell_type": "code",
   "execution_count": 29,
   "id": "7623349a",
   "metadata": {},
   "outputs": [],
   "source": [
    "bedcnt_df['pct_of_total_count'] = bedcnt_df['count'] / bedcnt_df['count'].sum() * 100\n",
    "\n",
    "# bedcnt_df['pct_total'] = "
   ]
  },
  {
   "cell_type": "code",
   "execution_count": 30,
   "id": "c7c24a72",
   "metadata": {},
   "outputs": [
    {
     "data": {
      "text/html": [
       "<div><div id=e615abaa-d94a-4554-b2a5-1150318bb4ca style=\"display:none; background-color:#9D6CFF; color:white; width:200px; height:30px; padding-left:5px; border-radius:4px; flex-direction:row; justify-content:space-around; align-items:center;\" onmouseover=\"this.style.backgroundColor='#BA9BF8'\" onmouseout=\"this.style.backgroundColor='#9D6CFF'\" onclick=\"window.commands?.execute('create-mitosheet-from-dataframe-output');\">See Full Dataframe in Mito</div> <script> if (window.commands.hasCommand('create-mitosheet-from-dataframe-output')) document.getElementById('e615abaa-d94a-4554-b2a5-1150318bb4ca').style.display = 'flex' </script> <table border=\"1\" class=\"dataframe\">\n",
       "  <thead>\n",
       "    <tr style=\"text-align: right;\">\n",
       "      <th></th>\n",
       "      <th>bedcnt</th>\n",
       "      <th>count</th>\n",
       "      <th>scaled_count</th>\n",
       "      <th>pct_of_total_count</th>\n",
       "    </tr>\n",
       "  </thead>\n",
       "  <tbody>\n",
       "    <tr>\n",
       "      <th>0</th>\n",
       "      <td>3.0</td>\n",
       "      <td>30435</td>\n",
       "      <td>1.000000</td>\n",
       "      <td>39.233506</td>\n",
       "    </tr>\n",
       "    <tr>\n",
       "      <th>1</th>\n",
       "      <td>2.0</td>\n",
       "      <td>19222</td>\n",
       "      <td>0.631563</td>\n",
       "      <td>24.778921</td>\n",
       "    </tr>\n",
       "    <tr>\n",
       "      <th>2</th>\n",
       "      <td>4.0</td>\n",
       "      <td>17549</td>\n",
       "      <td>0.576592</td>\n",
       "      <td>22.622270</td>\n",
       "    </tr>\n",
       "    <tr>\n",
       "      <th>3</th>\n",
       "      <td>5.0</td>\n",
       "      <td>4550</td>\n",
       "      <td>0.149471</td>\n",
       "      <td>5.865367</td>\n",
       "    </tr>\n",
       "    <tr>\n",
       "      <th>4</th>\n",
       "      <td>1.0</td>\n",
       "      <td>3391</td>\n",
       "      <td>0.111389</td>\n",
       "      <td>4.371310</td>\n",
       "    </tr>\n",
       "    <tr>\n",
       "      <th>...</th>\n",
       "      <td>...</td>\n",
       "      <td>...</td>\n",
       "      <td>...</td>\n",
       "      <td>...</td>\n",
       "    </tr>\n",
       "    <tr>\n",
       "      <th>11</th>\n",
       "      <td>12.0</td>\n",
       "      <td>16</td>\n",
       "      <td>0.000493</td>\n",
       "      <td>0.020625</td>\n",
       "    </tr>\n",
       "    <tr>\n",
       "      <th>12</th>\n",
       "      <td>11.0</td>\n",
       "      <td>9</td>\n",
       "      <td>0.000263</td>\n",
       "      <td>0.011602</td>\n",
       "    </tr>\n",
       "    <tr>\n",
       "      <th>13</th>\n",
       "      <td>13.0</td>\n",
       "      <td>2</td>\n",
       "      <td>0.000033</td>\n",
       "      <td>0.002578</td>\n",
       "    </tr>\n",
       "    <tr>\n",
       "      <th>14</th>\n",
       "      <td>14.0</td>\n",
       "      <td>1</td>\n",
       "      <td>0.000000</td>\n",
       "      <td>0.001289</td>\n",
       "    </tr>\n",
       "    <tr>\n",
       "      <th>15</th>\n",
       "      <td>16.0</td>\n",
       "      <td>1</td>\n",
       "      <td>0.000000</td>\n",
       "      <td>0.001289</td>\n",
       "    </tr>\n",
       "  </tbody>\n",
       "</table></div>"
      ],
      "text/plain": [
       "    bedcnt  count  scaled_count  pct_of_total_count\n",
       "0      3.0  30435      1.000000           39.233506\n",
       "1      2.0  19222      0.631563           24.778921\n",
       "2      4.0  17549      0.576592           22.622270\n",
       "3      5.0   4550      0.149471            5.865367\n",
       "4      1.0   3391      0.111389            4.371310\n",
       "5      6.0   1000      0.032825            1.289092\n",
       "6      0.0    836      0.027436            1.077681\n",
       "7      8.0    253      0.008280            0.326140\n",
       "8      7.0    208      0.006802            0.268131\n",
       "9      9.0     70      0.002267            0.090236\n",
       "10    10.0     31      0.000986            0.039962\n",
       "11    12.0     16      0.000493            0.020625\n",
       "12    11.0      9      0.000263            0.011602\n",
       "13    13.0      2      0.000033            0.002578\n",
       "14    14.0      1      0.000000            0.001289\n",
       "15    16.0      1      0.000000            0.001289"
      ]
     },
     "execution_count": 30,
     "metadata": {},
     "output_type": "execute_result"
    }
   ],
   "source": [
    "bedcnt_df"
   ]
  },
  {
   "cell_type": "code",
   "execution_count": 31,
   "id": "512ed512",
   "metadata": {},
   "outputs": [
    {
     "data": {
      "image/png": "[encoded data removed]",
      "text/plain": [
       "<Figure size 432x288 with 1 Axes>"
      ]
     },
     "metadata": {
      "needs_background": "light"
     },
     "output_type": "display_data"
    }
   ],
   "source": [
    "bedcnt_df.plot()\n",
    "plt.show()"
   ]
  },
  {
   "cell_type": "code",
   "execution_count": 32,
   "id": "5d308bc2",
   "metadata": {},
   "outputs": [
    {
     "data": {
      "text/plain": [
       "<AxesSubplot:>"
      ]
     },
     "execution_count": 32,
     "metadata": {},
     "output_type": "execute_result"
    },
    {
     "data": {
      "image/png": "[encoded data removed]",
      "text/plain": [
       "<Figure size 432x288 with 1 Axes>"
      ]
     },
     "metadata": {
      "needs_background": "light"
     },
     "output_type": "display_data"
    }
   ],
   "source": [
    "bedcnt_df.drop(columns = ['count']).plot()\n"
   ]
  },
  {
   "cell_type": "markdown",
   "id": "2fd872fb",
   "metadata": {},
   "source": [
    ">### 5 bedrooms appears to be a good cutoff for filtering out bedcnt and not losing too much data"
   ]
  },
  {
   "cell_type": "markdown",
   "id": "3bd4bb6a",
   "metadata": {},
   "source": [
    "#### Let's take a look at `propertylandusetypeid`"
   ]
  },
  {
   "cell_type": "code",
   "execution_count": 36,
   "id": "f1fd114b",
   "metadata": {
    "scrolled": true
   },
   "outputs": [
    {
     "data": {
      "text/html": [
       "<div><div id=2179c8b4-fdf2-415e-bbd7-04c86c6135e3 style=\"display:none; background-color:#9D6CFF; color:white; width:200px; height:30px; padding-left:5px; border-radius:4px; flex-direction:row; justify-content:space-around; align-items:center;\" onmouseover=\"this.style.backgroundColor='#BA9BF8'\" onmouseout=\"this.style.backgroundColor='#9D6CFF'\" onclick=\"window.commands?.execute('create-mitosheet-from-dataframe-output');\">See Full Dataframe in Mito</div> <script> if (window.commands.hasCommand('create-mitosheet-from-dataframe-output')) document.getElementById('2179c8b4-fdf2-415e-bbd7-04c86c6135e3').style.display = 'flex' </script> <table border=\"1\" class=\"dataframe\">\n",
       "  <thead>\n",
       "    <tr style=\"text-align: right;\">\n",
       "      <th>propertylandusetypeid</th>\n",
       "      <th>31.0</th>\n",
       "      <th>246.0</th>\n",
       "      <th>247.0</th>\n",
       "      <th>248.0</th>\n",
       "      <th>260.0</th>\n",
       "      <th>261.0</th>\n",
       "      <th>263.0</th>\n",
       "      <th>264.0</th>\n",
       "      <th>265.0</th>\n",
       "      <th>266.0</th>\n",
       "      <th>267.0</th>\n",
       "      <th>269.0</th>\n",
       "      <th>275.0</th>\n",
       "    </tr>\n",
       "    <tr>\n",
       "      <th>propertylandusedesc</th>\n",
       "      <th></th>\n",
       "      <th></th>\n",
       "      <th></th>\n",
       "      <th></th>\n",
       "      <th></th>\n",
       "      <th></th>\n",
       "      <th></th>\n",
       "      <th></th>\n",
       "      <th></th>\n",
       "      <th></th>\n",
       "      <th></th>\n",
       "      <th></th>\n",
       "      <th></th>\n",
       "    </tr>\n",
       "  </thead>\n",
       "  <tbody>\n",
       "    <tr>\n",
       "      <th>Cluster Home</th>\n",
       "      <td>0</td>\n",
       "      <td>0</td>\n",
       "      <td>0</td>\n",
       "      <td>0</td>\n",
       "      <td>0</td>\n",
       "      <td>0</td>\n",
       "      <td>0</td>\n",
       "      <td>0</td>\n",
       "      <td>335</td>\n",
       "      <td>0</td>\n",
       "      <td>0</td>\n",
       "      <td>0</td>\n",
       "      <td>0</td>\n",
       "    </tr>\n",
       "    <tr>\n",
       "      <th>Commercial/Office/Residential Mixed Used</th>\n",
       "      <td>15</td>\n",
       "      <td>0</td>\n",
       "      <td>0</td>\n",
       "      <td>0</td>\n",
       "      <td>0</td>\n",
       "      <td>0</td>\n",
       "      <td>0</td>\n",
       "      <td>0</td>\n",
       "      <td>0</td>\n",
       "      <td>0</td>\n",
       "      <td>0</td>\n",
       "      <td>0</td>\n",
       "      <td>0</td>\n",
       "    </tr>\n",
       "    <tr>\n",
       "      <th>Condominium</th>\n",
       "      <td>0</td>\n",
       "      <td>0</td>\n",
       "      <td>0</td>\n",
       "      <td>0</td>\n",
       "      <td>0</td>\n",
       "      <td>0</td>\n",
       "      <td>0</td>\n",
       "      <td>0</td>\n",
       "      <td>0</td>\n",
       "      <td>19341</td>\n",
       "      <td>0</td>\n",
       "      <td>0</td>\n",
       "      <td>0</td>\n",
       "    </tr>\n",
       "    <tr>\n",
       "      <th>Cooperative</th>\n",
       "      <td>0</td>\n",
       "      <td>0</td>\n",
       "      <td>0</td>\n",
       "      <td>0</td>\n",
       "      <td>0</td>\n",
       "      <td>0</td>\n",
       "      <td>0</td>\n",
       "      <td>0</td>\n",
       "      <td>0</td>\n",
       "      <td>0</td>\n",
       "      <td>29</td>\n",
       "      <td>0</td>\n",
       "      <td>0</td>\n",
       "    </tr>\n",
       "    <tr>\n",
       "      <th>Duplex (2 Units, Any Combination)</th>\n",
       "      <td>0</td>\n",
       "      <td>2021</td>\n",
       "      <td>0</td>\n",
       "      <td>0</td>\n",
       "      <td>0</td>\n",
       "      <td>0</td>\n",
       "      <td>0</td>\n",
       "      <td>0</td>\n",
       "      <td>0</td>\n",
       "      <td>0</td>\n",
       "      <td>0</td>\n",
       "      <td>0</td>\n",
       "      <td>0</td>\n",
       "    </tr>\n",
       "    <tr>\n",
       "      <th>Manufactured, Modular, Prefabricated Homes</th>\n",
       "      <td>0</td>\n",
       "      <td>0</td>\n",
       "      <td>0</td>\n",
       "      <td>0</td>\n",
       "      <td>0</td>\n",
       "      <td>0</td>\n",
       "      <td>0</td>\n",
       "      <td>0</td>\n",
       "      <td>0</td>\n",
       "      <td>0</td>\n",
       "      <td>0</td>\n",
       "      <td>0</td>\n",
       "      <td>59</td>\n",
       "    </tr>\n",
       "    <tr>\n",
       "      <th>Mobile Home</th>\n",
       "      <td>0</td>\n",
       "      <td>0</td>\n",
       "      <td>0</td>\n",
       "      <td>0</td>\n",
       "      <td>0</td>\n",
       "      <td>0</td>\n",
       "      <td>74</td>\n",
       "      <td>0</td>\n",
       "      <td>0</td>\n",
       "      <td>0</td>\n",
       "      <td>0</td>\n",
       "      <td>0</td>\n",
       "      <td>0</td>\n",
       "    </tr>\n",
       "    <tr>\n",
       "      <th>Planned Unit Development</th>\n",
       "      <td>0</td>\n",
       "      <td>0</td>\n",
       "      <td>0</td>\n",
       "      <td>0</td>\n",
       "      <td>0</td>\n",
       "      <td>0</td>\n",
       "      <td>0</td>\n",
       "      <td>0</td>\n",
       "      <td>0</td>\n",
       "      <td>0</td>\n",
       "      <td>0</td>\n",
       "      <td>1947</td>\n",
       "      <td>0</td>\n",
       "    </tr>\n",
       "    <tr>\n",
       "      <th>Quadruplex (4 Units, Any Combination)</th>\n",
       "      <td>0</td>\n",
       "      <td>0</td>\n",
       "      <td>0</td>\n",
       "      <td>729</td>\n",
       "      <td>0</td>\n",
       "      <td>0</td>\n",
       "      <td>0</td>\n",
       "      <td>0</td>\n",
       "      <td>0</td>\n",
       "      <td>0</td>\n",
       "      <td>0</td>\n",
       "      <td>0</td>\n",
       "      <td>0</td>\n",
       "    </tr>\n",
       "    <tr>\n",
       "      <th>Residential General</th>\n",
       "      <td>0</td>\n",
       "      <td>0</td>\n",
       "      <td>0</td>\n",
       "      <td>0</td>\n",
       "      <td>41</td>\n",
       "      <td>0</td>\n",
       "      <td>0</td>\n",
       "      <td>0</td>\n",
       "      <td>0</td>\n",
       "      <td>0</td>\n",
       "      <td>0</td>\n",
       "      <td>0</td>\n",
       "      <td>0</td>\n",
       "    </tr>\n",
       "    <tr>\n",
       "      <th>Single Family Residential</th>\n",
       "      <td>0</td>\n",
       "      <td>0</td>\n",
       "      <td>0</td>\n",
       "      <td>0</td>\n",
       "      <td>0</td>\n",
       "      <td>52438</td>\n",
       "      <td>0</td>\n",
       "      <td>0</td>\n",
       "      <td>0</td>\n",
       "      <td>0</td>\n",
       "      <td>0</td>\n",
       "      <td>0</td>\n",
       "      <td>0</td>\n",
       "    </tr>\n",
       "    <tr>\n",
       "      <th>Townhouse</th>\n",
       "      <td>0</td>\n",
       "      <td>0</td>\n",
       "      <td>0</td>\n",
       "      <td>0</td>\n",
       "      <td>0</td>\n",
       "      <td>0</td>\n",
       "      <td>0</td>\n",
       "      <td>6</td>\n",
       "      <td>0</td>\n",
       "      <td>0</td>\n",
       "      <td>0</td>\n",
       "      <td>0</td>\n",
       "      <td>0</td>\n",
       "    </tr>\n",
       "    <tr>\n",
       "      <th>Triplex (3 Units, Any Combination)</th>\n",
       "      <td>0</td>\n",
       "      <td>0</td>\n",
       "      <td>539</td>\n",
       "      <td>0</td>\n",
       "      <td>0</td>\n",
       "      <td>0</td>\n",
       "      <td>0</td>\n",
       "      <td>0</td>\n",
       "      <td>0</td>\n",
       "      <td>0</td>\n",
       "      <td>0</td>\n",
       "      <td>0</td>\n",
       "      <td>0</td>\n",
       "    </tr>\n",
       "  </tbody>\n",
       "</table></div>"
      ],
      "text/plain": [
       "propertylandusetypeid                       31.0   246.0  247.0  248.0  260.0  \\\n",
       "propertylandusedesc                                                             \n",
       "Cluster Home                                    0      0      0      0      0   \n",
       "Commercial/Office/Residential Mixed Used       15      0      0      0      0   \n",
       "Condominium                                     0      0      0      0      0   \n",
       "Cooperative                                     0      0      0      0      0   \n",
       "Duplex (2 Units, Any Combination)               0   2021      0      0      0   \n",
       "Manufactured, Modular, Prefabricated Homes      0      0      0      0      0   \n",
       "Mobile Home                                     0      0      0      0      0   \n",
       "Planned Unit Development                        0      0      0      0      0   \n",
       "Quadruplex (4 Units, Any Combination)           0      0      0    729      0   \n",
       "Residential General                             0      0      0      0     41   \n",
       "Single Family Residential                       0      0      0      0      0   \n",
       "Townhouse                                       0      0      0      0      0   \n",
       "Triplex (3 Units, Any Combination)              0      0    539      0      0   \n",
       "\n",
       "propertylandusetypeid                       261.0  263.0  264.0  265.0  266.0  \\\n",
       "propertylandusedesc                                                             \n",
       "Cluster Home                                    0      0      0    335      0   \n",
       "Commercial/Office/Residential Mixed Used        0      0      0      0      0   \n",
       "Condominium                                     0      0      0      0  19341   \n",
       "Cooperative                                     0      0      0      0      0   \n",
       "Duplex (2 Units, Any Combination)               0      0      0      0      0   \n",
       "Manufactured, Modular, Prefabricated Homes      0      0      0      0      0   \n",
       "Mobile Home                                     0     74      0      0      0   \n",
       "Planned Unit Development                        0      0      0      0      0   \n",
       "Quadruplex (4 Units, Any Combination)           0      0      0      0      0   \n",
       "Residential General                             0      0      0      0      0   \n",
       "Single Family Residential                   52438      0      0      0      0   \n",
       "Townhouse                                       0      0      6      0      0   \n",
       "Triplex (3 Units, Any Combination)              0      0      0      0      0   \n",
       "\n",
       "propertylandusetypeid                       267.0  269.0  275.0  \n",
       "propertylandusedesc                                              \n",
       "Cluster Home                                    0      0      0  \n",
       "Commercial/Office/Residential Mixed Used        0      0      0  \n",
       "Condominium                                     0      0      0  \n",
       "Cooperative                                    29      0      0  \n",
       "Duplex (2 Units, Any Combination)               0      0      0  \n",
       "Manufactured, Modular, Prefabricated Homes      0      0     59  \n",
       "Mobile Home                                     0      0      0  \n",
       "Planned Unit Development                        0   1947      0  \n",
       "Quadruplex (4 Units, Any Combination)           0      0      0  \n",
       "Residential General                             0      0      0  \n",
       "Single Family Residential                       0      0      0  \n",
       "Townhouse                                       0      0      0  \n",
       "Triplex (3 Units, Any Combination)              0      0      0  "
      ]
     },
     "execution_count": 36,
     "metadata": {},
     "output_type": "execute_result"
    }
   ],
   "source": [
    "pd.set_option(\"min_rows\", 13)\n",
    "# pd.reset_option(\"min_rows\")\n",
    "\n",
    "# cross tab to show which codes belong to which property land use types\n",
    "pd.crosstab(zillow_data.propertylandusetypeid, zillow_data.propertylandusedesc).T"
   ]
  },
  {
   "cell_type": "markdown",
   "id": "bb8d798c",
   "metadata": {},
   "source": [
    ">### `propertylandusetypedescr` I already know I will get rid of based on description:\n",
    "- `Commercial/Office/Residential Mixed Used`\n",
    "- `Cooperative`\n",
    "- `Duplex (2 Units, Any Combination)`\n",
    "- `Manufactured, Modular, Prefabricated Homes`\n",
    "- `Planned Unit Development` \n",
    "- `Quadruplex (4 Units, Any Combination)`\n",
    "- `Townhouse`\n",
    "- `Triplex (3 Units, Any Combination)`\n",
    "\n",
    ">### `propertylandusetypeid` I will keep for now:\n",
    "- 265 `Cluster Home`\n",
    "- 266 `Condominium`\n",
    "- 263 `Mobile Home`\n",
    "- 260 `Residential General`\n",
    "- 261 `Single Family Residential`\n"
   ]
  },
  {
   "cell_type": "code",
   "execution_count": 37,
   "id": "1d0c638a",
   "metadata": {},
   "outputs": [
    {
     "data": {
      "text/plain": [
       "array([ 31.,  31.,  31., ..., 275., 275., 275.])"
      ]
     },
     "execution_count": 37,
     "metadata": {},
     "output_type": "execute_result"
    }
   ],
   "source": [
    "np.sort(zillow_data.propertylandusetypeid)"
   ]
  },
  {
   "cell_type": "code",
   "execution_count": 44,
   "id": "a4f497b0",
   "metadata": {},
   "outputs": [
    {
     "data": {
      "text/plain": [
       "array([260., 261., 263., 265., 266.])"
      ]
     },
     "execution_count": 44,
     "metadata": {},
     "output_type": "execute_result"
    }
   ],
   "source": [
    "np.sort(zillow_data[zillow_data.propertylandusetypeid.isin([260, 261, 263, 265, 266])]\\\n",
    ".propertylandusetypeid.unique())"
   ]
  },
  {
   "cell_type": "code",
   "execution_count": 45,
   "id": "ddc9d453",
   "metadata": {},
   "outputs": [
    {
     "name": "stdout",
     "output_type": "stream",
     "text": [
      "Property Land Type Use ID: 260\n",
      "------------------------------\n",
      "Unit Counts\n",
      "1.0    10\n",
      "4.0     3\n",
      "2.0     1\n",
      "Name: unitcnt, dtype: int64\n",
      "\n",
      "\n",
      "Property Land Type Use ID: 261\n",
      "------------------------------\n",
      "Unit Counts\n",
      "1.0    33816\n",
      "2.0       29\n",
      "3.0        1\n",
      "Name: unitcnt, dtype: int64\n",
      "\n",
      "\n",
      "Property Land Type Use ID: 263\n",
      "------------------------------\n",
      "Unit Counts\n",
      "1.0    53\n",
      "Name: unitcnt, dtype: int64\n",
      "\n",
      "\n",
      "Property Land Type Use ID: 265\n",
      "------------------------------\n",
      "Unit Counts\n",
      "Series([], Name: unitcnt, dtype: int64)\n",
      "\n",
      "\n",
      "Property Land Type Use ID: 266\n",
      "------------------------------\n",
      "Unit Counts\n",
      "1.0    11527\n",
      "2.0        5\n",
      "3.0        2\n",
      "6.0        1\n",
      "Name: unitcnt, dtype: int64\n",
      "\n",
      "\n"
     ]
    }
   ],
   "source": [
    "for num in np.sort(zillow_data[zillow_data.propertylandusetypeid.isin([260, 261, 263, 265, 266])]\\\n",
    ".propertylandusetypeid.unique()):\n",
    "    print(f'Property Land Type Use ID: {num.astype(int)}')\n",
    "    print('-' * len(f'Property Land Type Use ID: {num.astype(int)}'))\n",
    "    print('Unit Counts')\n",
    "    print(zillow_data.unitcnt[zillow_data.propertylandusetypeid == num].value_counts())\n",
    "    print()\n",
    "    print()"
   ]
  },
  {
   "cell_type": "markdown",
   "id": "056550fe",
   "metadata": {},
   "source": [
    ">### testing `prepare` functions from `wrangle.py` file"
   ]
  },
  {
   "cell_type": "code",
   "execution_count": 69,
   "id": "7dfb6d7b",
   "metadata": {},
   "outputs": [],
   "source": [
    "import wrangle"
   ]
  },
  {
   "cell_type": "code",
   "execution_count": 70,
   "id": "daa923ff",
   "metadata": {},
   "outputs": [],
   "source": [
    "zillow_data = wrangle.handle_missing_values(wrangle.one_unit_filters(zillow_data), .5, .7)"
   ]
  },
  {
   "cell_type": "code",
   "execution_count": 72,
   "id": "d155a697",
   "metadata": {},
   "outputs": [
    {
     "data": {
      "text/plain": [
       "(44918, 34)"
      ]
     },
     "execution_count": 72,
     "metadata": {},
     "output_type": "execute_result"
    }
   ],
   "source": [
    "zillow_data.shape"
   ]
  },
  {
   "cell_type": "markdown",
   "id": "ba8231a3",
   "metadata": {},
   "source": [
    "### 2. `handle_missing_values()` function\n",
    "Create a function that will drop rows or columns based on the percent of values that are missing: handle_missing_values(df, prop_required_column, prop_required_row). **`handle_missing_values(df, prop_req_cols, prop_req_rows)`**\n",
    ">The input:\n",
    "- **`df`**A DataFrame\n",
    "- **`prop_req_cols`**A number between 0 and 1 that represents the proportion, for each column, of rows with non-missing values required to keep the column. ***i.e. if prop_required_column = .6, then you are requiring a column to have at least 60% of values not-NA (no more than 40% missing).***\n",
    "- **`prop_req_rows`** A number between 0 and 1 that represents the proportion, for each row, of columns/variables with non-missing values required to keep the row. For example, if prop_required_row = .75, then you are requiring a row to have at least 75% of variables with a non-missing value (no more that 25% missing).\n",
    "\n",
    ">The output:\n",
    "- The dataframe with the columns and rows dropped as indicated. Be sure to drop the columns prior to the rows in your function.\n",
    "\n",
    ">*Hint*\n",
    "- *Look up dropna documentation*\n",
    "- *Make use of inplace, i.e. `inplace=True/False`.*"
   ]
  },
  {
   "cell_type": "code",
   "execution_count": 61,
   "id": "c98a38e2",
   "metadata": {},
   "outputs": [
    {
     "data": {
      "text/plain": [
       "int"
      ]
     },
     "execution_count": 61,
     "metadata": {},
     "output_type": "execute_result"
    }
   ],
   "source": [
    "type(round(.6 * len(zillow_data.index)))"
   ]
  },
  {
   "cell_type": "code",
   "execution_count": null,
   "id": "262b6f28",
   "metadata": {},
   "outputs": [],
   "source": []
  },
  {
   "cell_type": "code",
   "execution_count": 62,
   "id": "dedab7e9",
   "metadata": {},
   "outputs": [],
   "source": [
    "def handle_missing_values(df, prop_req_cols, prop_req_rows):\n",
    "    '''\n",
    "THIS FUNCTION TAKES IN A DATAFRAME AND REMOVES NULL VALUES FROM COLUMNS AND THEN ROWS USING THE \n",
    "RESPECTIVE PROPORTIONS FED INTO IT USING THE DROPNA() FUNCTION.\n",
    "    '''\n",
    "    \n",
    "    # to get the minimum non-null value threshold for keeping for keeping a column\n",
    "    # a column must have at least this many non null values to be kept in the final df\n",
    "    threshold = round(prop_req_cols * len(df.index))\n",
    "    \n",
    "    # takes in the above threshold and completes permanent drop of columns with less than\n",
    "    # that many non null values\n",
    "    df.dropna(axis =1, thresh = threshold, inplace = True)\n",
    "    \n",
    "    # to get the minimum non-null value threshold for keeping for keeping a row\n",
    "    # a row must have at least this many non null values to be kept in the final df\n",
    "    threshold = round(prop_req_rows * len(df.columns))\n",
    "    \n",
    "    # takes in the above threshold and completes permanent drop of columns with less than\n",
    "    # that many non null values\n",
    "    df.dropna(axis = 0, thresh = threshold, inplace = True)\n",
    "    \n",
    "    return df    "
   ]
  },
  {
   "cell_type": "code",
   "execution_count": 66,
   "id": "1b532405",
   "metadata": {},
   "outputs": [
    {
     "data": {
      "text/html": [
       "<div><div id=79ea3f52-2f9c-4a95-b619-65828a9d685e style=\"display:none; background-color:#9D6CFF; color:white; width:200px; height:30px; padding-left:5px; border-radius:4px; flex-direction:row; justify-content:space-around; align-items:center;\" onmouseover=\"this.style.backgroundColor='#BA9BF8'\" onmouseout=\"this.style.backgroundColor='#9D6CFF'\" onclick=\"window.commands?.execute('create-mitosheet-from-dataframe-output');\">See Full Dataframe in Mito</div> <script> if (window.commands.hasCommand('create-mitosheet-from-dataframe-output')) document.getElementById('79ea3f52-2f9c-4a95-b619-65828a9d685e').style.display = 'flex' </script> <table border=\"1\" class=\"dataframe\">\n",
       "  <thead>\n",
       "    <tr style=\"text-align: right;\">\n",
       "      <th></th>\n",
       "      <th>id</th>\n",
       "      <th>parcelid</th>\n",
       "      <th>bathroomcnt</th>\n",
       "      <th>bedroomcnt</th>\n",
       "      <th>buildingqualitytypeid</th>\n",
       "      <th>calculatedbathnbr</th>\n",
       "      <th>calculatedfinishedsquarefeet</th>\n",
       "      <th>finishedsquarefeet12</th>\n",
       "      <th>fips</th>\n",
       "      <th>fullbathcnt</th>\n",
       "      <th>...</th>\n",
       "      <th>structuretaxvaluedollarcnt</th>\n",
       "      <th>taxvaluedollarcnt</th>\n",
       "      <th>assessmentyear</th>\n",
       "      <th>landtaxvaluedollarcnt</th>\n",
       "      <th>taxamount</th>\n",
       "      <th>censustractandblock</th>\n",
       "      <th>logerror</th>\n",
       "      <th>transactiondate</th>\n",
       "      <th>heatingorsystemdesc</th>\n",
       "      <th>propertylandusedesc</th>\n",
       "    </tr>\n",
       "  </thead>\n",
       "  <tbody>\n",
       "    <tr>\n",
       "      <th>0</th>\n",
       "      <td>1727539</td>\n",
       "      <td>14297519</td>\n",
       "      <td>3.5</td>\n",
       "      <td>4.0</td>\n",
       "      <td>NaN</td>\n",
       "      <td>3.5</td>\n",
       "      <td>3100.0</td>\n",
       "      <td>3100.0</td>\n",
       "      <td>6059.0</td>\n",
       "      <td>3.0</td>\n",
       "      <td>...</td>\n",
       "      <td>485713.0</td>\n",
       "      <td>1023282.0</td>\n",
       "      <td>2016.0</td>\n",
       "      <td>537569.0</td>\n",
       "      <td>11013.72</td>\n",
       "      <td>6.059063e+13</td>\n",
       "      <td>0.025595</td>\n",
       "      <td>2017-01-01</td>\n",
       "      <td>NaN</td>\n",
       "      <td>Single Family Residential</td>\n",
       "    </tr>\n",
       "    <tr>\n",
       "      <th>1</th>\n",
       "      <td>1387261</td>\n",
       "      <td>17052889</td>\n",
       "      <td>1.0</td>\n",
       "      <td>2.0</td>\n",
       "      <td>NaN</td>\n",
       "      <td>1.0</td>\n",
       "      <td>1465.0</td>\n",
       "      <td>1465.0</td>\n",
       "      <td>6111.0</td>\n",
       "      <td>1.0</td>\n",
       "      <td>...</td>\n",
       "      <td>88000.0</td>\n",
       "      <td>464000.0</td>\n",
       "      <td>2016.0</td>\n",
       "      <td>376000.0</td>\n",
       "      <td>5672.48</td>\n",
       "      <td>6.111001e+13</td>\n",
       "      <td>0.055619</td>\n",
       "      <td>2017-01-01</td>\n",
       "      <td>NaN</td>\n",
       "      <td>Single Family Residential</td>\n",
       "    </tr>\n",
       "    <tr>\n",
       "      <th>2</th>\n",
       "      <td>11677</td>\n",
       "      <td>14186244</td>\n",
       "      <td>2.0</td>\n",
       "      <td>3.0</td>\n",
       "      <td>NaN</td>\n",
       "      <td>2.0</td>\n",
       "      <td>1243.0</td>\n",
       "      <td>1243.0</td>\n",
       "      <td>6059.0</td>\n",
       "      <td>2.0</td>\n",
       "      <td>...</td>\n",
       "      <td>85289.0</td>\n",
       "      <td>564778.0</td>\n",
       "      <td>2016.0</td>\n",
       "      <td>479489.0</td>\n",
       "      <td>6488.30</td>\n",
       "      <td>6.059022e+13</td>\n",
       "      <td>0.005383</td>\n",
       "      <td>2017-01-01</td>\n",
       "      <td>NaN</td>\n",
       "      <td>Single Family Residential</td>\n",
       "    </tr>\n",
       "    <tr>\n",
       "      <th>3</th>\n",
       "      <td>2288172</td>\n",
       "      <td>12177905</td>\n",
       "      <td>3.0</td>\n",
       "      <td>4.0</td>\n",
       "      <td>8.0</td>\n",
       "      <td>3.0</td>\n",
       "      <td>2376.0</td>\n",
       "      <td>2376.0</td>\n",
       "      <td>6037.0</td>\n",
       "      <td>3.0</td>\n",
       "      <td>...</td>\n",
       "      <td>108918.0</td>\n",
       "      <td>145143.0</td>\n",
       "      <td>2016.0</td>\n",
       "      <td>36225.0</td>\n",
       "      <td>1777.51</td>\n",
       "      <td>6.037300e+13</td>\n",
       "      <td>-0.103410</td>\n",
       "      <td>2017-01-01</td>\n",
       "      <td>Central</td>\n",
       "      <td>Single Family Residential</td>\n",
       "    </tr>\n",
       "    <tr>\n",
       "      <th>4</th>\n",
       "      <td>1970746</td>\n",
       "      <td>10887214</td>\n",
       "      <td>3.0</td>\n",
       "      <td>3.0</td>\n",
       "      <td>8.0</td>\n",
       "      <td>3.0</td>\n",
       "      <td>1312.0</td>\n",
       "      <td>1312.0</td>\n",
       "      <td>6037.0</td>\n",
       "      <td>3.0</td>\n",
       "      <td>...</td>\n",
       "      <td>73681.0</td>\n",
       "      <td>119407.0</td>\n",
       "      <td>2016.0</td>\n",
       "      <td>45726.0</td>\n",
       "      <td>1533.89</td>\n",
       "      <td>6.037124e+13</td>\n",
       "      <td>0.006940</td>\n",
       "      <td>2017-01-01</td>\n",
       "      <td>Central</td>\n",
       "      <td>Condominium</td>\n",
       "    </tr>\n",
       "    <tr>\n",
       "      <th>...</th>\n",
       "      <td>...</td>\n",
       "      <td>...</td>\n",
       "      <td>...</td>\n",
       "      <td>...</td>\n",
       "      <td>...</td>\n",
       "      <td>...</td>\n",
       "      <td>...</td>\n",
       "      <td>...</td>\n",
       "      <td>...</td>\n",
       "      <td>...</td>\n",
       "      <td>...</td>\n",
       "      <td>...</td>\n",
       "      <td>...</td>\n",
       "      <td>...</td>\n",
       "      <td>...</td>\n",
       "      <td>...</td>\n",
       "      <td>...</td>\n",
       "      <td>...</td>\n",
       "      <td>...</td>\n",
       "      <td>...</td>\n",
       "      <td>...</td>\n",
       "    </tr>\n",
       "    <tr>\n",
       "      <th>77569</th>\n",
       "      <td>2864704</td>\n",
       "      <td>10833991</td>\n",
       "      <td>3.0</td>\n",
       "      <td>3.0</td>\n",
       "      <td>8.0</td>\n",
       "      <td>3.0</td>\n",
       "      <td>1741.0</td>\n",
       "      <td>1741.0</td>\n",
       "      <td>6037.0</td>\n",
       "      <td>3.0</td>\n",
       "      <td>...</td>\n",
       "      <td>265000.0</td>\n",
       "      <td>379000.0</td>\n",
       "      <td>2016.0</td>\n",
       "      <td>114000.0</td>\n",
       "      <td>4685.34</td>\n",
       "      <td>6.037132e+13</td>\n",
       "      <td>-0.002245</td>\n",
       "      <td>2017-09-20</td>\n",
       "      <td>Central</td>\n",
       "      <td>Condominium</td>\n",
       "    </tr>\n",
       "    <tr>\n",
       "      <th>77570</th>\n",
       "      <td>673515</td>\n",
       "      <td>11000655</td>\n",
       "      <td>2.0</td>\n",
       "      <td>2.0</td>\n",
       "      <td>6.0</td>\n",
       "      <td>2.0</td>\n",
       "      <td>1286.0</td>\n",
       "      <td>1286.0</td>\n",
       "      <td>6037.0</td>\n",
       "      <td>2.0</td>\n",
       "      <td>...</td>\n",
       "      <td>70917.0</td>\n",
       "      <td>354621.0</td>\n",
       "      <td>2016.0</td>\n",
       "      <td>283704.0</td>\n",
       "      <td>4478.43</td>\n",
       "      <td>6.037101e+13</td>\n",
       "      <td>0.020615</td>\n",
       "      <td>2017-09-20</td>\n",
       "      <td>Central</td>\n",
       "      <td>Single Family Residential</td>\n",
       "    </tr>\n",
       "    <tr>\n",
       "      <th>77571</th>\n",
       "      <td>2968375</td>\n",
       "      <td>17239384</td>\n",
       "      <td>2.0</td>\n",
       "      <td>4.0</td>\n",
       "      <td>NaN</td>\n",
       "      <td>2.0</td>\n",
       "      <td>1612.0</td>\n",
       "      <td>1612.0</td>\n",
       "      <td>6111.0</td>\n",
       "      <td>2.0</td>\n",
       "      <td>...</td>\n",
       "      <td>50683.0</td>\n",
       "      <td>67205.0</td>\n",
       "      <td>2016.0</td>\n",
       "      <td>16522.0</td>\n",
       "      <td>1107.48</td>\n",
       "      <td>6.111008e+13</td>\n",
       "      <td>0.013209</td>\n",
       "      <td>2017-09-21</td>\n",
       "      <td>NaN</td>\n",
       "      <td>Single Family Residential</td>\n",
       "    </tr>\n",
       "    <tr>\n",
       "      <th>77572</th>\n",
       "      <td>1843709</td>\n",
       "      <td>12773139</td>\n",
       "      <td>1.0</td>\n",
       "      <td>3.0</td>\n",
       "      <td>4.0</td>\n",
       "      <td>1.0</td>\n",
       "      <td>1032.0</td>\n",
       "      <td>1032.0</td>\n",
       "      <td>6037.0</td>\n",
       "      <td>1.0</td>\n",
       "      <td>...</td>\n",
       "      <td>32797.0</td>\n",
       "      <td>49546.0</td>\n",
       "      <td>2016.0</td>\n",
       "      <td>16749.0</td>\n",
       "      <td>876.43</td>\n",
       "      <td>6.037434e+13</td>\n",
       "      <td>0.037129</td>\n",
       "      <td>2017-09-21</td>\n",
       "      <td>Central</td>\n",
       "      <td>Single Family Residential</td>\n",
       "    </tr>\n",
       "    <tr>\n",
       "      <th>77573</th>\n",
       "      <td>1187175</td>\n",
       "      <td>12826780</td>\n",
       "      <td>2.0</td>\n",
       "      <td>3.0</td>\n",
       "      <td>6.0</td>\n",
       "      <td>2.0</td>\n",
       "      <td>1762.0</td>\n",
       "      <td>1762.0</td>\n",
       "      <td>6037.0</td>\n",
       "      <td>2.0</td>\n",
       "      <td>...</td>\n",
       "      <td>140000.0</td>\n",
       "      <td>522000.0</td>\n",
       "      <td>2016.0</td>\n",
       "      <td>382000.0</td>\n",
       "      <td>6317.15</td>\n",
       "      <td>6.037503e+13</td>\n",
       "      <td>0.007204</td>\n",
       "      <td>2017-09-25</td>\n",
       "      <td>Central</td>\n",
       "      <td>Single Family Residential</td>\n",
       "    </tr>\n",
       "  </tbody>\n",
       "</table></div>"
      ],
      "text/plain": [
       "            id  parcelid  bathroomcnt  bedroomcnt  buildingqualitytypeid  \\\n",
       "0      1727539  14297519          3.5         4.0                    NaN   \n",
       "1      1387261  17052889          1.0         2.0                    NaN   \n",
       "2        11677  14186244          2.0         3.0                    NaN   \n",
       "3      2288172  12177905          3.0         4.0                    8.0   \n",
       "4      1970746  10887214          3.0         3.0                    8.0   \n",
       "...        ...       ...          ...         ...                    ...   \n",
       "77569  2864704  10833991          3.0         3.0                    8.0   \n",
       "77570   673515  11000655          2.0         2.0                    6.0   \n",
       "77571  2968375  17239384          2.0         4.0                    NaN   \n",
       "77572  1843709  12773139          1.0         3.0                    4.0   \n",
       "77573  1187175  12826780          2.0         3.0                    6.0   \n",
       "\n",
       "       calculatedbathnbr  calculatedfinishedsquarefeet  finishedsquarefeet12  \\\n",
       "0                    3.5                        3100.0                3100.0   \n",
       "1                    1.0                        1465.0                1465.0   \n",
       "2                    2.0                        1243.0                1243.0   \n",
       "3                    3.0                        2376.0                2376.0   \n",
       "4                    3.0                        1312.0                1312.0   \n",
       "...                  ...                           ...                   ...   \n",
       "77569                3.0                        1741.0                1741.0   \n",
       "77570                2.0                        1286.0                1286.0   \n",
       "77571                2.0                        1612.0                1612.0   \n",
       "77572                1.0                        1032.0                1032.0   \n",
       "77573                2.0                        1762.0                1762.0   \n",
       "\n",
       "         fips  fullbathcnt  ...  structuretaxvaluedollarcnt  \\\n",
       "0      6059.0          3.0  ...                    485713.0   \n",
       "1      6111.0          1.0  ...                     88000.0   \n",
       "2      6059.0          2.0  ...                     85289.0   \n",
       "3      6037.0          3.0  ...                    108918.0   \n",
       "4      6037.0          3.0  ...                     73681.0   \n",
       "...       ...          ...  ...                         ...   \n",
       "77569  6037.0          3.0  ...                    265000.0   \n",
       "77570  6037.0          2.0  ...                     70917.0   \n",
       "77571  6111.0          2.0  ...                     50683.0   \n",
       "77572  6037.0          1.0  ...                     32797.0   \n",
       "77573  6037.0          2.0  ...                    140000.0   \n",
       "\n",
       "       taxvaluedollarcnt  assessmentyear  landtaxvaluedollarcnt taxamount  \\\n",
       "0              1023282.0          2016.0               537569.0  11013.72   \n",
       "1               464000.0          2016.0               376000.0   5672.48   \n",
       "2               564778.0          2016.0               479489.0   6488.30   \n",
       "3               145143.0          2016.0                36225.0   1777.51   \n",
       "4               119407.0          2016.0                45726.0   1533.89   \n",
       "...                  ...             ...                    ...       ...   \n",
       "77569           379000.0          2016.0               114000.0   4685.34   \n",
       "77570           354621.0          2016.0               283704.0   4478.43   \n",
       "77571            67205.0          2016.0                16522.0   1107.48   \n",
       "77572            49546.0          2016.0                16749.0    876.43   \n",
       "77573           522000.0          2016.0               382000.0   6317.15   \n",
       "\n",
       "       censustractandblock  logerror  transactiondate  heatingorsystemdesc  \\\n",
       "0             6.059063e+13  0.025595       2017-01-01                  NaN   \n",
       "1             6.111001e+13  0.055619       2017-01-01                  NaN   \n",
       "2             6.059022e+13  0.005383       2017-01-01                  NaN   \n",
       "3             6.037300e+13 -0.103410       2017-01-01              Central   \n",
       "4             6.037124e+13  0.006940       2017-01-01              Central   \n",
       "...                    ...       ...              ...                  ...   \n",
       "77569         6.037132e+13 -0.002245       2017-09-20              Central   \n",
       "77570         6.037101e+13  0.020615       2017-09-20              Central   \n",
       "77571         6.111008e+13  0.013209       2017-09-21                  NaN   \n",
       "77572         6.037434e+13  0.037129       2017-09-21              Central   \n",
       "77573         6.037503e+13  0.007204       2017-09-25              Central   \n",
       "\n",
       "             propertylandusedesc  \n",
       "0      Single Family Residential  \n",
       "1      Single Family Residential  \n",
       "2      Single Family Residential  \n",
       "3      Single Family Residential  \n",
       "4                    Condominium  \n",
       "...                          ...  \n",
       "77569                Condominium  \n",
       "77570  Single Family Residential  \n",
       "77571  Single Family Residential  \n",
       "77572  Single Family Residential  \n",
       "77573  Single Family Residential  \n",
       "\n",
       "[77498 rows x 34 columns]"
      ]
     },
     "execution_count": 66,
     "metadata": {},
     "output_type": "execute_result"
    }
   ],
   "source": [
    "handle_missing_values(zillow_data, .5, .7)"
   ]
  },
  {
   "cell_type": "markdown",
   "id": "0477e88a",
   "metadata": {},
   "source": [
    "### 3. Decide how to handle remaining missing values\n",
    "- FIll with constant value\n",
    "- Impute with mean, median, mode\n",
    "- Drop row/column"
   ]
  },
  {
   "cell_type": "code",
   "execution_count": 75,
   "id": "8b9887cb",
   "metadata": {},
   "outputs": [
    {
     "data": {
      "text/plain": [
       "lotsizesquarefeet               1157\n",
       "regionidcity                     915\n",
       "heatingorsystemdesc              706\n",
       "heatingorsystemtypeid            706\n",
       "buildingqualitytypeid            457\n",
       "propertyzoningdesc               192\n",
       "censustractandblock              106\n",
       "structuretaxvaluedollarcnt        63\n",
       "calculatedbathnbr                 31\n",
       "fullbathcnt                       31\n",
       "regionidzip                       18\n",
       "finishedsquarefeet12              17\n",
       "yearbuilt                         14\n",
       "calculatedfinishedsquarefeet       6\n",
       "taxamount                          4\n",
       "landtaxvaluedollarcnt              0\n",
       "assessmentyear                     0\n",
       "unitcnt                            0\n",
       "taxvaluedollarcnt                  0\n",
       "logerror                           0\n",
       "transactiondate                    0\n",
       "id                                 0\n",
       "rawcensustractandblock             0\n",
       "roomcnt                            0\n",
       "regionidcounty                     0\n",
       "parcelid                           0\n",
       "propertylandusetypeid              0\n",
       "propertycountylandusecode          0\n",
       "longitude                          0\n",
       "latitude                           0\n",
       "fips                               0\n",
       "bedroomcnt                         0\n",
       "bathroomcnt                        0\n",
       "propertylandusedesc                0\n",
       "dtype: int64"
      ]
     },
     "execution_count": 75,
     "metadata": {},
     "output_type": "execute_result"
    }
   ],
   "source": [
    "# number of nulls for each column\n",
    "\n",
    "zillow_data.isnull().sum().sort_values(ascending = False)"
   ]
  },
  {
   "cell_type": "code",
   "execution_count": 80,
   "id": "d1b1c954",
   "metadata": {},
   "outputs": [],
   "source": [
    "#columns to remove (looking at values first)\n",
    "\n",
    "zillow_data.censustractandblock.value_counts()\n",
    "zillow_data.structuretaxvaluedollarcnt.value_counts()\n",
    "zillow_data.fullbathcnt.value_counts()\n",
    "zillow_data.unitcnt.value_counts()\n",
    "\n",
    "cols_to_remove = ['censustractandblock', 'structuretaxvaluedollarcnt', 'fullbathcnt', 'unitcnt']"
   ]
  },
  {
   "cell_type": "code",
   "execution_count": 85,
   "id": "6544026a",
   "metadata": {},
   "outputs": [],
   "source": [
    "def remove_columns(df, cols_to_remove):\n",
    "    '''\n",
    "THIS FUNCTION TAKES IN A DATAFRAME AND DROPS THE SELECTED COLUMNS FROM IT.     \n",
    "    '''\n",
    "    \n",
    "    df = df.drop(columns = cols_to_remove)\n",
    "    \n",
    "    return df"
   ]
  },
  {
   "cell_type": "code",
   "execution_count": 87,
   "id": "70ba2e12",
   "metadata": {},
   "outputs": [
    {
     "name": "stdout",
     "output_type": "stream",
     "text": [
      "df before drop: 34\n",
      "df after drop: 30\n"
     ]
    }
   ],
   "source": [
    "print(f'df before drop: {zillow_data.shape[1]}')\n",
    "print(f'df after drop: {remove_columns(zillow_data, cols_to_remove).shape[1]}')"
   ]
  },
  {
   "cell_type": "code",
   "execution_count": 88,
   "id": "9374525b",
   "metadata": {},
   "outputs": [
    {
     "data": {
      "text/plain": [
       "(44918, 30)"
      ]
     },
     "execution_count": 88,
     "metadata": {},
     "output_type": "execute_result"
    }
   ],
   "source": [
    "zillow_data = remove_columns(zillow_data, cols_to_remove)\n",
    "zillow_data.shape"
   ]
  },
  {
   "cell_type": "code",
   "execution_count": 90,
   "id": "40f13cb8",
   "metadata": {},
   "outputs": [
    {
     "data": {
      "text/plain": [
       "lotsizesquarefeet               1157\n",
       "regionidcity                     915\n",
       "heatingorsystemtypeid            706\n",
       "heatingorsystemdesc              706\n",
       "buildingqualitytypeid            457\n",
       "propertyzoningdesc               192\n",
       "calculatedbathnbr                 31\n",
       "regionidzip                       18\n",
       "finishedsquarefeet12              17\n",
       "yearbuilt                         14\n",
       "calculatedfinishedsquarefeet       6\n",
       "taxamount                          4\n",
       "transactiondate                    0\n",
       "logerror                           0\n",
       "landtaxvaluedollarcnt              0\n",
       "assessmentyear                     0\n",
       "taxvaluedollarcnt                  0\n",
       "roomcnt                            0\n",
       "id                                 0\n",
       "regionidcounty                     0\n",
       "rawcensustractandblock             0\n",
       "parcelid                           0\n",
       "propertylandusetypeid              0\n",
       "propertycountylandusecode          0\n",
       "longitude                          0\n",
       "latitude                           0\n",
       "fips                               0\n",
       "bedroomcnt                         0\n",
       "bathroomcnt                        0\n",
       "propertylandusedesc                0\n",
       "dtype: int64"
      ]
     },
     "execution_count": 90,
     "metadata": {},
     "output_type": "execute_result"
    }
   ],
   "source": [
    "zillow_data.isnull().sum().sort_values(ascending = False)"
   ]
  },
  {
   "cell_type": "markdown",
   "id": "11f59ef8",
   "metadata": {},
   "source": [
    "#### Looking for outliers"
   ]
  },
  {
   "cell_type": "code",
   "execution_count": 93,
   "id": "3983261a",
   "metadata": {},
   "outputs": [
    {
     "name": "stdout",
     "output_type": "stream",
     "text": [
      "<class 'pandas.core.frame.DataFrame'>\n",
      "Int64Index: 44918 entries, 3 to 77573\n",
      "Data columns (total 30 columns):\n",
      " #   Column                        Non-Null Count  Dtype  \n",
      "---  ------                        --------------  -----  \n",
      " 0   id                            44918 non-null  int64  \n",
      " 1   parcelid                      44918 non-null  int64  \n",
      " 2   bathroomcnt                   44918 non-null  float64\n",
      " 3   bedroomcnt                    44918 non-null  float64\n",
      " 4   buildingqualitytypeid         44461 non-null  float64\n",
      " 5   calculatedbathnbr             44887 non-null  float64\n",
      " 6   calculatedfinishedsquarefeet  44912 non-null  float64\n",
      " 7   finishedsquarefeet12          44901 non-null  float64\n",
      " 8   fips                          44918 non-null  float64\n",
      " 9   heatingorsystemtypeid         44212 non-null  float64\n",
      " 10  latitude                      44918 non-null  float64\n",
      " 11  longitude                     44918 non-null  float64\n",
      " 12  lotsizesquarefeet             43761 non-null  float64\n",
      " 13  propertycountylandusecode     44918 non-null  object \n",
      " 14  propertylandusetypeid         44918 non-null  float64\n",
      " 15  propertyzoningdesc            44726 non-null  object \n",
      " 16  rawcensustractandblock        44918 non-null  float64\n",
      " 17  regionidcity                  44003 non-null  float64\n",
      " 18  regionidcounty                44918 non-null  float64\n",
      " 19  regionidzip                   44900 non-null  float64\n",
      " 20  roomcnt                       44918 non-null  float64\n",
      " 21  yearbuilt                     44904 non-null  float64\n",
      " 22  taxvaluedollarcnt             44918 non-null  float64\n",
      " 23  assessmentyear                44918 non-null  float64\n",
      " 24  landtaxvaluedollarcnt         44918 non-null  float64\n",
      " 25  taxamount                     44914 non-null  float64\n",
      " 26  logerror                      44918 non-null  float64\n",
      " 27  transactiondate               44918 non-null  object \n",
      " 28  heatingorsystemdesc           44212 non-null  object \n",
      " 29  propertylandusedesc           44918 non-null  object \n",
      "dtypes: float64(23), int64(2), object(5)\n",
      "memory usage: 10.6+ MB\n"
     ]
    }
   ],
   "source": [
    "zillow_data.info()"
   ]
  },
  {
   "cell_type": "code",
   "execution_count": 96,
   "id": "ee9082cd",
   "metadata": {},
   "outputs": [
    {
     "data": {
      "text/plain": [
       "id                                int64\n",
       "parcelid                          int64\n",
       "bathroomcnt                     float64\n",
       "bedroomcnt                      float64\n",
       "buildingqualitytypeid           float64\n",
       "calculatedbathnbr               float64\n",
       "calculatedfinishedsquarefeet    float64\n",
       "finishedsquarefeet12            float64\n",
       "fips                            float64\n",
       "heatingorsystemtypeid           float64\n",
       "latitude                        float64\n",
       "longitude                       float64\n",
       "lotsizesquarefeet               float64\n",
       "propertycountylandusecode        object\n",
       "propertylandusetypeid           float64\n",
       "propertyzoningdesc               object\n",
       "rawcensustractandblock          float64\n",
       "regionidcity                    float64\n",
       "regionidcounty                  float64\n",
       "regionidzip                     float64\n",
       "roomcnt                         float64\n",
       "yearbuilt                       float64\n",
       "taxvaluedollarcnt               float64\n",
       "assessmentyear                  float64\n",
       "landtaxvaluedollarcnt           float64\n",
       "taxamount                       float64\n",
       "logerror                        float64\n",
       "transactiondate                  object\n",
       "heatingorsystemdesc              object\n",
       "propertylandusedesc              object\n",
       "dtype: object"
      ]
     },
     "execution_count": 96,
     "metadata": {},
     "output_type": "execute_result"
    }
   ],
   "source": [
    "zillow_data.dtypes"
   ]
  },
  {
   "cell_type": "code",
   "execution_count": 110,
   "id": "a6e53cbe",
   "metadata": {},
   "outputs": [
    {
     "data": {
      "text/plain": [
       "dtype('O')"
      ]
     },
     "execution_count": 110,
     "metadata": {},
     "output_type": "execute_result"
    }
   ],
   "source": [
    "zillow_data.propertycountylandusecode.dtypes"
   ]
  },
  {
   "cell_type": "code",
   "execution_count": 136,
   "id": "37cb923b",
   "metadata": {
    "scrolled": true
   },
   "outputs": [
    {
     "name": "stdout",
     "output_type": "stream",
     "text": [
      "ID\n"
     ]
    },
    {
     "data": {
      "image/png": "[encoded data removed]",
      "text/plain": [
       "<Figure size 432x288 with 1 Axes>"
      ]
     },
     "metadata": {
      "needs_background": "light"
     },
     "output_type": "display_data"
    },
    {
     "name": "stdout",
     "output_type": "stream",
     "text": [
      "\n",
      "\n",
      "PARCELID\n"
     ]
    },
    {
     "data": {
      "image/png": "[encoded data removed]",
      "text/plain": [
       "<Figure size 432x288 with 1 Axes>"
      ]
     },
     "metadata": {
      "needs_background": "light"
     },
     "output_type": "display_data"
    },
    {
     "name": "stdout",
     "output_type": "stream",
     "text": [
      "\n",
      "\n",
      "BATHROOMCNT\n"
     ]
    },
    {
     "data": {
      "image/png": "[encoded data removed]",
      "text/plain": [
       "<Figure size 432x288 with 1 Axes>"
      ]
     },
     "metadata": {
      "needs_background": "light"
     },
     "output_type": "display_data"
    },
    {
     "name": "stdout",
     "output_type": "stream",
     "text": [
      "\n",
      "\n",
      "BEDROOMCNT\n"
     ]
    },
    {
     "data": {
      "image/png": "[encoded data removed]",
      "text/plain": [
       "<Figure size 432x288 with 1 Axes>"
      ]
     },
     "metadata": {
      "needs_background": "light"
     },
     "output_type": "display_data"
    },
    {
     "name": "stdout",
     "output_type": "stream",
     "text": [
      "\n",
      "\n",
      "BUILDINGQUALITYTYPEID\n"
     ]
    },
    {
     "data": {
      "image/png": "[encoded data removed]",
      "text/plain": [
       "<Figure size 432x288 with 1 Axes>"
      ]
     },
     "metadata": {
      "needs_background": "light"
     },
     "output_type": "display_data"
    },
    {
     "name": "stdout",
     "output_type": "stream",
     "text": [
      "\n",
      "\n",
      "CALCULATEDBATHNBR\n"
     ]
    },
    {
     "data": {
      "image/png": "[encoded data removed]",
      "text/plain": [
       "<Figure size 432x288 with 1 Axes>"
      ]
     },
     "metadata": {
      "needs_background": "light"
     },
     "output_type": "display_data"
    },
    {
     "name": "stdout",
     "output_type": "stream",
     "text": [
      "\n",
      "\n",
      "CALCULATEDFINISHEDSQUAREFEET\n"
     ]
    },
    {
     "data": {
      "image/png": "[encoded data removed]",
      "text/plain": [
       "<Figure size 432x288 with 1 Axes>"
      ]
     },
     "metadata": {
      "needs_background": "light"
     },
     "output_type": "display_data"
    },
    {
     "name": "stdout",
     "output_type": "stream",
     "text": [
      "\n",
      "\n",
      "FINISHEDSQUAREFEET12\n"
     ]
    },
    {
     "data": {
      "image/png": "[encoded data removed]",
      "text/plain": [
       "<Figure size 432x288 with 1 Axes>"
      ]
     },
     "metadata": {
      "needs_background": "light"
     },
     "output_type": "display_data"
    },
    {
     "name": "stdout",
     "output_type": "stream",
     "text": [
      "\n",
      "\n",
      "FIPS\n"
     ]
    },
    {
     "data": {
      "image/png": "[encoded data removed]",
      "text/plain": [
       "<Figure size 432x288 with 1 Axes>"
      ]
     },
     "metadata": {
      "needs_background": "light"
     },
     "output_type": "display_data"
    },
    {
     "name": "stdout",
     "output_type": "stream",
     "text": [
      "\n",
      "\n",
      "HEATINGORSYSTEMTYPEID\n"
     ]
    },
    {
     "data": {
      "image/png": "[encoded data removed]",
      "text/plain": [
       "<Figure size 432x288 with 1 Axes>"
      ]
     },
     "metadata": {
      "needs_background": "light"
     },
     "output_type": "display_data"
    },
    {
     "name": "stdout",
     "output_type": "stream",
     "text": [
      "\n",
      "\n",
      "LATITUDE\n"
     ]
    },
    {
     "data": {
      "image/png": "[encoded data removed]",
      "text/plain": [
       "<Figure size 432x288 with 1 Axes>"
      ]
     },
     "metadata": {
      "needs_background": "light"
     },
     "output_type": "display_data"
    },
    {
     "name": "stdout",
     "output_type": "stream",
     "text": [
      "\n",
      "\n",
      "LONGITUDE\n"
     ]
    },
    {
     "data": {
      "image/png": "[encoded data removed]",
      "text/plain": [
       "<Figure size 432x288 with 1 Axes>"
      ]
     },
     "metadata": {
      "needs_background": "light"
     },
     "output_type": "display_data"
    },
    {
     "name": "stdout",
     "output_type": "stream",
     "text": [
      "\n",
      "\n",
      "LOTSIZESQUAREFEET\n"
     ]
    },
    {
     "data": {
      "image/png": "[encoded data removed]",
      "text/plain": [
       "<Figure size 432x288 with 1 Axes>"
      ]
     },
     "metadata": {
      "needs_background": "light"
     },
     "output_type": "display_data"
    },
    {
     "name": "stdout",
     "output_type": "stream",
     "text": [
      "\n",
      "\n",
      "PROPERTYCOUNTYLANDUSECODE is a nonnumeric dtype\n",
      "\n",
      "\n",
      "PROPERTYLANDUSETYPEID\n"
     ]
    },
    {
     "data": {
      "image/png": "[encoded data removed]",
      "text/plain": [
       "<Figure size 432x288 with 1 Axes>"
      ]
     },
     "metadata": {
      "needs_background": "light"
     },
     "output_type": "display_data"
    },
    {
     "name": "stdout",
     "output_type": "stream",
     "text": [
      "\n",
      "\n",
      "PROPERTYZONINGDESC is a nonnumeric dtype\n",
      "\n",
      "\n",
      "RAWCENSUSTRACTANDBLOCK\n"
     ]
    },
    {
     "data": {
      "image/png": "[encoded data removed]",
      "text/plain": [
       "<Figure size 432x288 with 1 Axes>"
      ]
     },
     "metadata": {
      "needs_background": "light"
     },
     "output_type": "display_data"
    },
    {
     "name": "stdout",
     "output_type": "stream",
     "text": [
      "\n",
      "\n",
      "REGIONIDCITY\n"
     ]
    },
    {
     "data": {
      "image/png": "[encoded data removed]",
      "text/plain": [
       "<Figure size 432x288 with 1 Axes>"
      ]
     },
     "metadata": {
      "needs_background": "light"
     },
     "output_type": "display_data"
    },
    {
     "name": "stdout",
     "output_type": "stream",
     "text": [
      "\n",
      "\n",
      "REGIONIDCOUNTY\n"
     ]
    },
    {
     "data": {
      "image/png": "[encoded data removed]",
      "text/plain": [
       "<Figure size 432x288 with 1 Axes>"
      ]
     },
     "metadata": {
      "needs_background": "light"
     },
     "output_type": "display_data"
    },
    {
     "name": "stdout",
     "output_type": "stream",
     "text": [
      "\n",
      "\n",
      "REGIONIDZIP\n"
     ]
    },
    {
     "data": {
      "image/png": "[encoded data removed]",
      "text/plain": [
       "<Figure size 432x288 with 1 Axes>"
      ]
     },
     "metadata": {
      "needs_background": "light"
     },
     "output_type": "display_data"
    },
    {
     "name": "stdout",
     "output_type": "stream",
     "text": [
      "\n",
      "\n",
      "ROOMCNT\n"
     ]
    },
    {
     "data": {
      "image/png": "[encoded data removed]",
      "text/plain": [
       "<Figure size 432x288 with 1 Axes>"
      ]
     },
     "metadata": {
      "needs_background": "light"
     },
     "output_type": "display_data"
    },
    {
     "name": "stdout",
     "output_type": "stream",
     "text": [
      "\n",
      "\n",
      "YEARBUILT\n"
     ]
    },
    {
     "data": {
      "image/png": "[encoded data removed]",
      "text/plain": [
       "<Figure size 432x288 with 1 Axes>"
      ]
     },
     "metadata": {
      "needs_background": "light"
     },
     "output_type": "display_data"
    },
    {
     "name": "stdout",
     "output_type": "stream",
     "text": [
      "\n",
      "\n",
      "TAXVALUEDOLLARCNT\n"
     ]
    },
    {
     "data": {
      "image/png": "[encoded data removed]",
      "text/plain": [
       "<Figure size 432x288 with 1 Axes>"
      ]
     },
     "metadata": {
      "needs_background": "light"
     },
     "output_type": "display_data"
    },
    {
     "name": "stdout",
     "output_type": "stream",
     "text": [
      "\n",
      "\n",
      "ASSESSMENTYEAR\n"
     ]
    },
    {
     "data": {
      "image/png": "[encoded data removed]",
      "text/plain": [
       "<Figure size 432x288 with 1 Axes>"
      ]
     },
     "metadata": {
      "needs_background": "light"
     },
     "output_type": "display_data"
    },
    {
     "name": "stdout",
     "output_type": "stream",
     "text": [
      "\n",
      "\n",
      "LANDTAXVALUEDOLLARCNT\n"
     ]
    },
    {
     "data": {
      "image/png": "[encoded data removed]",
      "text/plain": [
       "<Figure size 432x288 with 1 Axes>"
      ]
     },
     "metadata": {
      "needs_background": "light"
     },
     "output_type": "display_data"
    },
    {
     "name": "stdout",
     "output_type": "stream",
     "text": [
      "\n",
      "\n",
      "TAXAMOUNT\n"
     ]
    },
    {
     "data": {
      "image/png": "[encoded data removed]",
      "text/plain": [
       "<Figure size 432x288 with 1 Axes>"
      ]
     },
     "metadata": {
      "needs_background": "light"
     },
     "output_type": "display_data"
    },
    {
     "name": "stdout",
     "output_type": "stream",
     "text": [
      "\n",
      "\n",
      "LOGERROR\n"
     ]
    },
    {
     "data": {
      "image/png": "[encoded data removed]",
      "text/plain": [
       "<Figure size 432x288 with 1 Axes>"
      ]
     },
     "metadata": {
      "needs_background": "light"
     },
     "output_type": "display_data"
    },
    {
     "name": "stdout",
     "output_type": "stream",
     "text": [
      "\n",
      "\n",
      "TRANSACTIONDATE\n"
     ]
    },
    {
     "data": {
      "image/png": "[encoded data removed]",
      "text/plain": [
       "<Figure size 432x288 with 1 Axes>"
      ]
     },
     "metadata": {
      "needs_background": "light"
     },
     "output_type": "display_data"
    },
    {
     "name": "stdout",
     "output_type": "stream",
     "text": [
      "\n",
      "\n",
      "HEATINGORSYSTEMDESC is a nonnumeric dtype\n",
      "\n",
      "\n",
      "PROPERTYLANDUSEDESC is a nonnumeric dtype\n",
      "\n",
      "\n"
     ]
    }
   ],
   "source": [
    "for col in zillow_data.columns:\n",
    "    if zillow_data[col].dtypes != 'O':\n",
    "        print(col.upper())\n",
    "        sns.boxplot(x = col, data = zillow_data)\n",
    "        plt.show()\n",
    "        print()\n",
    "        print()\n",
    "    else:\n",
    "        print(f'{col.upper()} is a nonnumeric dtype')\n",
    "        print()\n",
    "        print()"
   ]
  },
  {
   "cell_type": "markdown",
   "id": "9cd138fc",
   "metadata": {},
   "source": [
    ">### Come back and convert date to int in prepare function"
   ]
  },
  {
   "cell_type": "code",
   "execution_count": 133,
   "id": "f74c2a5c",
   "metadata": {},
   "outputs": [
    {
     "data": {
      "text/plain": [
       "<AxesSubplot:xlabel='transactiondate'>"
      ]
     },
     "execution_count": 133,
     "metadata": {},
     "output_type": "execute_result"
    },
    {
     "data": {
      "image/png": "[encoded data removed]",
      "text/plain": [
       "<Figure size 432x288 with 1 Axes>"
      ]
     },
     "metadata": {
      "needs_background": "light"
     },
     "output_type": "display_data"
    }
   ],
   "source": [
    "# date converted to numeric dtype, boxplot\n",
    "sns.boxplot(x = zillow_data.transactiondate.replace('-', '', regex = True).astype('int'), data = zillow_data)"
   ]
  },
  {
   "cell_type": "code",
   "execution_count": 129,
   "id": "f70dd8b2",
   "metadata": {},
   "outputs": [
    {
     "data": {
      "text/plain": [
       "3        20170101\n",
       "4        20170101\n",
       "6        20170101\n",
       "7        20170101\n",
       "8        20170102\n",
       "           ...   \n",
       "77568    20170919\n",
       "77569    20170920\n",
       "77570    20170920\n",
       "77572    20170921\n",
       "77573    20170925\n",
       "Name: transactiondate, Length: 44918, dtype: int64"
      ]
     },
     "execution_count": 129,
     "metadata": {},
     "output_type": "execute_result"
    }
   ],
   "source": [
    "zillow_data.transactiondate.replace('-', '', regex = True).astype('int')"
   ]
  },
  {
   "cell_type": "code",
   "execution_count": 135,
   "id": "bdbd2d7b",
   "metadata": {},
   "outputs": [],
   "source": [
    "zillow_data.transactiondate = zillow_data.transactiondate.replace('-', '', regex = True).astype('int')"
   ]
  },
  {
   "cell_type": "code",
   "execution_count": 138,
   "id": "d627a03a",
   "metadata": {
    "scrolled": false
   },
   "outputs": [
    {
     "data": {
      "image/png": "[encoded data removed]",
      "text/plain": [
       "<Figure size 1728x1008 with 30 Axes>"
      ]
     },
     "metadata": {
      "needs_background": "light"
     },
     "output_type": "display_data"
    }
   ],
   "source": [
    "zillow_data.hist(figsize=(24, 14), bins=20)\n",
    "plt.tight_layout();"
   ]
  },
  {
   "cell_type": "code",
   "execution_count": 141,
   "id": "9a703888",
   "metadata": {},
   "outputs": [],
   "source": [
    "df = wrangle.acquire_data('zillow_data.csv', 'zillow', query)"
   ]
  },
  {
   "cell_type": "code",
   "execution_count": 146,
   "id": "a06770c5",
   "metadata": {},
   "outputs": [],
   "source": [
    "def wrangle_zillow(df):\n",
    "    df = pd.read_csv('zillow.csv')\n",
    "    \n",
    "    # Restrict df to only properties that meet single unit use criteria\n",
    "    single_use = [261, 262, 263, 264, 266, 268, 273, 276, 279]\n",
    "    df = df[df.propertylandusetypeid.isin(single_use)]\n",
    "    \n",
    "    # Restrict df to only those properties with at least 1 bath & bed and 350 sqft area\n",
    "    df = df[(df.bedroomcnt > 0) & (df.bathroomcnt > 0) & ((df.unitcnt<=1)|df.unitcnt.isnull())\\\n",
    "            & (df.calculatedfinishedsquarefeet>350)]\n",
    "\n",
    "    # Handle missing values i.e. drop columns and rows based on a threshold\n",
    "    df = handle_missing_values(df, .5, .7)\n",
    "    \n",
    "    # Add column for counties\n",
    "    df['county'] = np.where(df.fips == 6037, 'Los_Angeles',\n",
    "                           np.where(df.fips == 6059, 'Orange', \n",
    "                                   'Ventura'))    \n",
    "    # drop columns not needed\n",
    "    df = remove_columns(df, ['id',\n",
    "       'calculatedbathnbr', 'finishedsquarefeet12', 'fullbathcnt', 'heatingorsystemtypeid'\n",
    "       ,'propertycountylandusecode', 'propertylandusetypeid','propertyzoningdesc', \n",
    "        'censustractandblock', 'propertylandusedesc','heatingorsystemdesc','unitcnt'\n",
    "                            ,'buildingqualitytypeid'])\n",
    "\n",
    "\n",
    "    # replace nulls in unitcnt with 1\n",
    "#     df.unitcnt.fillna(1, inplace = True)\n",
    "    \n",
    "    # assume that since this is Southern CA, null means 'None' for heating system\n",
    "#     df.heatingorsystemdesc.fillna('None', inplace = True)\n",
    "    \n",
    "    # replace nulls with median values for select columns\n",
    "    df.lotsizesquarefeet.fillna(7313, inplace = True)\n",
    "#     df.buildingqualitytypeid.fillna(6.0, inplace = True)\n",
    "\n",
    "    # Columns to look for outliers\n",
    "    df = df[df.taxvaluedollarcnt < 5_000_000]\n",
    "    df[df.calculatedfinishedsquarefeet < 8000]\n",
    "    \n",
    "    # Just to be sure we caught all nulls, drop them here\n",
    "    df = df.dropna()\n",
    "    \n",
    "    return df"
   ]
  },
  {
   "cell_type": "code",
   "execution_count": 147,
   "id": "00318a17",
   "metadata": {},
   "outputs": [],
   "source": [
    "df = wrangle_zillow(df)"
   ]
  },
  {
   "cell_type": "code",
   "execution_count": 148,
   "id": "fe29c2f3",
   "metadata": {},
   "outputs": [
    {
     "data": {
      "text/plain": [
       "(69729, 23)"
      ]
     },
     "execution_count": 148,
     "metadata": {},
     "output_type": "execute_result"
    }
   ],
   "source": [
    "df.shape"
   ]
  },
  {
   "cell_type": "markdown",
   "id": "33a07eae",
   "metadata": {},
   "source": [
    "# Mall Customers\n",
    "<hr>\n",
    "\n",
    "#### notebook\n",
    "1. Acquire data from mall_customers.customers in mysql database.\n",
    "2. Summarize data (include distributions and descriptive statistics).\n",
    "3. Detect outliers using IQR.\n",
    "4. Split data (train, validate, and test split).\n",
    "5. Encode categorical columns using a one hot encoder (pd.get_dummies).\n",
    "6. Handles missing values.\n",
    "7. Scaling\n",
    "\n",
    "#### `wrangle_mall.py`\n",
    "1. Acquire data from mall_customers.customers in mysql database.\n",
    "2. Split the data into train, validate, and split\n",
    "3. One-hot-encoding (pd.get_dummies)\n",
    "4. Missing values\n",
    "5. Scaling"
   ]
  },
  {
   "cell_type": "markdown",
   "id": "982b07f4",
   "metadata": {},
   "source": [
    "### 1. Acquire data"
   ]
  },
  {
   "cell_type": "code",
   "execution_count": 149,
   "id": "961f85cc",
   "metadata": {},
   "outputs": [],
   "source": [
    "mall_query = 'select * from customers'"
   ]
  },
  {
   "cell_type": "code",
   "execution_count": 151,
   "id": "b6ea8dbb",
   "metadata": {},
   "outputs": [],
   "source": [
    "mall_df = wrangle.acquire_data('mall_data.csv', 'mall_customers', mall_query)"
   ]
  },
  {
   "cell_type": "markdown",
   "id": "cbd27ddf",
   "metadata": {},
   "source": [
    "### 2. Summarize data"
   ]
  },
  {
   "cell_type": "code",
   "execution_count": 153,
   "id": "0fbb2396",
   "metadata": {},
   "outputs": [
    {
     "name": "stdout",
     "output_type": "stream",
     "text": [
      "1) DATAFRAME SHAPE\n",
      "---------------\n",
      "Rows: 200\n",
      "Columns: 5\n",
      "\n",
      "\n",
      "2) DATAFRAME INFO\n",
      "--------------\n",
      "<class 'pandas.core.frame.DataFrame'>\n",
      "RangeIndex: 200 entries, 0 to 199\n",
      "Data columns (total 5 columns):\n",
      " #   Column          Non-Null Count  Dtype \n",
      "---  ------          --------------  ----- \n",
      " 0   customer_id     200 non-null    int64 \n",
      " 1   gender          200 non-null    object\n",
      " 2   age             200 non-null    int64 \n",
      " 3   annual_income   200 non-null    int64 \n",
      " 4   spending_score  200 non-null    int64 \n",
      "dtypes: int64(4), object(1)\n",
      "memory usage: 7.9+ KB\n",
      "None\n",
      "\n",
      "\n",
      "3) UNIQUE VALUES BY COLUMN\n",
      "-----------------------\n",
      "CUSTOMER_ID\n",
      "-----------\n",
      "Number of Unique Values for customer_id: 200\n",
      "This column has > 20 values\n",
      "\n",
      "\n",
      "GENDER\n",
      "------\n",
      "Number of Unique Values for gender: 2\n",
      "Female    112\n",
      "Male       88\n",
      "Name: gender, dtype: int64\n",
      "\n",
      "\n",
      "AGE\n",
      "---\n",
      "Number of Unique Values for age: 51\n",
      "This column has > 20 values\n",
      "\n",
      "\n",
      "ANNUAL_INCOME\n",
      "-------------\n",
      "Number of Unique Values for annual_income: 64\n",
      "This column has > 20 values\n",
      "\n",
      "\n",
      "SPENDING_SCORE\n",
      "--------------\n",
      "Number of Unique Values for spending_score: 84\n",
      "This column has > 20 values\n",
      "\n",
      "\n",
      "\n",
      "4) DESCRIPTIVE STATS\n",
      "-----------------\n",
      "       customer_id         age  annual_income  spending_score\n",
      "count   200.000000  200.000000     200.000000      200.000000\n",
      "mean    100.500000   38.850000      60.560000       50.200000\n",
      "std      57.879185   13.969007      26.264721       25.823522\n",
      "min       1.000000   18.000000      15.000000        1.000000\n",
      "25%      50.750000   28.750000      41.500000       34.750000\n",
      "50%     100.500000   36.000000      61.500000       50.000000\n",
      "75%     150.250000   49.000000      78.000000       73.000000\n",
      "max     200.000000   70.000000     137.000000       99.000000\n",
      "\n"
     ]
    },
    {
     "data": {
      "text/html": [
       "<div><div id=62db4ffb-be70-441c-86e5-659531aed3a3 style=\"display:none; background-color:#9D6CFF; color:white; width:200px; height:30px; padding-left:5px; border-radius:4px; flex-direction:row; justify-content:space-around; align-items:center;\" onmouseover=\"this.style.backgroundColor='#BA9BF8'\" onmouseout=\"this.style.backgroundColor='#9D6CFF'\" onclick=\"window.commands?.execute('create-mitosheet-from-dataframe-output');\">See Full Dataframe in Mito</div> <script> if (window.commands.hasCommand('create-mitosheet-from-dataframe-output')) document.getElementById('62db4ffb-be70-441c-86e5-659531aed3a3').style.display = 'flex' </script> <table border=\"1\" class=\"dataframe\">\n",
       "  <thead>\n",
       "    <tr style=\"text-align: right;\">\n",
       "      <th></th>\n",
       "      <th>customer_id</th>\n",
       "      <th>gender</th>\n",
       "      <th>age</th>\n",
       "      <th>annual_income</th>\n",
       "      <th>spending_score</th>\n",
       "    </tr>\n",
       "  </thead>\n",
       "  <tbody>\n",
       "    <tr>\n",
       "      <th>0</th>\n",
       "      <td>1</td>\n",
       "      <td>Male</td>\n",
       "      <td>19</td>\n",
       "      <td>15</td>\n",
       "      <td>39</td>\n",
       "    </tr>\n",
       "    <tr>\n",
       "      <th>1</th>\n",
       "      <td>2</td>\n",
       "      <td>Male</td>\n",
       "      <td>21</td>\n",
       "      <td>15</td>\n",
       "      <td>81</td>\n",
       "    </tr>\n",
       "    <tr>\n",
       "      <th>2</th>\n",
       "      <td>3</td>\n",
       "      <td>Female</td>\n",
       "      <td>20</td>\n",
       "      <td>16</td>\n",
       "      <td>6</td>\n",
       "    </tr>\n",
       "    <tr>\n",
       "      <th>3</th>\n",
       "      <td>4</td>\n",
       "      <td>Female</td>\n",
       "      <td>23</td>\n",
       "      <td>16</td>\n",
       "      <td>77</td>\n",
       "    </tr>\n",
       "    <tr>\n",
       "      <th>4</th>\n",
       "      <td>5</td>\n",
       "      <td>Female</td>\n",
       "      <td>31</td>\n",
       "      <td>17</td>\n",
       "      <td>40</td>\n",
       "    </tr>\n",
       "  </tbody>\n",
       "</table></div>"
      ],
      "text/plain": [
       "   customer_id  gender  age  annual_income  spending_score\n",
       "0            1    Male   19             15              39\n",
       "1            2    Male   21             15              81\n",
       "2            3  Female   20             16               6\n",
       "3            4  Female   23             16              77\n",
       "4            5  Female   31             17              40"
      ]
     },
     "execution_count": 153,
     "metadata": {},
     "output_type": "execute_result"
    }
   ],
   "source": [
    "wrangle.summarize_data(mall_df, 20)"
   ]
  },
  {
   "cell_type": "code",
   "execution_count": 157,
   "id": "44e3e7b8",
   "metadata": {},
   "outputs": [
    {
     "data": {
      "image/png": "[encoded data removed]",
      "text/plain": [
       "<Figure size 1728x720 with 4 Axes>"
      ]
     },
     "metadata": {
      "needs_background": "light"
     },
     "output_type": "display_data"
    }
   ],
   "source": [
    "mall_df.hist(figsize=(24, 10), bins=20);"
   ]
  },
  {
   "cell_type": "code",
   "execution_count": 160,
   "id": "9816b6ed",
   "metadata": {},
   "outputs": [],
   "source": [
    "def outlier_boxplots(df):\n",
    "    '''\n",
    "THIS FUNCTION TAKES IN A DATAFRAME AND, FOR ALL NUMERIC COLUMNS, DISPLAYS HORIZONTAL\n",
    "BOXPLOTS ALLOWING OUTLIERS TO BE VISUALIZED. IF A COLUMN IS NON-NUMERIC THEN THE COLUMN\n",
    "NAME ALONG WITH A PRINT STATEMENT WILL BE EXECUTED.\n",
    "    '''\n",
    "    \n",
    "    for col in df.columns:\n",
    "        if df[col].dtypes != 'O':\n",
    "            print(col.upper())\n",
    "            sns.boxplot(x = col, data = df)\n",
    "            plt.show()\n",
    "            print()\n",
    "            print()\n",
    "        else:\n",
    "            print(f'{col.upper()} is a nonnumeric dtype')\n",
    "            print()\n",
    "            print()"
   ]
  },
  {
   "cell_type": "code",
   "execution_count": 161,
   "id": "1716d83e",
   "metadata": {},
   "outputs": [
    {
     "name": "stdout",
     "output_type": "stream",
     "text": [
      "CUSTOMER_ID\n"
     ]
    },
    {
     "data": {
      "image/png": "[encoded data removed]",
      "text/plain": [
       "<Figure size 432x288 with 1 Axes>"
      ]
     },
     "metadata": {
      "needs_background": "light"
     },
     "output_type": "display_data"
    },
    {
     "name": "stdout",
     "output_type": "stream",
     "text": [
      "\n",
      "\n",
      "GENDER is a nonnumeric dtype\n",
      "\n",
      "\n",
      "AGE\n"
     ]
    },
    {
     "data": {
      "image/png": "[encoded data removed]",
      "text/plain": [
       "<Figure size 432x288 with 1 Axes>"
      ]
     },
     "metadata": {
      "needs_background": "light"
     },
     "output_type": "display_data"
    },
    {
     "name": "stdout",
     "output_type": "stream",
     "text": [
      "\n",
      "\n",
      "ANNUAL_INCOME\n"
     ]
    },
    {
     "data": {
      "image/png": "[encoded data removed]",
      "text/plain": [
       "<Figure size 432x288 with 1 Axes>"
      ]
     },
     "metadata": {
      "needs_background": "light"
     },
     "output_type": "display_data"
    },
    {
     "name": "stdout",
     "output_type": "stream",
     "text": [
      "\n",
      "\n",
      "SPENDING_SCORE\n"
     ]
    },
    {
     "data": {
      "image/png": "[encoded data removed]",
      "text/plain": [
       "<Figure size 432x288 with 1 Axes>"
      ]
     },
     "metadata": {
      "needs_background": "light"
     },
     "output_type": "display_data"
    },
    {
     "name": "stdout",
     "output_type": "stream",
     "text": [
      "\n",
      "\n"
     ]
    }
   ],
   "source": [
    "outlier_boxplots(mall_df)"
   ]
  },
  {
   "cell_type": "markdown",
   "id": "940f9359",
   "metadata": {},
   "source": [
    "### 3. Detect outliers"
   ]
  },
  {
   "cell_type": "code",
   "execution_count": 162,
   "id": "b2193574",
   "metadata": {},
   "outputs": [
    {
     "data": {
      "text/plain": [
       "132.75"
      ]
     },
     "execution_count": 162,
     "metadata": {},
     "output_type": "execute_result"
    }
   ],
   "source": [
    "# Calculate q1, q3 and iqr for income\n",
    "\n",
    "q1 = mall_df.annual_income.quantile(0.25)\n",
    "q3 = mall_df.annual_income.quantile(0.75)\n",
    "iqr = q3 - q1\n",
    "k = 1.5\n",
    "\n",
    "# calculate upper and lower ranges\n",
    "upper_bound_income =  q3 + k * iqr\n",
    "lower_bound_income =  q1 - k * iqr\n",
    "\n",
    "upper_bound_income"
   ]
  },
  {
   "cell_type": "code",
   "execution_count": 163,
   "id": "c341f692",
   "metadata": {},
   "outputs": [
    {
     "data": {
      "text/html": [
       "<div><div id=2168a6d5-34c5-43e3-9117-2a247b250b2b style=\"display:none; background-color:#9D6CFF; color:white; width:200px; height:30px; padding-left:5px; border-radius:4px; flex-direction:row; justify-content:space-around; align-items:center;\" onmouseover=\"this.style.backgroundColor='#BA9BF8'\" onmouseout=\"this.style.backgroundColor='#9D6CFF'\" onclick=\"window.commands?.execute('create-mitosheet-from-dataframe-output');\">See Full Dataframe in Mito</div> <script> if (window.commands.hasCommand('create-mitosheet-from-dataframe-output')) document.getElementById('2168a6d5-34c5-43e3-9117-2a247b250b2b').style.display = 'flex' </script> <table border=\"1\" class=\"dataframe\">\n",
       "  <thead>\n",
       "    <tr style=\"text-align: right;\">\n",
       "      <th></th>\n",
       "      <th>customer_id</th>\n",
       "      <th>gender</th>\n",
       "      <th>age</th>\n",
       "      <th>annual_income</th>\n",
       "      <th>spending_score</th>\n",
       "    </tr>\n",
       "  </thead>\n",
       "  <tbody>\n",
       "    <tr>\n",
       "      <th>198</th>\n",
       "      <td>199</td>\n",
       "      <td>Male</td>\n",
       "      <td>32</td>\n",
       "      <td>137</td>\n",
       "      <td>18</td>\n",
       "    </tr>\n",
       "    <tr>\n",
       "      <th>199</th>\n",
       "      <td>200</td>\n",
       "      <td>Male</td>\n",
       "      <td>30</td>\n",
       "      <td>137</td>\n",
       "      <td>83</td>\n",
       "    </tr>\n",
       "  </tbody>\n",
       "</table></div>"
      ],
      "text/plain": [
       "     customer_id gender  age  annual_income  spending_score\n",
       "198          199   Male   32            137              18\n",
       "199          200   Male   30            137              83"
      ]
     },
     "execution_count": 163,
     "metadata": {},
     "output_type": "execute_result"
    }
   ],
   "source": [
    "# columns that will be eliminated\n",
    "\n",
    "mall_df[mall_df.annual_income > upper_bound_income]"
   ]
  },
  {
   "cell_type": "code",
   "execution_count": 166,
   "id": "c63d0873",
   "metadata": {},
   "outputs": [],
   "source": [
    "mall_df = mall_df[(mall_df.annual_income < upper_bound_income) & (mall_df.annual_income > lower_bound_income)]"
   ]
  },
  {
   "cell_type": "code",
   "execution_count": 167,
   "id": "f6a3636f",
   "metadata": {},
   "outputs": [
    {
     "data": {
      "text/plain": [
       "(198, 5)"
      ]
     },
     "execution_count": 167,
     "metadata": {},
     "output_type": "execute_result"
    }
   ],
   "source": [
    "mall_df.shape"
   ]
  },
  {
   "cell_type": "code",
   "execution_count": 168,
   "id": "ebc3ddb9",
   "metadata": {},
   "outputs": [
    {
     "data": {
      "text/html": [
       "<div><div id=e8e88e86-af9a-4f38-bf06-8a075bc9e733 style=\"display:none; background-color:#9D6CFF; color:white; width:200px; height:30px; padding-left:5px; border-radius:4px; flex-direction:row; justify-content:space-around; align-items:center;\" onmouseover=\"this.style.backgroundColor='#BA9BF8'\" onmouseout=\"this.style.backgroundColor='#9D6CFF'\" onclick=\"window.commands?.execute('create-mitosheet-from-dataframe-output');\">See Full Dataframe in Mito</div> <script> if (window.commands.hasCommand('create-mitosheet-from-dataframe-output')) document.getElementById('e8e88e86-af9a-4f38-bf06-8a075bc9e733').style.display = 'flex' </script> <table border=\"1\" class=\"dataframe\">\n",
       "  <thead>\n",
       "    <tr style=\"text-align: right;\">\n",
       "      <th></th>\n",
       "      <th>gender</th>\n",
       "      <th>age</th>\n",
       "      <th>annual_income</th>\n",
       "      <th>spending_score</th>\n",
       "    </tr>\n",
       "    <tr>\n",
       "      <th>customer_id</th>\n",
       "      <th></th>\n",
       "      <th></th>\n",
       "      <th></th>\n",
       "      <th></th>\n",
       "    </tr>\n",
       "  </thead>\n",
       "  <tbody>\n",
       "    <tr>\n",
       "      <th>1</th>\n",
       "      <td>Male</td>\n",
       "      <td>19</td>\n",
       "      <td>15</td>\n",
       "      <td>39</td>\n",
       "    </tr>\n",
       "    <tr>\n",
       "      <th>2</th>\n",
       "      <td>Male</td>\n",
       "      <td>21</td>\n",
       "      <td>15</td>\n",
       "      <td>81</td>\n",
       "    </tr>\n",
       "    <tr>\n",
       "      <th>3</th>\n",
       "      <td>Female</td>\n",
       "      <td>20</td>\n",
       "      <td>16</td>\n",
       "      <td>6</td>\n",
       "    </tr>\n",
       "    <tr>\n",
       "      <th>4</th>\n",
       "      <td>Female</td>\n",
       "      <td>23</td>\n",
       "      <td>16</td>\n",
       "      <td>77</td>\n",
       "    </tr>\n",
       "    <tr>\n",
       "      <th>5</th>\n",
       "      <td>Female</td>\n",
       "      <td>31</td>\n",
       "      <td>17</td>\n",
       "      <td>40</td>\n",
       "    </tr>\n",
       "    <tr>\n",
       "      <th>...</th>\n",
       "      <td>...</td>\n",
       "      <td>...</td>\n",
       "      <td>...</td>\n",
       "      <td>...</td>\n",
       "    </tr>\n",
       "    <tr>\n",
       "      <th>194</th>\n",
       "      <td>Female</td>\n",
       "      <td>38</td>\n",
       "      <td>113</td>\n",
       "      <td>91</td>\n",
       "    </tr>\n",
       "    <tr>\n",
       "      <th>195</th>\n",
       "      <td>Female</td>\n",
       "      <td>47</td>\n",
       "      <td>120</td>\n",
       "      <td>16</td>\n",
       "    </tr>\n",
       "    <tr>\n",
       "      <th>196</th>\n",
       "      <td>Female</td>\n",
       "      <td>35</td>\n",
       "      <td>120</td>\n",
       "      <td>79</td>\n",
       "    </tr>\n",
       "    <tr>\n",
       "      <th>197</th>\n",
       "      <td>Female</td>\n",
       "      <td>45</td>\n",
       "      <td>126</td>\n",
       "      <td>28</td>\n",
       "    </tr>\n",
       "    <tr>\n",
       "      <th>198</th>\n",
       "      <td>Male</td>\n",
       "      <td>32</td>\n",
       "      <td>126</td>\n",
       "      <td>74</td>\n",
       "    </tr>\n",
       "  </tbody>\n",
       "</table></div>"
      ],
      "text/plain": [
       "             gender  age  annual_income  spending_score\n",
       "customer_id                                            \n",
       "1              Male   19             15              39\n",
       "2              Male   21             15              81\n",
       "3            Female   20             16               6\n",
       "4            Female   23             16              77\n",
       "5            Female   31             17              40\n",
       "...             ...  ...            ...             ...\n",
       "194          Female   38            113              91\n",
       "195          Female   47            120              16\n",
       "196          Female   35            120              79\n",
       "197          Female   45            126              28\n",
       "198            Male   32            126              74\n",
       "\n",
       "[198 rows x 4 columns]"
      ]
     },
     "execution_count": 168,
     "metadata": {},
     "output_type": "execute_result"
    }
   ],
   "source": [
    "mall_df.set_index('customer_id')"
   ]
  },
  {
   "cell_type": "markdown",
   "id": "63e8da5a",
   "metadata": {},
   "source": [
    "### 5. Encode categorical `gender` column using OneHotEncoder"
   ]
  },
  {
   "cell_type": "code",
   "execution_count": 169,
   "id": "8207d8c2",
   "metadata": {},
   "outputs": [
    {
     "data": {
      "text/html": [
       "<div><div id=72acfa13-b0bc-4d02-9400-13f589641df7 style=\"display:none; background-color:#9D6CFF; color:white; width:200px; height:30px; padding-left:5px; border-radius:4px; flex-direction:row; justify-content:space-around; align-items:center;\" onmouseover=\"this.style.backgroundColor='#BA9BF8'\" onmouseout=\"this.style.backgroundColor='#9D6CFF'\" onclick=\"window.commands?.execute('create-mitosheet-from-dataframe-output');\">See Full Dataframe in Mito</div> <script> if (window.commands.hasCommand('create-mitosheet-from-dataframe-output')) document.getElementById('72acfa13-b0bc-4d02-9400-13f589641df7').style.display = 'flex' </script> <table border=\"1\" class=\"dataframe\">\n",
       "  <thead>\n",
       "    <tr style=\"text-align: right;\">\n",
       "      <th></th>\n",
       "      <th>Male</th>\n",
       "    </tr>\n",
       "  </thead>\n",
       "  <tbody>\n",
       "    <tr>\n",
       "      <th>0</th>\n",
       "      <td>1</td>\n",
       "    </tr>\n",
       "    <tr>\n",
       "      <th>1</th>\n",
       "      <td>1</td>\n",
       "    </tr>\n",
       "    <tr>\n",
       "      <th>2</th>\n",
       "      <td>0</td>\n",
       "    </tr>\n",
       "    <tr>\n",
       "      <th>3</th>\n",
       "      <td>0</td>\n",
       "    </tr>\n",
       "    <tr>\n",
       "      <th>4</th>\n",
       "      <td>0</td>\n",
       "    </tr>\n",
       "  </tbody>\n",
       "</table></div>"
      ],
      "text/plain": [
       "   Male\n",
       "0     1\n",
       "1     1\n",
       "2     0\n",
       "3     0\n",
       "4     0"
      ]
     },
     "execution_count": 169,
     "metadata": {},
     "output_type": "execute_result"
    }
   ],
   "source": [
    "dummy_df = pd.get_dummies(mall_df.gender, drop_first = True)\n",
    "dummy_df.head()"
   ]
  },
  {
   "cell_type": "code",
   "execution_count": 170,
   "id": "0faaa7c5",
   "metadata": {},
   "outputs": [
    {
     "data": {
      "text/html": [
       "<div><div id=1b0f76ca-05ae-488a-b863-9ff2652262e7 style=\"display:none; background-color:#9D6CFF; color:white; width:200px; height:30px; padding-left:5px; border-radius:4px; flex-direction:row; justify-content:space-around; align-items:center;\" onmouseover=\"this.style.backgroundColor='#BA9BF8'\" onmouseout=\"this.style.backgroundColor='#9D6CFF'\" onclick=\"window.commands?.execute('create-mitosheet-from-dataframe-output');\">See Full Dataframe in Mito</div> <script> if (window.commands.hasCommand('create-mitosheet-from-dataframe-output')) document.getElementById('1b0f76ca-05ae-488a-b863-9ff2652262e7').style.display = 'flex' </script> <table border=\"1\" class=\"dataframe\">\n",
       "  <thead>\n",
       "    <tr style=\"text-align: right;\">\n",
       "      <th></th>\n",
       "      <th>customer_id</th>\n",
       "      <th>age</th>\n",
       "      <th>annual_income</th>\n",
       "      <th>spending_score</th>\n",
       "      <th>Male</th>\n",
       "    </tr>\n",
       "  </thead>\n",
       "  <tbody>\n",
       "    <tr>\n",
       "      <th>0</th>\n",
       "      <td>1</td>\n",
       "      <td>19</td>\n",
       "      <td>15</td>\n",
       "      <td>39</td>\n",
       "      <td>1</td>\n",
       "    </tr>\n",
       "    <tr>\n",
       "      <th>1</th>\n",
       "      <td>2</td>\n",
       "      <td>21</td>\n",
       "      <td>15</td>\n",
       "      <td>81</td>\n",
       "      <td>1</td>\n",
       "    </tr>\n",
       "    <tr>\n",
       "      <th>2</th>\n",
       "      <td>3</td>\n",
       "      <td>20</td>\n",
       "      <td>16</td>\n",
       "      <td>6</td>\n",
       "      <td>0</td>\n",
       "    </tr>\n",
       "    <tr>\n",
       "      <th>3</th>\n",
       "      <td>4</td>\n",
       "      <td>23</td>\n",
       "      <td>16</td>\n",
       "      <td>77</td>\n",
       "      <td>0</td>\n",
       "    </tr>\n",
       "    <tr>\n",
       "      <th>4</th>\n",
       "      <td>5</td>\n",
       "      <td>31</td>\n",
       "      <td>17</td>\n",
       "      <td>40</td>\n",
       "      <td>0</td>\n",
       "    </tr>\n",
       "  </tbody>\n",
       "</table></div>"
      ],
      "text/plain": [
       "   customer_id  age  annual_income  spending_score  Male\n",
       "0            1   19             15              39     1\n",
       "1            2   21             15              81     1\n",
       "2            3   20             16               6     0\n",
       "3            4   23             16              77     0\n",
       "4            5   31             17              40     0"
      ]
     },
     "execution_count": 170,
     "metadata": {},
     "output_type": "execute_result"
    }
   ],
   "source": [
    "# concat with df and drop gender column\n",
    "\n",
    "mall_df = pd.concat([mall_df, dummy_df], axis = 1).drop(columns = ['gender'])\n",
    "mall_df.head()"
   ]
  },
  {
   "cell_type": "code",
   "execution_count": 172,
   "id": "fe8ccdce",
   "metadata": {},
   "outputs": [],
   "source": [
    "mall_df.set_index('customer_id', inplace=True)"
   ]
  },
  {
   "cell_type": "markdown",
   "id": "54f18c20",
   "metadata": {},
   "source": [
    "### 4. Train, validate, test split"
   ]
  },
  {
   "cell_type": "code",
   "execution_count": 173,
   "id": "2c8ba32a",
   "metadata": {},
   "outputs": [],
   "source": [
    "train, test = train_test_split(mall_df, train_size = 0.8, random_state = 123)\n",
    "train, validate = train_test_split(train, train_size = 0.75, random_state = 123)"
   ]
  },
  {
   "cell_type": "code",
   "execution_count": 174,
   "id": "59a6a58d",
   "metadata": {},
   "outputs": [
    {
     "data": {
      "text/plain": [
       "((118, 4), (40, 4), (40, 4))"
      ]
     },
     "execution_count": 174,
     "metadata": {},
     "output_type": "execute_result"
    }
   ],
   "source": [
    "train.shape, validate.shape, test.shape"
   ]
  },
  {
   "cell_type": "markdown",
   "id": "3aa9f0d7",
   "metadata": {},
   "source": [
    "### 6. Scale Numeric Columns"
   ]
  },
  {
   "cell_type": "code",
   "execution_count": 175,
   "id": "697ffbf3",
   "metadata": {},
   "outputs": [
    {
     "data": {
      "text/html": [
       "<div><div id=a90af51e-8208-4baa-9b77-2f366c429330 style=\"display:none; background-color:#9D6CFF; color:white; width:200px; height:30px; padding-left:5px; border-radius:4px; flex-direction:row; justify-content:space-around; align-items:center;\" onmouseover=\"this.style.backgroundColor='#BA9BF8'\" onmouseout=\"this.style.backgroundColor='#9D6CFF'\" onclick=\"window.commands?.execute('create-mitosheet-from-dataframe-output');\">See Full Dataframe in Mito</div> <script> if (window.commands.hasCommand('create-mitosheet-from-dataframe-output')) document.getElementById('a90af51e-8208-4baa-9b77-2f366c429330').style.display = 'flex' </script> <table border=\"1\" class=\"dataframe\">\n",
       "  <thead>\n",
       "    <tr style=\"text-align: right;\">\n",
       "      <th></th>\n",
       "      <th>age</th>\n",
       "      <th>annual_income</th>\n",
       "      <th>spending_score</th>\n",
       "      <th>Male</th>\n",
       "    </tr>\n",
       "    <tr>\n",
       "      <th>customer_id</th>\n",
       "      <th></th>\n",
       "      <th></th>\n",
       "      <th></th>\n",
       "      <th></th>\n",
       "    </tr>\n",
       "  </thead>\n",
       "  <tbody>\n",
       "    <tr>\n",
       "      <th>182</th>\n",
       "      <td>32</td>\n",
       "      <td>97</td>\n",
       "      <td>86</td>\n",
       "      <td>0</td>\n",
       "    </tr>\n",
       "    <tr>\n",
       "      <th>49</th>\n",
       "      <td>29</td>\n",
       "      <td>40</td>\n",
       "      <td>42</td>\n",
       "      <td>0</td>\n",
       "    </tr>\n",
       "    <tr>\n",
       "      <th>35</th>\n",
       "      <td>49</td>\n",
       "      <td>33</td>\n",
       "      <td>14</td>\n",
       "      <td>0</td>\n",
       "    </tr>\n",
       "    <tr>\n",
       "      <th>186</th>\n",
       "      <td>30</td>\n",
       "      <td>99</td>\n",
       "      <td>97</td>\n",
       "      <td>1</td>\n",
       "    </tr>\n",
       "    <tr>\n",
       "      <th>114</th>\n",
       "      <td>19</td>\n",
       "      <td>64</td>\n",
       "      <td>46</td>\n",
       "      <td>1</td>\n",
       "    </tr>\n",
       "  </tbody>\n",
       "</table></div>"
      ],
      "text/plain": [
       "             age  annual_income  spending_score  Male\n",
       "customer_id                                          \n",
       "182           32             97              86     0\n",
       "49            29             40              42     0\n",
       "35            49             33              14     0\n",
       "186           30             99              97     1\n",
       "114           19             64              46     1"
      ]
     },
     "execution_count": 175,
     "metadata": {},
     "output_type": "execute_result"
    }
   ],
   "source": [
    "train.head()"
   ]
  },
  {
   "cell_type": "code",
   "execution_count": 178,
   "id": "3bc5ac31",
   "metadata": {},
   "outputs": [
    {
     "data": {
      "text/plain": [
       "Index(['age', 'annual_income', 'spending_score', 'Male'], dtype='object')"
      ]
     },
     "execution_count": 178,
     "metadata": {},
     "output_type": "execute_result"
    }
   ],
   "source": [
    "train.select_dtypes('number').columns"
   ]
  },
  {
   "cell_type": "code",
   "execution_count": 179,
   "id": "8fd8a050",
   "metadata": {},
   "outputs": [],
   "source": [
    "def min_max_scaler(train, valid, test):\n",
    "    '''\n",
    "    Uses the train & test datasets created by the split_my_data function\n",
    "    Returns 3 items: mm_scaler, train_scaled_mm, test_scaled_mm\n",
    "    This is a linear transformation. Values will lie between 0 and 1\n",
    "    '''\n",
    "    num_vars = list(train.select_dtypes('number').columns)\n",
    "    \n",
    "    scaler = MinMaxScaler(copy=True, feature_range=(0,1))\n",
    "    \n",
    "    train[num_vars] = scaler.fit_transform(train[num_vars])\n",
    "    \n",
    "    valid[num_vars] = scaler.transform(valid[num_vars])\n",
    "    \n",
    "    test[num_vars] = scaler.transform(test[num_vars])\n",
    "    \n",
    "    return scaler, train, valid, test"
   ]
  },
  {
   "cell_type": "code",
   "execution_count": 180,
   "id": "bb7384da",
   "metadata": {},
   "outputs": [],
   "source": [
    "# use the scaler\n",
    "scaler, train_scaled, validate_scaled, test_scaled = min_max_scaler(train, validate, test)"
   ]
  },
  {
   "cell_type": "code",
   "execution_count": 181,
   "id": "0974bfa9",
   "metadata": {},
   "outputs": [
    {
     "data": {
      "text/html": [
       "<div><div id=2b48cb27-f80f-42fd-be1b-e2e5ec9a4d23 style=\"display:none; background-color:#9D6CFF; color:white; width:200px; height:30px; padding-left:5px; border-radius:4px; flex-direction:row; justify-content:space-around; align-items:center;\" onmouseover=\"this.style.backgroundColor='#BA9BF8'\" onmouseout=\"this.style.backgroundColor='#9D6CFF'\" onclick=\"window.commands?.execute('create-mitosheet-from-dataframe-output');\">See Full Dataframe in Mito</div> <script> if (window.commands.hasCommand('create-mitosheet-from-dataframe-output')) document.getElementById('2b48cb27-f80f-42fd-be1b-e2e5ec9a4d23').style.display = 'flex' </script> <table border=\"1\" class=\"dataframe\">\n",
       "  <thead>\n",
       "    <tr style=\"text-align: right;\">\n",
       "      <th></th>\n",
       "      <th>age</th>\n",
       "      <th>annual_income</th>\n",
       "      <th>spending_score</th>\n",
       "      <th>Male</th>\n",
       "    </tr>\n",
       "    <tr>\n",
       "      <th>customer_id</th>\n",
       "      <th></th>\n",
       "      <th></th>\n",
       "      <th></th>\n",
       "      <th></th>\n",
       "    </tr>\n",
       "  </thead>\n",
       "  <tbody>\n",
       "    <tr>\n",
       "      <th>182</th>\n",
       "      <td>0.269231</td>\n",
       "      <td>0.738739</td>\n",
       "      <td>0.867347</td>\n",
       "      <td>0.0</td>\n",
       "    </tr>\n",
       "    <tr>\n",
       "      <th>49</th>\n",
       "      <td>0.211538</td>\n",
       "      <td>0.225225</td>\n",
       "      <td>0.418367</td>\n",
       "      <td>0.0</td>\n",
       "    </tr>\n",
       "    <tr>\n",
       "      <th>35</th>\n",
       "      <td>0.596154</td>\n",
       "      <td>0.162162</td>\n",
       "      <td>0.132653</td>\n",
       "      <td>0.0</td>\n",
       "    </tr>\n",
       "    <tr>\n",
       "      <th>186</th>\n",
       "      <td>0.230769</td>\n",
       "      <td>0.756757</td>\n",
       "      <td>0.979592</td>\n",
       "      <td>1.0</td>\n",
       "    </tr>\n",
       "    <tr>\n",
       "      <th>114</th>\n",
       "      <td>0.019231</td>\n",
       "      <td>0.441441</td>\n",
       "      <td>0.459184</td>\n",
       "      <td>1.0</td>\n",
       "    </tr>\n",
       "  </tbody>\n",
       "</table></div>"
      ],
      "text/plain": [
       "                  age  annual_income  spending_score  Male\n",
       "customer_id                                               \n",
       "182          0.269231       0.738739        0.867347   0.0\n",
       "49           0.211538       0.225225        0.418367   0.0\n",
       "35           0.596154       0.162162        0.132653   0.0\n",
       "186          0.230769       0.756757        0.979592   1.0\n",
       "114          0.019231       0.441441        0.459184   1.0"
      ]
     },
     "execution_count": 181,
     "metadata": {},
     "output_type": "execute_result"
    }
   ],
   "source": [
    "train_scaled.head()"
   ]
  },
  {
   "cell_type": "code",
   "execution_count": 187,
   "id": "e3e3c671",
   "metadata": {},
   "outputs": [],
   "source": [
    "# function to detect and eliminate outliers using IQR rule\n",
    "\n",
    "def outlier_function(df, cols, k):\n",
    "    for col in df[cols]:\n",
    "        q1 = mall_df.annual_income.quantile(0.25)\n",
    "        q3 = mall_df.annual_income.quantile(0.75)\n",
    "        iqr = q3 - q1\n",
    "        upper_bound =  q3 + k * iqr\n",
    "        lower_bound =  q1 - k * iqr     \n",
    "        df = df[(df[col] < upper_bound) & (df[col] > lower_bound)]\n",
    "    return df"
   ]
  },
  {
   "cell_type": "code",
   "execution_count": 198,
   "id": "d99f78b3",
   "metadata": {},
   "outputs": [],
   "source": [
    "def wrangle_mall_df():\n",
    "    \n",
    "    # acquire data\n",
    "    sql = 'select * from customers'\n",
    "    mall = wrangle.acquire_data('mall_data.csv', 'mall_customers', mall_query)\n",
    "    \n",
    "    # handle outliers\n",
    "    mall = outlier_function(mall, ['age', 'spending_score', 'annual_income'], 1.5)\n",
    "    \n",
    "    # get dummy for gender column\n",
    "    dummy_df = pd.get_dummies(mall.gender, drop_first=True)\n",
    "    mall = pd.concat([mall, dummy_df], axis=1).drop(columns = ['gender'])\n",
    "    mall.rename(columns= {'Male': 'is_male'}, inplace = True)\n",
    "\n",
    "    # split the data in train, validate and test\n",
    "    train, test = train_test_split(mall, train_size = 0.8, random_state = 123)\n",
    "    train, validate = train_test_split(train, train_size = 0.75, random_state = 123)\n",
    "    \n",
    "    return min_max_scaler, train, validate, test"
   ]
  },
  {
   "cell_type": "code",
   "execution_count": 199,
   "id": "2c94fd6b",
   "metadata": {},
   "outputs": [],
   "source": [
    "min_max_scaler, train, validate, test = wrangle_mall_df()"
   ]
  },
  {
   "cell_type": "code",
   "execution_count": 200,
   "id": "acf5ae70",
   "metadata": {},
   "outputs": [
    {
     "data": {
      "text/html": [
       "<div><div id=79a4261e-a950-444a-9840-a88fb9b70e46 style=\"display:none; background-color:#9D6CFF; color:white; width:200px; height:30px; padding-left:5px; border-radius:4px; flex-direction:row; justify-content:space-around; align-items:center;\" onmouseover=\"this.style.backgroundColor='#BA9BF8'\" onmouseout=\"this.style.backgroundColor='#9D6CFF'\" onclick=\"window.commands?.execute('create-mitosheet-from-dataframe-output');\">See Full Dataframe in Mito</div> <script> if (window.commands.hasCommand('create-mitosheet-from-dataframe-output')) document.getElementById('79a4261e-a950-444a-9840-a88fb9b70e46').style.display = 'flex' </script> <table border=\"1\" class=\"dataframe\">\n",
       "  <thead>\n",
       "    <tr style=\"text-align: right;\">\n",
       "      <th></th>\n",
       "      <th>customer_id</th>\n",
       "      <th>age</th>\n",
       "      <th>annual_income</th>\n",
       "      <th>spending_score</th>\n",
       "      <th>is_male</th>\n",
       "    </tr>\n",
       "  </thead>\n",
       "  <tbody>\n",
       "    <tr>\n",
       "      <th>181</th>\n",
       "      <td>182</td>\n",
       "      <td>32</td>\n",
       "      <td>97</td>\n",
       "      <td>86</td>\n",
       "      <td>0</td>\n",
       "    </tr>\n",
       "    <tr>\n",
       "      <th>48</th>\n",
       "      <td>49</td>\n",
       "      <td>29</td>\n",
       "      <td>40</td>\n",
       "      <td>42</td>\n",
       "      <td>0</td>\n",
       "    </tr>\n",
       "    <tr>\n",
       "      <th>34</th>\n",
       "      <td>35</td>\n",
       "      <td>49</td>\n",
       "      <td>33</td>\n",
       "      <td>14</td>\n",
       "      <td>0</td>\n",
       "    </tr>\n",
       "    <tr>\n",
       "      <th>185</th>\n",
       "      <td>186</td>\n",
       "      <td>30</td>\n",
       "      <td>99</td>\n",
       "      <td>97</td>\n",
       "      <td>1</td>\n",
       "    </tr>\n",
       "    <tr>\n",
       "      <th>113</th>\n",
       "      <td>114</td>\n",
       "      <td>19</td>\n",
       "      <td>64</td>\n",
       "      <td>46</td>\n",
       "      <td>1</td>\n",
       "    </tr>\n",
       "  </tbody>\n",
       "</table></div>"
      ],
      "text/plain": [
       "     customer_id  age  annual_income  spending_score  is_male\n",
       "181          182   32             97              86        0\n",
       "48            49   29             40              42        0\n",
       "34            35   49             33              14        0\n",
       "185          186   30             99              97        1\n",
       "113          114   19             64              46        1"
      ]
     },
     "execution_count": 200,
     "metadata": {},
     "output_type": "execute_result"
    }
   ],
   "source": [
    "train.head()"
   ]
  },
  {
   "cell_type": "code",
   "execution_count": 192,
   "id": "79e27d46",
   "metadata": {},
   "outputs": [],
   "source": [
    "#scaled the values\n",
    "scaler, train_scaled, validate_scaled, test_scaled = min_max_scaler(train, validate, test)"
   ]
  },
  {
   "cell_type": "code",
   "execution_count": 211,
   "id": "48c175e9",
   "metadata": {},
   "outputs": [
    {
     "data": {
      "text/html": [
       "<div><div id=559432c9-9146-4903-913a-ddd8b500d075 style=\"display:none; background-color:#9D6CFF; color:white; width:200px; height:30px; padding-left:5px; border-radius:4px; flex-direction:row; justify-content:space-around; align-items:center;\" onmouseover=\"this.style.backgroundColor='#BA9BF8'\" onmouseout=\"this.style.backgroundColor='#9D6CFF'\" onclick=\"window.commands?.execute('create-mitosheet-from-dataframe-output');\">See Full Dataframe in Mito</div> <script> if (window.commands.hasCommand('create-mitosheet-from-dataframe-output')) document.getElementById('559432c9-9146-4903-913a-ddd8b500d075').style.display = 'flex' </script> <table border=\"1\" class=\"dataframe\">\n",
       "  <thead>\n",
       "    <tr style=\"text-align: right;\">\n",
       "      <th></th>\n",
       "      <th>customer_id</th>\n",
       "      <th>age</th>\n",
       "      <th>annual_income</th>\n",
       "      <th>spending_score</th>\n",
       "      <th>is_male</th>\n",
       "    </tr>\n",
       "  </thead>\n",
       "  <tbody>\n",
       "    <tr>\n",
       "      <th>181</th>\n",
       "      <td>0.923469</td>\n",
       "      <td>0.269231</td>\n",
       "      <td>0.738739</td>\n",
       "      <td>0.867347</td>\n",
       "      <td>0.0</td>\n",
       "    </tr>\n",
       "    <tr>\n",
       "      <th>48</th>\n",
       "      <td>0.244898</td>\n",
       "      <td>0.211538</td>\n",
       "      <td>0.225225</td>\n",
       "      <td>0.418367</td>\n",
       "      <td>0.0</td>\n",
       "    </tr>\n",
       "    <tr>\n",
       "      <th>34</th>\n",
       "      <td>0.173469</td>\n",
       "      <td>0.596154</td>\n",
       "      <td>0.162162</td>\n",
       "      <td>0.132653</td>\n",
       "      <td>0.0</td>\n",
       "    </tr>\n",
       "    <tr>\n",
       "      <th>185</th>\n",
       "      <td>0.943878</td>\n",
       "      <td>0.230769</td>\n",
       "      <td>0.756757</td>\n",
       "      <td>0.979592</td>\n",
       "      <td>1.0</td>\n",
       "    </tr>\n",
       "    <tr>\n",
       "      <th>113</th>\n",
       "      <td>0.576531</td>\n",
       "      <td>0.019231</td>\n",
       "      <td>0.441441</td>\n",
       "      <td>0.459184</td>\n",
       "      <td>1.0</td>\n",
       "    </tr>\n",
       "  </tbody>\n",
       "</table></div>"
      ],
      "text/plain": [
       "     customer_id       age  annual_income  spending_score  is_male\n",
       "181     0.923469  0.269231       0.738739        0.867347      0.0\n",
       "48      0.244898  0.211538       0.225225        0.418367      0.0\n",
       "34      0.173469  0.596154       0.162162        0.132653      0.0\n",
       "185     0.943878  0.230769       0.756757        0.979592      1.0\n",
       "113     0.576531  0.019231       0.441441        0.459184      1.0"
      ]
     },
     "execution_count": 211,
     "metadata": {},
     "output_type": "execute_result"
    }
   ],
   "source": [
    "train_scaled.head()"
   ]
  },
  {
   "cell_type": "code",
   "execution_count": 212,
   "id": "8a83e31f",
   "metadata": {},
   "outputs": [
    {
     "data": {
      "text/plain": [
       "<AxesSubplot:>"
      ]
     },
     "execution_count": 212,
     "metadata": {},
     "output_type": "execute_result"
    },
    {
     "data": {
      "image/png": "[encoded data removed]",
      "text/plain": [
       "<Figure size 432x288 with 1 Axes>"
      ]
     },
     "metadata": {
      "needs_background": "light"
     },
     "output_type": "display_data"
    }
   ],
   "source": [
    "train.annual_income.hist()"
   ]
  },
  {
   "cell_type": "code",
   "execution_count": 217,
   "id": "454a0d9d",
   "metadata": {},
   "outputs": [
    {
     "data": {
      "image/png": "[encoded data removed]",
      "text/plain": [
       "<Figure size 432x288 with 1 Axes>"
      ]
     },
     "metadata": {
      "needs_background": "light"
     },
     "output_type": "display_data"
    }
   ],
   "source": [
    "sns.scatterplot(data = train, x = 'annual_income', y = 'spending_score', hue = 'is_male')\n",
    "plt.show()"
   ]
  },
  {
   "cell_type": "code",
   "execution_count": null,
   "id": "a20dea00",
   "metadata": {},
   "outputs": [],
   "source": []
  }
 ],
 "metadata": {
  "kernelspec": {
   "display_name": "Python 3",
   "language": "python",
   "name": "python3"
  },
  "language_info": {
   "codemirror_mode": {
    "name": "ipython",
    "version": 3
   },
   "file_extension": ".py",
   "mimetype": "text/x-python",
   "name": "python",
   "nbconvert_exporter": "python",
   "pygments_lexer": "ipython3",
   "version": "3.8.8"
  }
 },
 "nbformat": 4,
 "nbformat_minor": 5
}
