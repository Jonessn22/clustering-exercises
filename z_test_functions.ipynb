{
 "cells": [
  {
   "cell_type": "code",
   "execution_count": 1,
   "id": "9a6b75be",
   "metadata": {},
   "outputs": [],
   "source": [
    "import wrangle_two"
   ]
  },
  {
   "cell_type": "code",
   "execution_count": null,
   "id": "3762593f",
   "metadata": {},
   "outputs": [],
   "source": [
    "mall_df = wrangle_two.acquire_data('mall_data', 'customer_id', 'mall_customers', 'select * from customers')\n",
    "mall_df.head()"
   ]
  },
  {
   "cell_type": "code",
   "execution_count": 2,
   "id": "5cefb276",
   "metadata": {},
   "outputs": [],
   "source": [
    "df = wrangle_two.acquire_data('mall_data.csv', 'customer_id', 'mall_customers', 'select * from customers')"
   ]
  },
  {
   "cell_type": "code",
   "execution_count": 3,
   "id": "fe738c31",
   "metadata": {},
   "outputs": [
    {
     "data": {
      "text/html": [
       "<div><div id=87e74c92-6af9-4e27-a5b1-04cc66be0d2a style=\"display:none; background-color:#9D6CFF; color:white; width:200px; height:30px; padding-left:5px; border-radius:4px; flex-direction:row; justify-content:space-around; align-items:center;\" onmouseover=\"this.style.backgroundColor='#BA9BF8'\" onmouseout=\"this.style.backgroundColor='#9D6CFF'\" onclick=\"window.commands?.execute('create-mitosheet-from-dataframe-output');\">See Full Dataframe in Mito</div> <script> if (window.commands.hasCommand('create-mitosheet-from-dataframe-output')) document.getElementById('87e74c92-6af9-4e27-a5b1-04cc66be0d2a').style.display = 'flex' </script> <table border=\"1\" class=\"dataframe\">\n",
       "  <thead>\n",
       "    <tr style=\"text-align: right;\">\n",
       "      <th></th>\n",
       "      <th>gender</th>\n",
       "      <th>age</th>\n",
       "      <th>annual_income</th>\n",
       "      <th>spending_score</th>\n",
       "    </tr>\n",
       "    <tr>\n",
       "      <th>customer_id</th>\n",
       "      <th></th>\n",
       "      <th></th>\n",
       "      <th></th>\n",
       "      <th></th>\n",
       "    </tr>\n",
       "  </thead>\n",
       "  <tbody>\n",
       "    <tr>\n",
       "      <th>1</th>\n",
       "      <td>Male</td>\n",
       "      <td>19</td>\n",
       "      <td>15</td>\n",
       "      <td>39</td>\n",
       "    </tr>\n",
       "    <tr>\n",
       "      <th>2</th>\n",
       "      <td>Male</td>\n",
       "      <td>21</td>\n",
       "      <td>15</td>\n",
       "      <td>81</td>\n",
       "    </tr>\n",
       "    <tr>\n",
       "      <th>3</th>\n",
       "      <td>Female</td>\n",
       "      <td>20</td>\n",
       "      <td>16</td>\n",
       "      <td>6</td>\n",
       "    </tr>\n",
       "    <tr>\n",
       "      <th>4</th>\n",
       "      <td>Female</td>\n",
       "      <td>23</td>\n",
       "      <td>16</td>\n",
       "      <td>77</td>\n",
       "    </tr>\n",
       "    <tr>\n",
       "      <th>5</th>\n",
       "      <td>Female</td>\n",
       "      <td>31</td>\n",
       "      <td>17</td>\n",
       "      <td>40</td>\n",
       "    </tr>\n",
       "  </tbody>\n",
       "</table></div>"
      ],
      "text/plain": [
       "             gender  age  annual_income  spending_score\n",
       "customer_id                                            \n",
       "1              Male   19             15              39\n",
       "2              Male   21             15              81\n",
       "3            Female   20             16               6\n",
       "4            Female   23             16              77\n",
       "5            Female   31             17              40"
      ]
     },
     "execution_count": 3,
     "metadata": {},
     "output_type": "execute_result"
    }
   ],
   "source": [
    "df.head()"
   ]
  },
  {
   "cell_type": "code",
   "execution_count": null,
   "id": "f3c48fbe",
   "metadata": {},
   "outputs": [],
   "source": []
  }
 ],
 "metadata": {
  "kernelspec": {
   "display_name": "Python 3",
   "language": "python",
   "name": "python3"
  },
  "language_info": {
   "codemirror_mode": {
    "name": "ipython",
    "version": 3
   },
   "file_extension": ".py",
   "mimetype": "text/x-python",
   "name": "python",
   "nbconvert_exporter": "python",
   "pygments_lexer": "ipython3",
   "version": "3.8.8"
  }
 },
 "nbformat": 4,
 "nbformat_minor": 5
}
