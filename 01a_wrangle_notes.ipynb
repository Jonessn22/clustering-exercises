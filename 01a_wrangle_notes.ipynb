{
 "cells": [
  {
   "cell_type": "markdown",
   "id": "8b1f72ea",
   "metadata": {},
   "source": [
    "## Acquire Function"
   ]
  },
  {
   "cell_type": "markdown",
   "id": "9c250b84",
   "metadata": {},
   "source": [
    ">Importing host, user, and password from env module<br>\n",
    ">Importing os and pandas modules"
   ]
  },
  {
   "cell_type": "code",
   "execution_count": 1,
   "id": "916f755e",
   "metadata": {},
   "outputs": [],
   "source": [
    "from env import host, user, password\n",
    "import pandas as pd\n",
    "import os"
   ]
  },
  {
   "cell_type": "markdown",
   "id": "09cb1744",
   "metadata": {},
   "source": [
    ">url string that will be used to connect to db"
   ]
  },
  {
   "cell_type": "code",
   "execution_count": 2,
   "id": "3d1401c1",
   "metadata": {},
   "outputs": [],
   "source": [
    "database = 'mall_customers'\n",
    "url = f'mysql+pymysql://{user}:{password}@{host}/{database}'"
   ]
  },
  {
   "cell_type": "markdown",
   "id": "f9fa1c1a",
   "metadata": {},
   "source": [
    ">Reading SQL query into a df using the query string, url string, and `customer_id` as the index column"
   ]
  },
  {
   "cell_type": "code",
   "execution_count": 3,
   "id": "90957dcc",
   "metadata": {},
   "outputs": [],
   "source": [
    "query = 'select * from customers'\n",
    "mall_df = pd.read_sql(query, url, index_col = 'customer_id')"
   ]
  },
  {
   "cell_type": "code",
   "execution_count": 4,
   "id": "2417fc28",
   "metadata": {},
   "outputs": [
    {
     "data": {
      "text/html": [
       "<div><div id=fb9c7a98-d6f5-4342-8c1c-9bf368ff43a6 style=\"display:none; background-color:#9D6CFF; color:white; width:200px; height:30px; padding-left:5px; border-radius:4px; flex-direction:row; justify-content:space-around; align-items:center;\" onmouseover=\"this.style.backgroundColor='#BA9BF8'\" onmouseout=\"this.style.backgroundColor='#9D6CFF'\" onclick=\"window.commands?.execute('create-mitosheet-from-dataframe-output');\">See Full Dataframe in Mito</div> <script> if (window.commands.hasCommand('create-mitosheet-from-dataframe-output')) document.getElementById('fb9c7a98-d6f5-4342-8c1c-9bf368ff43a6').style.display = 'flex' </script> <table border=\"1\" class=\"dataframe\">\n",
       "  <thead>\n",
       "    <tr style=\"text-align: right;\">\n",
       "      <th></th>\n",
       "      <th>gender</th>\n",
       "      <th>age</th>\n",
       "      <th>annual_income</th>\n",
       "      <th>spending_score</th>\n",
       "    </tr>\n",
       "    <tr>\n",
       "      <th>customer_id</th>\n",
       "      <th></th>\n",
       "      <th></th>\n",
       "      <th></th>\n",
       "      <th></th>\n",
       "    </tr>\n",
       "  </thead>\n",
       "  <tbody>\n",
       "    <tr>\n",
       "      <th>1</th>\n",
       "      <td>Male</td>\n",
       "      <td>19</td>\n",
       "      <td>15</td>\n",
       "      <td>39</td>\n",
       "    </tr>\n",
       "    <tr>\n",
       "      <th>2</th>\n",
       "      <td>Male</td>\n",
       "      <td>21</td>\n",
       "      <td>15</td>\n",
       "      <td>81</td>\n",
       "    </tr>\n",
       "    <tr>\n",
       "      <th>3</th>\n",
       "      <td>Female</td>\n",
       "      <td>20</td>\n",
       "      <td>16</td>\n",
       "      <td>6</td>\n",
       "    </tr>\n",
       "    <tr>\n",
       "      <th>4</th>\n",
       "      <td>Female</td>\n",
       "      <td>23</td>\n",
       "      <td>16</td>\n",
       "      <td>77</td>\n",
       "    </tr>\n",
       "    <tr>\n",
       "      <th>5</th>\n",
       "      <td>Female</td>\n",
       "      <td>31</td>\n",
       "      <td>17</td>\n",
       "      <td>40</td>\n",
       "    </tr>\n",
       "  </tbody>\n",
       "</table></div>"
      ],
      "text/plain": [
       "             gender  age  annual_income  spending_score\n",
       "customer_id                                            \n",
       "1              Male   19             15              39\n",
       "2              Male   21             15              81\n",
       "3            Female   20             16               6\n",
       "4            Female   23             16              77\n",
       "5            Female   31             17              40"
      ]
     },
     "execution_count": 4,
     "metadata": {},
     "output_type": "execute_result"
    }
   ],
   "source": [
    "mall_df.head()"
   ]
  },
  {
   "cell_type": "markdown",
   "id": "f9157805",
   "metadata": {},
   "source": [
    ">## `acquire_data()` function"
   ]
  },
  {
   "cell_type": "code",
   "execution_count": 14,
   "id": "ee5919e0",
   "metadata": {},
   "outputs": [],
   "source": [
    "def acquire_data(file_name, index_col, database, query):\n",
    "    '''\n",
    "THIS FUNCTION TAKES IN:\n",
    "    (1) A CSV FILE NAME ***INCLUDE .CSV EXT****, \n",
    "    (2) COLUMN FROM TABLE TO BE USED AS DATAFRAME INDEX, \n",
    "    (3) DATABASE NAME, AND \n",
    "    (4) SQL QUERY STRING \n",
    "AND RETURNS A PANDAS DF BY:\n",
    "        (i.) CHECKING TO SEE IF LOCAL CSV FILE WITH DATA EXISTS\n",
    "        (ii.) WRITING THE LOCAL CSV FILE OT PANDAS DF \n",
    "OR, IF LOCAL CSV DOES NOT EXIST:\n",
    "        (i.) IMPORTING DATABASE CONNECTION CREDENTIALS\n",
    "        (ii.) USING CREDENTIALS TO CREATE DATABASE CONNECTION STRING\n",
    "        (iii.) READING THE SQL QUERY INTO A DF\n",
    "        (iv.) CACHING DF AND SAVING DATA AS LOCAL CSV FILE\n",
    "    '''\n",
    "    # checking for local csv file\n",
    "    if os.path.isfile(file_name):\n",
    "        \n",
    "        # reading csv file to pandas df\n",
    "        df = pd.read_csv(file_name, index_col = index_col)\n",
    "        \n",
    "    # if no local csv file\n",
    "    else:\n",
    "\n",
    "        # url database connection string\n",
    "        url = f'mysql+pymysql://{user}:{password}@{host}/{database}'\n",
    "\n",
    "        # reading sql query into df using query, url string, and index_col parameter\n",
    "        df = pd.read_sql(query, url, index_col)\n",
    "        \n",
    "        # write df to local csv file\n",
    "        df.to_csv(file_name)\n",
    "    \n",
    "    return df    "
   ]
  },
  {
   "cell_type": "code",
   "execution_count": 15,
   "id": "b6a5a831",
   "metadata": {
    "scrolled": false
   },
   "outputs": [],
   "source": [
    "test_df = acquire_data('mall_data.csv', 'customer_id', 'mall_customers', 'select * from customers')"
   ]
  },
  {
   "cell_type": "code",
   "execution_count": 16,
   "id": "0d65263e",
   "metadata": {},
   "outputs": [
    {
     "data": {
      "text/html": [
       "<div><div id=a331ad29-df3a-4531-8d44-4ed8aab82585 style=\"display:none; background-color:#9D6CFF; color:white; width:200px; height:30px; padding-left:5px; border-radius:4px; flex-direction:row; justify-content:space-around; align-items:center;\" onmouseover=\"this.style.backgroundColor='#BA9BF8'\" onmouseout=\"this.style.backgroundColor='#9D6CFF'\" onclick=\"window.commands?.execute('create-mitosheet-from-dataframe-output');\">See Full Dataframe in Mito</div> <script> if (window.commands.hasCommand('create-mitosheet-from-dataframe-output')) document.getElementById('a331ad29-df3a-4531-8d44-4ed8aab82585').style.display = 'flex' </script> <table border=\"1\" class=\"dataframe\">\n",
       "  <thead>\n",
       "    <tr style=\"text-align: right;\">\n",
       "      <th></th>\n",
       "      <th>gender</th>\n",
       "      <th>age</th>\n",
       "      <th>annual_income</th>\n",
       "      <th>spending_score</th>\n",
       "    </tr>\n",
       "    <tr>\n",
       "      <th>customer_id</th>\n",
       "      <th></th>\n",
       "      <th></th>\n",
       "      <th></th>\n",
       "      <th></th>\n",
       "    </tr>\n",
       "  </thead>\n",
       "  <tbody>\n",
       "    <tr>\n",
       "      <th>1</th>\n",
       "      <td>Male</td>\n",
       "      <td>19</td>\n",
       "      <td>15</td>\n",
       "      <td>39</td>\n",
       "    </tr>\n",
       "    <tr>\n",
       "      <th>2</th>\n",
       "      <td>Male</td>\n",
       "      <td>21</td>\n",
       "      <td>15</td>\n",
       "      <td>81</td>\n",
       "    </tr>\n",
       "    <tr>\n",
       "      <th>3</th>\n",
       "      <td>Female</td>\n",
       "      <td>20</td>\n",
       "      <td>16</td>\n",
       "      <td>6</td>\n",
       "    </tr>\n",
       "    <tr>\n",
       "      <th>4</th>\n",
       "      <td>Female</td>\n",
       "      <td>23</td>\n",
       "      <td>16</td>\n",
       "      <td>77</td>\n",
       "    </tr>\n",
       "    <tr>\n",
       "      <th>5</th>\n",
       "      <td>Female</td>\n",
       "      <td>31</td>\n",
       "      <td>17</td>\n",
       "      <td>40</td>\n",
       "    </tr>\n",
       "  </tbody>\n",
       "</table></div>"
      ],
      "text/plain": [
       "             gender  age  annual_income  spending_score\n",
       "customer_id                                            \n",
       "1              Male   19             15              39\n",
       "2              Male   21             15              81\n",
       "3            Female   20             16               6\n",
       "4            Female   23             16              77\n",
       "5            Female   31             17              40"
      ]
     },
     "execution_count": 16,
     "metadata": {},
     "output_type": "execute_result"
    }
   ],
   "source": [
    "test_df.head()"
   ]
  },
  {
   "cell_type": "markdown",
   "id": "1d22854b",
   "metadata": {},
   "source": [
    "## Summarize Function"
   ]
  },
  {
   "cell_type": "code",
   "execution_count": 96,
   "id": "1c796997",
   "metadata": {},
   "outputs": [
    {
     "data": {
      "text/html": [
       "<div><div id=fea9475f-25c5-43e6-ad83-7501561c6f99 style=\"display:none; background-color:#9D6CFF; color:white; width:200px; height:30px; padding-left:5px; border-radius:4px; flex-direction:row; justify-content:space-around; align-items:center;\" onmouseover=\"this.style.backgroundColor='#BA9BF8'\" onmouseout=\"this.style.backgroundColor='#9D6CFF'\" onclick=\"window.commands?.execute('create-mitosheet-from-dataframe-output');\">See Full Dataframe in Mito</div> <script> if (window.commands.hasCommand('create-mitosheet-from-dataframe-output')) document.getElementById('fea9475f-25c5-43e6-ad83-7501561c6f99').style.display = 'flex' </script> <table border=\"1\" class=\"dataframe\">\n",
       "  <thead>\n",
       "    <tr style=\"text-align: right;\">\n",
       "      <th></th>\n",
       "      <th>gender</th>\n",
       "      <th>age</th>\n",
       "      <th>annual_income</th>\n",
       "      <th>spending_score</th>\n",
       "    </tr>\n",
       "    <tr>\n",
       "      <th>customer_id</th>\n",
       "      <th></th>\n",
       "      <th></th>\n",
       "      <th></th>\n",
       "      <th></th>\n",
       "    </tr>\n",
       "  </thead>\n",
       "  <tbody>\n",
       "    <tr>\n",
       "      <th>1</th>\n",
       "      <td>Male</td>\n",
       "      <td>19</td>\n",
       "      <td>15</td>\n",
       "      <td>39</td>\n",
       "    </tr>\n",
       "    <tr>\n",
       "      <th>2</th>\n",
       "      <td>Male</td>\n",
       "      <td>21</td>\n",
       "      <td>15</td>\n",
       "      <td>81</td>\n",
       "    </tr>\n",
       "    <tr>\n",
       "      <th>3</th>\n",
       "      <td>Female</td>\n",
       "      <td>20</td>\n",
       "      <td>16</td>\n",
       "      <td>6</td>\n",
       "    </tr>\n",
       "    <tr>\n",
       "      <th>4</th>\n",
       "      <td>Female</td>\n",
       "      <td>23</td>\n",
       "      <td>16</td>\n",
       "      <td>77</td>\n",
       "    </tr>\n",
       "    <tr>\n",
       "      <th>5</th>\n",
       "      <td>Female</td>\n",
       "      <td>31</td>\n",
       "      <td>17</td>\n",
       "      <td>40</td>\n",
       "    </tr>\n",
       "  </tbody>\n",
       "</table></div>"
      ],
      "text/plain": [
       "             gender  age  annual_income  spending_score\n",
       "customer_id                                            \n",
       "1              Male   19             15              39\n",
       "2              Male   21             15              81\n",
       "3            Female   20             16               6\n",
       "4            Female   23             16              77\n",
       "5            Female   31             17              40"
      ]
     },
     "execution_count": 96,
     "metadata": {},
     "output_type": "execute_result"
    }
   ],
   "source": [
    "# 0) df preview\n",
    "mall_df.head()"
   ]
  },
  {
   "cell_type": "code",
   "execution_count": 25,
   "id": "f47c91a1",
   "metadata": {},
   "outputs": [
    {
     "name": "stdout",
     "output_type": "stream",
     "text": [
      "DataFrame Shape\n",
      "--------------------\n",
      "Rows: 200\n",
      "Columns: 4\n",
      "\n"
     ]
    }
   ],
   "source": [
    "# 1) shape\n",
    "print('DataFrame Shape')\n",
    "print('--------------------')\n",
    "print(f'Rows: {mall_df.shape[0]}\\nColumns: {mall_df.shape[1]}')\n",
    "print()"
   ]
  },
  {
   "cell_type": "markdown",
   "id": "a913b1bc",
   "metadata": {},
   "source": [
    ">200 observations and 4 variables"
   ]
  },
  {
   "cell_type": "code",
   "execution_count": 21,
   "id": "2749f13c",
   "metadata": {},
   "outputs": [
    {
     "name": "stdout",
     "output_type": "stream",
     "text": [
      "DataFrame Info\n",
      "--------------------\n",
      "<class 'pandas.core.frame.DataFrame'>\n",
      "Int64Index: 200 entries, 1 to 200\n",
      "Data columns (total 4 columns):\n",
      " #   Column          Non-Null Count  Dtype \n",
      "---  ------          --------------  ----- \n",
      " 0   gender          200 non-null    object\n",
      " 1   age             200 non-null    int64 \n",
      " 2   annual_income   200 non-null    int64 \n",
      " 3   spending_score  200 non-null    int64 \n",
      "dtypes: int64(3), object(1)\n",
      "memory usage: 7.8+ KB\n",
      "\n"
     ]
    }
   ],
   "source": [
    "# 2) info\n",
    "print('DataFrame Info')\n",
    "print('--------------------')\n",
    "mall_df.info()\n",
    "print()"
   ]
  },
  {
   "cell_type": "markdown",
   "id": "9cc307c2",
   "metadata": {},
   "source": [
    ">No null values<br>\n",
    "x3 variables with int dtype and x1 as object"
   ]
  },
  {
   "cell_type": "code",
   "execution_count": 28,
   "id": "d36e06c5",
   "metadata": {},
   "outputs": [
    {
     "name": "stdout",
     "output_type": "stream",
     "text": [
      "DataFrame Stats\n",
      "--------------------\n"
     ]
    },
    {
     "data": {
      "text/html": [
       "<div><div id=fc32f515-8012-44a4-8442-adcfa4fd2d0d style=\"display:none; background-color:#9D6CFF; color:white; width:200px; height:30px; padding-left:5px; border-radius:4px; flex-direction:row; justify-content:space-around; align-items:center;\" onmouseover=\"this.style.backgroundColor='#BA9BF8'\" onmouseout=\"this.style.backgroundColor='#9D6CFF'\" onclick=\"window.commands?.execute('create-mitosheet-from-dataframe-output');\">See Full Dataframe in Mito</div> <script> if (window.commands.hasCommand('create-mitosheet-from-dataframe-output')) document.getElementById('fc32f515-8012-44a4-8442-adcfa4fd2d0d').style.display = 'flex' </script> <table border=\"1\" class=\"dataframe\">\n",
       "  <thead>\n",
       "    <tr style=\"text-align: right;\">\n",
       "      <th></th>\n",
       "      <th>age</th>\n",
       "      <th>annual_income</th>\n",
       "      <th>spending_score</th>\n",
       "    </tr>\n",
       "  </thead>\n",
       "  <tbody>\n",
       "    <tr>\n",
       "      <th>count</th>\n",
       "      <td>200.00</td>\n",
       "      <td>200.00</td>\n",
       "      <td>200.00</td>\n",
       "    </tr>\n",
       "    <tr>\n",
       "      <th>mean</th>\n",
       "      <td>38.85</td>\n",
       "      <td>60.56</td>\n",
       "      <td>50.20</td>\n",
       "    </tr>\n",
       "    <tr>\n",
       "      <th>std</th>\n",
       "      <td>13.97</td>\n",
       "      <td>26.26</td>\n",
       "      <td>25.82</td>\n",
       "    </tr>\n",
       "    <tr>\n",
       "      <th>min</th>\n",
       "      <td>18.00</td>\n",
       "      <td>15.00</td>\n",
       "      <td>1.00</td>\n",
       "    </tr>\n",
       "    <tr>\n",
       "      <th>25%</th>\n",
       "      <td>28.75</td>\n",
       "      <td>41.50</td>\n",
       "      <td>34.75</td>\n",
       "    </tr>\n",
       "    <tr>\n",
       "      <th>50%</th>\n",
       "      <td>36.00</td>\n",
       "      <td>61.50</td>\n",
       "      <td>50.00</td>\n",
       "    </tr>\n",
       "    <tr>\n",
       "      <th>75%</th>\n",
       "      <td>49.00</td>\n",
       "      <td>78.00</td>\n",
       "      <td>73.00</td>\n",
       "    </tr>\n",
       "    <tr>\n",
       "      <th>max</th>\n",
       "      <td>70.00</td>\n",
       "      <td>137.00</td>\n",
       "      <td>99.00</td>\n",
       "    </tr>\n",
       "  </tbody>\n",
       "</table></div>"
      ],
      "text/plain": [
       "                       age        annual_income       spending_score\n",
       "count               200.00               200.00               200.00\n",
       "mean                 38.85                60.56                50.20\n",
       "std                  13.97                26.26                25.82\n",
       "min                  18.00                15.00                 1.00\n",
       "25%                  28.75                41.50                34.75\n",
       "50%                  36.00                61.50                50.00\n",
       "75%                  49.00                78.00                73.00\n",
       "max                  70.00               137.00                99.00"
      ]
     },
     "execution_count": 28,
     "metadata": {},
     "output_type": "execute_result"
    }
   ],
   "source": [
    "# 3) descriptive stats\n",
    "\n",
    "print('DataFrame Stats')\n",
    "print('--------------------')\n",
    "mall_df.describe()"
   ]
  },
  {
   "cell_type": "markdown",
   "id": "3cc53645",
   "metadata": {},
   "source": [
    ">will need to scale numerical columns for modeling (different measurement units)"
   ]
  },
  {
   "cell_type": "code",
   "execution_count": 44,
   "id": "6547a566",
   "metadata": {
    "scrolled": false
   },
   "outputs": [
    {
     "name": "stdout",
     "output_type": "stream",
     "text": [
      "GENDER\n",
      "------\n",
      "Female    112\n",
      "Male       88\n",
      "Name: gender, dtype: int64\n",
      "_____________________________\n",
      "\n",
      "AGE\n",
      "---\n",
      "This column has > 10 values\n",
      "_____________________________\n",
      "\n",
      "ANNUAL_INCOME\n",
      "-------------\n",
      "This column has > 10 values\n",
      "_____________________________\n",
      "\n",
      "SPENDING_SCORE\n",
      "--------------\n",
      "This column has > 10 values\n",
      "_____________________________\n",
      "\n"
     ]
    }
   ],
   "source": [
    "# 4) value counts for colums with 10 or less values\n",
    "\n",
    "for col in mall_df.columns:\n",
    "    if mall_df[col].nunique() <= 10:\n",
    "        print(col.upper())\n",
    "        print('-'*len(col))\n",
    "        print(mall_df[col].value_counts())\n",
    "        print('_____________________________')\n",
    "        print()\n",
    "    else:\n",
    "        print(col.upper())\n",
    "        print('-'*len(col))\n",
    "        print('This column has > 10 values')\n",
    "        print('_____________________________')\n",
    "        print()"
   ]
  },
  {
   "cell_type": "markdown",
   "id": "2449cf24",
   "metadata": {},
   "source": [
    "##### will need to encode gender (binary variable)"
   ]
  },
  {
   "cell_type": "markdown",
   "id": "1d9b44cd",
   "metadata": {},
   "source": [
    "> ## `summarize()` function"
   ]
  },
  {
   "cell_type": "code",
   "execution_count": null,
   "id": "35c34ff5",
   "metadata": {},
   "outputs": [],
   "source": []
  },
  {
   "cell_type": "markdown",
   "id": "a779f65c",
   "metadata": {},
   "source": [
    "## Nulls Function"
   ]
  },
  {
   "cell_type": "markdown",
   "id": "78713520",
   "metadata": {},
   "source": [
    "#### Even though there are no nulls in this data, I want to create a function that can summarize and handle nulls by rows and columns"
   ]
  },
  {
   "cell_type": "code",
   "execution_count": 84,
   "id": "a725aa5c",
   "metadata": {},
   "outputs": [
    {
     "data": {
      "text/plain": [
       "gender            0\n",
       "age               0\n",
       "annual_income     0\n",
       "spending_score    0\n",
       "dtype: int64"
      ]
     },
     "execution_count": 84,
     "metadata": {},
     "output_type": "execute_result"
    }
   ],
   "source": [
    "# number of nulls rows in each column\n",
    "# will also be numerator in percentage missing function\n",
    "mall_df.isnull().sum()"
   ]
  },
  {
   "cell_type": "code",
   "execution_count": 85,
   "id": "db1151b4",
   "metadata": {},
   "outputs": [
    {
     "data": {
      "text/plain": [
       "200"
      ]
     },
     "execution_count": 85,
     "metadata": {},
     "output_type": "execute_result"
    }
   ],
   "source": [
    "# total values in each column (will be denominator in percentage missing fraction)\n",
    "mall_df.shape[0]"
   ]
  },
  {
   "cell_type": "markdown",
   "id": "e1767a47",
   "metadata": {},
   "source": [
    "> ## `nulls_by_col()` function"
   ]
  },
  {
   "cell_type": "code",
   "execution_count": 104,
   "id": "722f00a0",
   "metadata": {},
   "outputs": [],
   "source": [
    "def nulls_by_col(df):\n",
    "    '''\n",
    "THIS FUNCTION TAKES IN A DATAFRAME AND RETURNS A DATAFRAME WHERE THE FIRST COLUMN SHOWS THE\n",
    "NUMBER OF NULLS IN EACH COLUMN AND THE SECOND COLUMN SHOWS THE PERCENTAGE OF VALUES IN EACH\n",
    "COLUMN. THE FINAL DF IS SORTED BY THE PERCENTAGE OF NULLS IN DESCENDING ORDER. \n",
    "    '''\n",
    "    \n",
    "    num_missing = df.isnull().sum()\n",
    "    \n",
    "    rows = df.shape[0]\n",
    "    \n",
    "    pct_missing = num_missing / rows\n",
    "    \n",
    "    nulls_df = pd.DataFrame({'no_nulls_in_col': num_missing, 'pct_nulls_in_col': pct_missing})\\\n",
    "    .sort_values('pct_nulls_in_col', ascending = False)\n",
    "    \n",
    "    return nulls_df"
   ]
  },
  {
   "cell_type": "code",
   "execution_count": 105,
   "id": "2892967b",
   "metadata": {},
   "outputs": [
    {
     "data": {
      "text/html": [
       "<div><div id=dc707aaf-01e8-4e93-a7b5-b3a56564d891 style=\"display:none; background-color:#9D6CFF; color:white; width:200px; height:30px; padding-left:5px; border-radius:4px; flex-direction:row; justify-content:space-around; align-items:center;\" onmouseover=\"this.style.backgroundColor='#BA9BF8'\" onmouseout=\"this.style.backgroundColor='#9D6CFF'\" onclick=\"window.commands?.execute('create-mitosheet-from-dataframe-output');\">See Full Dataframe in Mito</div> <script> if (window.commands.hasCommand('create-mitosheet-from-dataframe-output')) document.getElementById('dc707aaf-01e8-4e93-a7b5-b3a56564d891').style.display = 'flex' </script> <table border=\"1\" class=\"dataframe\">\n",
       "  <thead>\n",
       "    <tr style=\"text-align: right;\">\n",
       "      <th></th>\n",
       "      <th>no_nulls_in_col</th>\n",
       "      <th>pct_nulls_in_col</th>\n",
       "    </tr>\n",
       "  </thead>\n",
       "  <tbody>\n",
       "    <tr>\n",
       "      <th>gender</th>\n",
       "      <td>0</td>\n",
       "      <td>0.00</td>\n",
       "    </tr>\n",
       "    <tr>\n",
       "      <th>age</th>\n",
       "      <td>0</td>\n",
       "      <td>0.00</td>\n",
       "    </tr>\n",
       "    <tr>\n",
       "      <th>annual_income</th>\n",
       "      <td>0</td>\n",
       "      <td>0.00</td>\n",
       "    </tr>\n",
       "    <tr>\n",
       "      <th>spending_score</th>\n",
       "      <td>0</td>\n",
       "      <td>0.00</td>\n",
       "    </tr>\n",
       "  </tbody>\n",
       "</table></div>"
      ],
      "text/plain": [
       "                no_nulls_in_col     pct_nulls_in_col\n",
       "gender                        0                 0.00\n",
       "age                           0                 0.00\n",
       "annual_income                 0                 0.00\n",
       "spending_score                0                 0.00"
      ]
     },
     "execution_count": 105,
     "metadata": {},
     "output_type": "execute_result"
    }
   ],
   "source": [
    "nulls_by_col(mall_df)"
   ]
  },
  {
   "cell_type": "code",
   "execution_count": 97,
   "id": "9470f833",
   "metadata": {},
   "outputs": [
    {
     "data": {
      "text/plain": [
       "customer_id\n",
       "1      0\n",
       "2      0\n",
       "3      0\n",
       "4      0\n",
       "5      0\n",
       "      ..\n",
       "196    0\n",
       "197    0\n",
       "198    0\n",
       "199    0\n",
       "200    0\n",
       "Length: 200, dtype: int64"
      ]
     },
     "execution_count": 97,
     "metadata": {},
     "output_type": "execute_result"
    }
   ],
   "source": [
    "# number of null columns in each row\n",
    "\n",
    "mall_df.isnull().sum(axis = 1)"
   ]
  },
  {
   "cell_type": "code",
   "execution_count": 99,
   "id": "28e61464",
   "metadata": {},
   "outputs": [
    {
     "data": {
      "text/plain": [
       "0    200\n",
       "dtype: int64"
      ]
     },
     "execution_count": 99,
     "metadata": {},
     "output_type": "execute_result"
    }
   ],
   "source": [
    "# value_count of null values in each row\n",
    "\n",
    "mall_df.isnull().sum(axis = 1).value_counts()"
   ]
  },
  {
   "cell_type": "markdown",
   "id": "bd984892",
   "metadata": {},
   "source": [
    ">There are **`200`** rows with **`0`** null values"
   ]
  },
  {
   "cell_type": "code",
   "execution_count": 136,
   "id": "45d05ed0",
   "metadata": {
    "scrolled": true
   },
   "outputs": [],
   "source": [
    "def nulls_by_row(df):\n",
    "    \n",
    "    df2 = pd.DataFrame(df.isnull().sum(axis = 1), columns = ['no_cols_with_nulls']).reset_index().groupby('no_cols_with_nulls').count().reset_index()\\\n",
    "    .rename(columns = {'index': 'no_rows'})\n",
    "                      \n",
    "    df2['pct_nulls_in_row'] = df2.no_cols_with_nulls/df.shape[1]\n",
    "                      \n",
    "    return df2"
   ]
  },
  {
   "cell_type": "code",
   "execution_count": 137,
   "id": "7123f43f",
   "metadata": {},
   "outputs": [
    {
     "data": {
      "text/html": [
       "<div><div id=f731f720-b8ee-48b7-bd08-2ae93e68956a style=\"display:none; background-color:#9D6CFF; color:white; width:200px; height:30px; padding-left:5px; border-radius:4px; flex-direction:row; justify-content:space-around; align-items:center;\" onmouseover=\"this.style.backgroundColor='#BA9BF8'\" onmouseout=\"this.style.backgroundColor='#9D6CFF'\" onclick=\"window.commands?.execute('create-mitosheet-from-dataframe-output');\">See Full Dataframe in Mito</div> <script> if (window.commands.hasCommand('create-mitosheet-from-dataframe-output')) document.getElementById('f731f720-b8ee-48b7-bd08-2ae93e68956a').style.display = 'flex' </script> <table border=\"1\" class=\"dataframe\">\n",
       "  <thead>\n",
       "    <tr style=\"text-align: right;\">\n",
       "      <th></th>\n",
       "      <th>no_cols_with_nulls</th>\n",
       "      <th>customer_id</th>\n",
       "      <th>pct_nulls_in_row</th>\n",
       "    </tr>\n",
       "  </thead>\n",
       "  <tbody>\n",
       "    <tr>\n",
       "      <th>0</th>\n",
       "      <td>0</td>\n",
       "      <td>200</td>\n",
       "      <td>0.00</td>\n",
       "    </tr>\n",
       "  </tbody>\n",
       "</table></div>"
      ],
      "text/plain": [
       "   no_cols_with_nulls  customer_id     pct_nulls_in_row\n",
       "0                   0          200                 0.00"
      ]
     },
     "execution_count": 137,
     "metadata": {},
     "output_type": "execute_result"
    }
   ],
   "source": [
    "nulls_by_row(mall_df)"
   ]
  },
  {
   "cell_type": "markdown",
   "id": "6bdaac0b",
   "metadata": {},
   "source": [
    "> `customer_id` column should have been renamed `no_rows` will come back to this"
   ]
  },
  {
   "cell_type": "code",
   "execution_count": null,
   "id": "e08fc777",
   "metadata": {},
   "outputs": [],
   "source": []
  },
  {
   "cell_type": "code",
   "execution_count": null,
   "id": "f7698282",
   "metadata": {},
   "outputs": [],
   "source": []
  },
  {
   "cell_type": "markdown",
   "id": "d692c9d2",
   "metadata": {},
   "source": [
    "## Prepare Function"
   ]
  },
  {
   "cell_type": "markdown",
   "id": "a7ab0179",
   "metadata": {},
   "source": [
    ">Outliers"
   ]
  },
  {
   "cell_type": "markdown",
   "id": "8cc2effe",
   "metadata": {},
   "source": [
    "### Plots histograms for each variable"
   ]
  },
  {
   "cell_type": "code",
   "execution_count": 166,
   "id": "4b812c0a",
   "metadata": {},
   "outputs": [
    {
     "data": {
      "image/png": "[encoded data removed]",
      "text/plain": [
       "<Figure size 864x216 with 4 Axes>"
      ]
     },
     "metadata": {
      "needs_background": "light"
     },
     "output_type": "display_data"
    },
    {
     "data": {
      "image/png": "[encoded data removed]",
      "text/plain": [
       "<Figure size 864x216 with 3 Axes>"
      ]
     },
     "metadata": {
      "needs_background": "light"
     },
     "output_type": "display_data"
    }
   ],
   "source": [
    "plt.figure(figsize = (12, 3))\n",
    "\n",
    "for i, col in enumerate(mall_df.columns):\n",
    "    \n",
    "    plot_number = i + 1\n",
    "    \n",
    "    plt.subplot(1, len(mall_df.columns), plot_number)\n",
    "    \n",
    "    plt.title(col)\n",
    "    \n",
    "    mall_df[col].hist()\n",
    "    \n",
    "    plt.tight_layout()\n",
    "    \n",
    "plt.show()\n",
    "\n",
    "plt.figure(figsize = (12, 3))\n",
    "\n",
    "for i, col in enumerate(mall_df.columns):\n",
    "    \n",
    "    if mall_df[col].dtype != 'O':\n",
    "    \n",
    "        plot_number = i + 1\n",
    "\n",
    "        plt.subplot(1, len(mall_df.columns), plot_number)\n",
    "\n",
    "        plt.title(col)\n",
    "\n",
    "        sns.boxplot(y = mall_df[col])\n",
    "\n",
    "        plt.tight_layout()\n",
    "    \n",
    "plt.show()"
   ]
  },
  {
   "cell_type": "markdown",
   "id": "55b4fea6",
   "metadata": {},
   "source": [
    "### Plot boxplots for each variable"
   ]
  },
  {
   "cell_type": "code",
   "execution_count": 163,
   "id": "d79feafd",
   "metadata": {},
   "outputs": [
    {
     "data": {
      "image/png": "[encoded data removed]",
      "text/plain": [
       "<Figure size 864x216 with 3 Axes>"
      ]
     },
     "metadata": {
      "needs_background": "light"
     },
     "output_type": "display_data"
    }
   ],
   "source": [
    "import seaborn as sns\n",
    "\n",
    "plt.figure(figsize = (12, 3))\n",
    "\n",
    "for i, col in enumerate(mall_df.columns):\n",
    "    \n",
    "    if mall_df[col].dtype != 'O':\n",
    "    \n",
    "        plot_number = i + 1\n",
    "\n",
    "        plt.subplot(1, len(mall_df.columns), plot_number)\n",
    "\n",
    "        plt.title(col)\n",
    "\n",
    "        sns.boxplot(y = mall_df[col])\n",
    "\n",
    "        plt.tight_layout()\n",
    "    \n",
    "plt.show()"
   ]
  },
  {
   "cell_type": "code",
   "execution_count": null,
   "id": "249c2d44",
   "metadata": {},
   "outputs": [],
   "source": []
  },
  {
   "cell_type": "code",
   "execution_count": 139,
   "id": "290d3a45",
   "metadata": {},
   "outputs": [],
   "source": [
    "def remove_outliers(df, outlier_cols, k):\n",
    "    \n",
    "    for col in df[outlier_cols]:\n",
    "        q1 = df[col].quantile(.25)\n",
    "        q3 = df[col].quantile(.75)\n",
    "        \n",
    "        iqr = q3 - q1\n",
    "        \n",
    "        upper_bound = q3 + k * iqr\n",
    "        lower_bound = q1 - k * iqr\n",
    "        \n",
    "        df = df[(df[col] < upper_bound) & (df[col] > lower_bound)]\n",
    "        \n",
    "    return df"
   ]
  },
  {
   "cell_type": "code",
   "execution_count": 140,
   "id": "edcf1f5a",
   "metadata": {},
   "outputs": [
    {
     "data": {
      "text/html": [
       "<div><div id=f1a66c97-1fb5-4287-abca-70ca0dc9b395 style=\"display:none; background-color:#9D6CFF; color:white; width:200px; height:30px; padding-left:5px; border-radius:4px; flex-direction:row; justify-content:space-around; align-items:center;\" onmouseover=\"this.style.backgroundColor='#BA9BF8'\" onmouseout=\"this.style.backgroundColor='#9D6CFF'\" onclick=\"window.commands?.execute('create-mitosheet-from-dataframe-output');\">See Full Dataframe in Mito</div> <script> if (window.commands.hasCommand('create-mitosheet-from-dataframe-output')) document.getElementById('f1a66c97-1fb5-4287-abca-70ca0dc9b395').style.display = 'flex' </script> <table border=\"1\" class=\"dataframe\">\n",
       "  <thead>\n",
       "    <tr style=\"text-align: right;\">\n",
       "      <th></th>\n",
       "      <th>gender</th>\n",
       "      <th>age</th>\n",
       "      <th>annual_income</th>\n",
       "      <th>spending_score</th>\n",
       "    </tr>\n",
       "    <tr>\n",
       "      <th>customer_id</th>\n",
       "      <th></th>\n",
       "      <th></th>\n",
       "      <th></th>\n",
       "      <th></th>\n",
       "    </tr>\n",
       "  </thead>\n",
       "  <tbody>\n",
       "    <tr>\n",
       "      <th>1</th>\n",
       "      <td>Male</td>\n",
       "      <td>19</td>\n",
       "      <td>15</td>\n",
       "      <td>39</td>\n",
       "    </tr>\n",
       "    <tr>\n",
       "      <th>2</th>\n",
       "      <td>Male</td>\n",
       "      <td>21</td>\n",
       "      <td>15</td>\n",
       "      <td>81</td>\n",
       "    </tr>\n",
       "    <tr>\n",
       "      <th>3</th>\n",
       "      <td>Female</td>\n",
       "      <td>20</td>\n",
       "      <td>16</td>\n",
       "      <td>6</td>\n",
       "    </tr>\n",
       "    <tr>\n",
       "      <th>4</th>\n",
       "      <td>Female</td>\n",
       "      <td>23</td>\n",
       "      <td>16</td>\n",
       "      <td>77</td>\n",
       "    </tr>\n",
       "    <tr>\n",
       "      <th>5</th>\n",
       "      <td>Female</td>\n",
       "      <td>31</td>\n",
       "      <td>17</td>\n",
       "      <td>40</td>\n",
       "    </tr>\n",
       "    <tr>\n",
       "      <th>...</th>\n",
       "      <td>...</td>\n",
       "      <td>...</td>\n",
       "      <td>...</td>\n",
       "      <td>...</td>\n",
       "    </tr>\n",
       "    <tr>\n",
       "      <th>196</th>\n",
       "      <td>Female</td>\n",
       "      <td>35</td>\n",
       "      <td>120</td>\n",
       "      <td>79</td>\n",
       "    </tr>\n",
       "    <tr>\n",
       "      <th>197</th>\n",
       "      <td>Female</td>\n",
       "      <td>45</td>\n",
       "      <td>126</td>\n",
       "      <td>28</td>\n",
       "    </tr>\n",
       "    <tr>\n",
       "      <th>198</th>\n",
       "      <td>Male</td>\n",
       "      <td>32</td>\n",
       "      <td>126</td>\n",
       "      <td>74</td>\n",
       "    </tr>\n",
       "    <tr>\n",
       "      <th>199</th>\n",
       "      <td>Male</td>\n",
       "      <td>32</td>\n",
       "      <td>137</td>\n",
       "      <td>18</td>\n",
       "    </tr>\n",
       "    <tr>\n",
       "      <th>200</th>\n",
       "      <td>Male</td>\n",
       "      <td>30</td>\n",
       "      <td>137</td>\n",
       "      <td>83</td>\n",
       "    </tr>\n",
       "  </tbody>\n",
       "</table></div>"
      ],
      "text/plain": [
       "             gender  age  annual_income  spending_score\n",
       "customer_id                                            \n",
       "1              Male   19             15              39\n",
       "2              Male   21             15              81\n",
       "3            Female   20             16               6\n",
       "4            Female   23             16              77\n",
       "5            Female   31             17              40\n",
       "...             ...  ...            ...             ...\n",
       "196          Female   35            120              79\n",
       "197          Female   45            126              28\n",
       "198            Male   32            126              74\n",
       "199            Male   32            137              18\n",
       "200            Male   30            137              83\n",
       "\n",
       "[200 rows x 4 columns]"
      ]
     },
     "execution_count": 140,
     "metadata": {},
     "output_type": "execute_result"
    }
   ],
   "source": [
    "remove_outliers(mall_df, ['age', 'spending_score', 'annual_income'], 50)\n"
   ]
  },
  {
   "cell_type": "code",
   "execution_count": null,
   "id": "114d3315",
   "metadata": {},
   "outputs": [],
   "source": []
  }
 ],
 "metadata": {
  "kernelspec": {
   "display_name": "Python 3",
   "language": "python",
   "name": "python3"
  },
  "language_info": {
   "codemirror_mode": {
    "name": "ipython",
    "version": 3
   },
   "file_extension": ".py",
   "mimetype": "text/x-python",
   "name": "python",
   "nbconvert_exporter": "python",
   "pygments_lexer": "ipython3",
   "version": "3.8.8"
  }
 },
 "nbformat": 4,
 "nbformat_minor": 5
}
