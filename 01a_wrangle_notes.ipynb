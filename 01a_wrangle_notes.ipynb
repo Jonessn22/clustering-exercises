{
 "cells": [
  {
   "cell_type": "markdown",
   "id": "364b78f1",
   "metadata": {},
   "source": [
    "## Acquire Function"
   ]
  },
  {
   "cell_type": "markdown",
   "id": "0629a81b",
   "metadata": {},
   "source": [
    ">Importing host, user, and password from env module<br>\n",
    ">Importing os and pandas modules"
   ]
  },
  {
   "cell_type": "code",
   "execution_count": 1,
   "id": "1e464379",
   "metadata": {},
   "outputs": [],
   "source": [
    "from env import host, user, password\n",
    "import pandas as pd\n",
    "import os"
   ]
  },
  {
   "cell_type": "markdown",
   "id": "60988532",
   "metadata": {},
   "source": [
    ">url string that will be used to connect to db"
   ]
  },
  {
   "cell_type": "code",
   "execution_count": 2,
   "id": "3b36d42c",
   "metadata": {},
   "outputs": [],
   "source": [
    "database = 'mall_customers'\n",
    "url = f'mysql+pymysql://{user}:{password}@{host}/{database}'"
   ]
  },
  {
   "cell_type": "markdown",
   "id": "2821d0e8",
   "metadata": {},
   "source": [
    ">Reading SQL query into a df using the query string, url string, and `customer_id` as the index column"
   ]
  },
  {
   "cell_type": "code",
   "execution_count": 3,
   "id": "95f2d68e",
   "metadata": {},
   "outputs": [],
   "source": [
    "query = 'select * from customers'\n",
    "mall_df = pd.read_sql(query, url, index_col = 'customer_id')"
   ]
  },
  {
   "cell_type": "code",
   "execution_count": 4,
   "id": "9d66a363",
   "metadata": {},
   "outputs": [
    {
     "data": {
      "text/html": [
       "<div><div id=fb9c7a98-d6f5-4342-8c1c-9bf368ff43a6 style=\"display:none; background-color:#9D6CFF; color:white; width:200px; height:30px; padding-left:5px; border-radius:4px; flex-direction:row; justify-content:space-around; align-items:center;\" onmouseover=\"this.style.backgroundColor='#BA9BF8'\" onmouseout=\"this.style.backgroundColor='#9D6CFF'\" onclick=\"window.commands?.execute('create-mitosheet-from-dataframe-output');\">See Full Dataframe in Mito</div> <script> if (window.commands.hasCommand('create-mitosheet-from-dataframe-output')) document.getElementById('fb9c7a98-d6f5-4342-8c1c-9bf368ff43a6').style.display = 'flex' </script> <table border=\"1\" class=\"dataframe\">\n",
       "  <thead>\n",
       "    <tr style=\"text-align: right;\">\n",
       "      <th></th>\n",
       "      <th>gender</th>\n",
       "      <th>age</th>\n",
       "      <th>annual_income</th>\n",
       "      <th>spending_score</th>\n",
       "    </tr>\n",
       "    <tr>\n",
       "      <th>customer_id</th>\n",
       "      <th></th>\n",
       "      <th></th>\n",
       "      <th></th>\n",
       "      <th></th>\n",
       "    </tr>\n",
       "  </thead>\n",
       "  <tbody>\n",
       "    <tr>\n",
       "      <th>1</th>\n",
       "      <td>Male</td>\n",
       "      <td>19</td>\n",
       "      <td>15</td>\n",
       "      <td>39</td>\n",
       "    </tr>\n",
       "    <tr>\n",
       "      <th>2</th>\n",
       "      <td>Male</td>\n",
       "      <td>21</td>\n",
       "      <td>15</td>\n",
       "      <td>81</td>\n",
       "    </tr>\n",
       "    <tr>\n",
       "      <th>3</th>\n",
       "      <td>Female</td>\n",
       "      <td>20</td>\n",
       "      <td>16</td>\n",
       "      <td>6</td>\n",
       "    </tr>\n",
       "    <tr>\n",
       "      <th>4</th>\n",
       "      <td>Female</td>\n",
       "      <td>23</td>\n",
       "      <td>16</td>\n",
       "      <td>77</td>\n",
       "    </tr>\n",
       "    <tr>\n",
       "      <th>5</th>\n",
       "      <td>Female</td>\n",
       "      <td>31</td>\n",
       "      <td>17</td>\n",
       "      <td>40</td>\n",
       "    </tr>\n",
       "  </tbody>\n",
       "</table></div>"
      ],
      "text/plain": [
       "             gender  age  annual_income  spending_score\n",
       "customer_id                                            \n",
       "1              Male   19             15              39\n",
       "2              Male   21             15              81\n",
       "3            Female   20             16               6\n",
       "4            Female   23             16              77\n",
       "5            Female   31             17              40"
      ]
     },
     "execution_count": 4,
     "metadata": {},
     "output_type": "execute_result"
    }
   ],
   "source": [
    "mall_df.head()"
   ]
  },
  {
   "cell_type": "markdown",
   "id": "cf0d667e",
   "metadata": {},
   "source": [
    ">## `acquire_data()` function"
   ]
  },
  {
   "cell_type": "code",
   "execution_count": 14,
   "id": "e40cb4c7",
   "metadata": {},
   "outputs": [],
   "source": [
    "def acquire_data(file_name, index_col, database, query):\n",
    "    '''\n",
    "THIS FUNCTION TAKES IN:\n",
    "    (1) A CSV FILE NAME ***INCLUDE .CSV EXT****, \n",
    "    (2) COLUMN FROM TABLE TO BE USED AS DATAFRAME INDEX, \n",
    "    (3) DATABASE NAME, AND \n",
    "    (4) SQL QUERY STRING \n",
    "AND RETURNS A PANDAS DF BY:\n",
    "        (i.) CHECKING TO SEE IF LOCAL CSV FILE WITH DATA EXISTS\n",
    "        (ii.) WRITING THE LOCAL CSV FILE OT PANDAS DF \n",
    "OR, IF LOCAL CSV DOES NOT EXIST:\n",
    "        (i.) IMPORTING DATABASE CONNECTION CREDENTIALS\n",
    "        (ii.) USING CREDENTIALS TO CREATE DATABASE CONNECTION STRING\n",
    "        (iii.) READING THE SQL QUERY INTO A DF\n",
    "        (iv.) CACHING DF AND SAVING DATA AS LOCAL CSV FILE\n",
    "    '''\n",
    "    # checking for local csv file\n",
    "    if os.path.isfile(file_name):\n",
    "        \n",
    "        # reading csv file to pandas df\n",
    "        df = pd.read_csv(file_name, index_col = index_col)\n",
    "        \n",
    "    # if no local csv file\n",
    "    else:\n",
    "\n",
    "        # url database connection string\n",
    "        url = f'mysql+pymysql://{user}:{password}@{host}/{database}'\n",
    "\n",
    "        # reading sql query into df using query, url string, and index_col parameter\n",
    "        df = pd.read_sql(query, url, index_col)\n",
    "        \n",
    "        # write df to local csv file\n",
    "        df.to_csv(file_name)\n",
    "    \n",
    "    return df    "
   ]
  },
  {
   "cell_type": "code",
   "execution_count": 15,
   "id": "80488caa",
   "metadata": {
    "scrolled": false
   },
   "outputs": [],
   "source": [
    "test_df = acquire_data('mall_data.csv', 'customer_id', 'mall_customers', 'select * from customers')"
   ]
  },
  {
   "cell_type": "code",
   "execution_count": 16,
   "id": "44493f05",
   "metadata": {},
   "outputs": [
    {
     "data": {
      "text/html": [
       "<div><div id=a331ad29-df3a-4531-8d44-4ed8aab82585 style=\"display:none; background-color:#9D6CFF; color:white; width:200px; height:30px; padding-left:5px; border-radius:4px; flex-direction:row; justify-content:space-around; align-items:center;\" onmouseover=\"this.style.backgroundColor='#BA9BF8'\" onmouseout=\"this.style.backgroundColor='#9D6CFF'\" onclick=\"window.commands?.execute('create-mitosheet-from-dataframe-output');\">See Full Dataframe in Mito</div> <script> if (window.commands.hasCommand('create-mitosheet-from-dataframe-output')) document.getElementById('a331ad29-df3a-4531-8d44-4ed8aab82585').style.display = 'flex' </script> <table border=\"1\" class=\"dataframe\">\n",
       "  <thead>\n",
       "    <tr style=\"text-align: right;\">\n",
       "      <th></th>\n",
       "      <th>gender</th>\n",
       "      <th>age</th>\n",
       "      <th>annual_income</th>\n",
       "      <th>spending_score</th>\n",
       "    </tr>\n",
       "    <tr>\n",
       "      <th>customer_id</th>\n",
       "      <th></th>\n",
       "      <th></th>\n",
       "      <th></th>\n",
       "      <th></th>\n",
       "    </tr>\n",
       "  </thead>\n",
       "  <tbody>\n",
       "    <tr>\n",
       "      <th>1</th>\n",
       "      <td>Male</td>\n",
       "      <td>19</td>\n",
       "      <td>15</td>\n",
       "      <td>39</td>\n",
       "    </tr>\n",
       "    <tr>\n",
       "      <th>2</th>\n",
       "      <td>Male</td>\n",
       "      <td>21</td>\n",
       "      <td>15</td>\n",
       "      <td>81</td>\n",
       "    </tr>\n",
       "    <tr>\n",
       "      <th>3</th>\n",
       "      <td>Female</td>\n",
       "      <td>20</td>\n",
       "      <td>16</td>\n",
       "      <td>6</td>\n",
       "    </tr>\n",
       "    <tr>\n",
       "      <th>4</th>\n",
       "      <td>Female</td>\n",
       "      <td>23</td>\n",
       "      <td>16</td>\n",
       "      <td>77</td>\n",
       "    </tr>\n",
       "    <tr>\n",
       "      <th>5</th>\n",
       "      <td>Female</td>\n",
       "      <td>31</td>\n",
       "      <td>17</td>\n",
       "      <td>40</td>\n",
       "    </tr>\n",
       "  </tbody>\n",
       "</table></div>"
      ],
      "text/plain": [
       "             gender  age  annual_income  spending_score\n",
       "customer_id                                            \n",
       "1              Male   19             15              39\n",
       "2              Male   21             15              81\n",
       "3            Female   20             16               6\n",
       "4            Female   23             16              77\n",
       "5            Female   31             17              40"
      ]
     },
     "execution_count": 16,
     "metadata": {},
     "output_type": "execute_result"
    }
   ],
   "source": [
    "test_df.head()"
   ]
  },
  {
   "cell_type": "markdown",
   "id": "5efe5180",
   "metadata": {},
   "source": [
    "## Summarize Function"
   ]
  },
  {
   "cell_type": "code",
   "execution_count": 25,
   "id": "21774e54",
   "metadata": {},
   "outputs": [
    {
     "name": "stdout",
     "output_type": "stream",
     "text": [
      "DataFrame Shape\n",
      "--------------------\n",
      "Rows: 200\n",
      "Columns: 4\n",
      "\n"
     ]
    }
   ],
   "source": [
    "# 1) shape\n",
    "print('DataFrame Shape')\n",
    "print('--------------------')\n",
    "print(f'Rows: {mall_df.shape[0]}\\nColumns: {mall_df.shape[1]}')\n",
    "print()"
   ]
  },
  {
   "cell_type": "markdown",
   "id": "4378cfa1",
   "metadata": {},
   "source": [
    ">200 observations and 4 variables"
   ]
  },
  {
   "cell_type": "code",
   "execution_count": 21,
   "id": "b7ae84a4",
   "metadata": {},
   "outputs": [
    {
     "name": "stdout",
     "output_type": "stream",
     "text": [
      "DataFrame Info\n",
      "--------------------\n",
      "<class 'pandas.core.frame.DataFrame'>\n",
      "Int64Index: 200 entries, 1 to 200\n",
      "Data columns (total 4 columns):\n",
      " #   Column          Non-Null Count  Dtype \n",
      "---  ------          --------------  ----- \n",
      " 0   gender          200 non-null    object\n",
      " 1   age             200 non-null    int64 \n",
      " 2   annual_income   200 non-null    int64 \n",
      " 3   spending_score  200 non-null    int64 \n",
      "dtypes: int64(3), object(1)\n",
      "memory usage: 7.8+ KB\n",
      "\n"
     ]
    }
   ],
   "source": [
    "# 2) info\n",
    "print('DataFrame Info')\n",
    "print('--------------------')\n",
    "mall_df.info()\n",
    "print()"
   ]
  },
  {
   "cell_type": "markdown",
   "id": "461945c2",
   "metadata": {},
   "source": [
    ">No null values<br>\n",
    "x3 variables with int dtype and x1 as object"
   ]
  },
  {
   "cell_type": "code",
   "execution_count": 28,
   "id": "3de82eb3",
   "metadata": {},
   "outputs": [
    {
     "name": "stdout",
     "output_type": "stream",
     "text": [
      "DataFrame Stats\n",
      "--------------------\n"
     ]
    },
    {
     "data": {
      "text/html": [
       "<div><div id=fc32f515-8012-44a4-8442-adcfa4fd2d0d style=\"display:none; background-color:#9D6CFF; color:white; width:200px; height:30px; padding-left:5px; border-radius:4px; flex-direction:row; justify-content:space-around; align-items:center;\" onmouseover=\"this.style.backgroundColor='#BA9BF8'\" onmouseout=\"this.style.backgroundColor='#9D6CFF'\" onclick=\"window.commands?.execute('create-mitosheet-from-dataframe-output');\">See Full Dataframe in Mito</div> <script> if (window.commands.hasCommand('create-mitosheet-from-dataframe-output')) document.getElementById('fc32f515-8012-44a4-8442-adcfa4fd2d0d').style.display = 'flex' </script> <table border=\"1\" class=\"dataframe\">\n",
       "  <thead>\n",
       "    <tr style=\"text-align: right;\">\n",
       "      <th></th>\n",
       "      <th>age</th>\n",
       "      <th>annual_income</th>\n",
       "      <th>spending_score</th>\n",
       "    </tr>\n",
       "  </thead>\n",
       "  <tbody>\n",
       "    <tr>\n",
       "      <th>count</th>\n",
       "      <td>200.00</td>\n",
       "      <td>200.00</td>\n",
       "      <td>200.00</td>\n",
       "    </tr>\n",
       "    <tr>\n",
       "      <th>mean</th>\n",
       "      <td>38.85</td>\n",
       "      <td>60.56</td>\n",
       "      <td>50.20</td>\n",
       "    </tr>\n",
       "    <tr>\n",
       "      <th>std</th>\n",
       "      <td>13.97</td>\n",
       "      <td>26.26</td>\n",
       "      <td>25.82</td>\n",
       "    </tr>\n",
       "    <tr>\n",
       "      <th>min</th>\n",
       "      <td>18.00</td>\n",
       "      <td>15.00</td>\n",
       "      <td>1.00</td>\n",
       "    </tr>\n",
       "    <tr>\n",
       "      <th>25%</th>\n",
       "      <td>28.75</td>\n",
       "      <td>41.50</td>\n",
       "      <td>34.75</td>\n",
       "    </tr>\n",
       "    <tr>\n",
       "      <th>50%</th>\n",
       "      <td>36.00</td>\n",
       "      <td>61.50</td>\n",
       "      <td>50.00</td>\n",
       "    </tr>\n",
       "    <tr>\n",
       "      <th>75%</th>\n",
       "      <td>49.00</td>\n",
       "      <td>78.00</td>\n",
       "      <td>73.00</td>\n",
       "    </tr>\n",
       "    <tr>\n",
       "      <th>max</th>\n",
       "      <td>70.00</td>\n",
       "      <td>137.00</td>\n",
       "      <td>99.00</td>\n",
       "    </tr>\n",
       "  </tbody>\n",
       "</table></div>"
      ],
      "text/plain": [
       "                       age        annual_income       spending_score\n",
       "count               200.00               200.00               200.00\n",
       "mean                 38.85                60.56                50.20\n",
       "std                  13.97                26.26                25.82\n",
       "min                  18.00                15.00                 1.00\n",
       "25%                  28.75                41.50                34.75\n",
       "50%                  36.00                61.50                50.00\n",
       "75%                  49.00                78.00                73.00\n",
       "max                  70.00               137.00                99.00"
      ]
     },
     "execution_count": 28,
     "metadata": {},
     "output_type": "execute_result"
    }
   ],
   "source": [
    "# 3) descriptive stats\n",
    "\n",
    "print('DataFrame Stats')\n",
    "print('--------------------')\n",
    "mall_df.describe()"
   ]
  },
  {
   "cell_type": "markdown",
   "id": "f370349b",
   "metadata": {},
   "source": [
    ">will need to scale numerical columns for modeling (different measurement units)"
   ]
  },
  {
   "cell_type": "code",
   "execution_count": 44,
   "id": "6289c85c",
   "metadata": {},
   "outputs": [
    {
     "name": "stdout",
     "output_type": "stream",
     "text": [
      "GENDER\n",
      "------\n",
      "Female    112\n",
      "Male       88\n",
      "Name: gender, dtype: int64\n",
      "_____________________________\n",
      "\n",
      "AGE\n",
      "---\n",
      "This column has > 10 values\n",
      "_____________________________\n",
      "\n",
      "ANNUAL_INCOME\n",
      "-------------\n",
      "This column has > 10 values\n",
      "_____________________________\n",
      "\n",
      "SPENDING_SCORE\n",
      "--------------\n",
      "This column has > 10 values\n",
      "_____________________________\n",
      "\n"
     ]
    }
   ],
   "source": [
    "# 4) value counts for colums with 10 or less values\n",
    "\n",
    "for col in mall_df.columns:\n",
    "    if mall_df[col].nunique() <= 10:\n",
    "        print(col.upper())\n",
    "        print('-'*len(col))\n",
    "        print(mall_df[col].value_counts())\n",
    "        print('_____________________________')\n",
    "        print()\n",
    "    else:\n",
    "        print(col.upper())\n",
    "        print('-'*len(col))\n",
    "        print('This column has > 10 values')\n",
    "        print('_____________________________')\n",
    "        print()"
   ]
  },
  {
   "cell_type": "markdown",
   "id": "6751cbba",
   "metadata": {},
   "source": [
    ">will need to encode gender (binary variable)"
   ]
  },
  {
   "cell_type": "markdown",
   "id": "ed4b3530",
   "metadata": {},
   "source": [
    "#### Even though there are no nulls in this data, I want to create a function that can summarize and handle nulls by rows and columns"
   ]
  },
  {
   "cell_type": "code",
   "execution_count": 46,
   "id": "bed83783",
   "metadata": {},
   "outputs": [
    {
     "data": {
      "text/plain": [
       "gender            0\n",
       "age               0\n",
       "annual_income     0\n",
       "spending_score    0\n",
       "dtype: int64"
      ]
     },
     "execution_count": 46,
     "metadata": {},
     "output_type": "execute_result"
    }
   ],
   "source": [
    "# 5a) Nulls by column\n",
    "# number of nulls in each column\n",
    "mall_df.isnull().sum()"
   ]
  },
  {
   "cell_type": "code",
   "execution_count": 54,
   "id": "b59dbe19",
   "metadata": {},
   "outputs": [
    {
     "data": {
      "text/plain": [
       "gender                           0.00\n",
       "age                              0.00\n",
       "annual_income                    0.00\n",
       "spending_score                   0.00\n",
       "dtype: float64"
      ]
     },
     "execution_count": 54,
     "metadata": {},
     "output_type": "execute_result"
    }
   ],
   "source": [
    "# percentage of nulls in each column\n",
    "mall_df.isnull().sum()/len(mall_df)*100"
   ]
  },
  {
   "cell_type": "code",
   "execution_count": null,
   "id": "d78a20b5",
   "metadata": {},
   "outputs": [],
   "source": []
  },
  {
   "cell_type": "code",
   "execution_count": null,
   "id": "9358ff4f",
   "metadata": {},
   "outputs": [],
   "source": []
  },
  {
   "cell_type": "code",
   "execution_count": 49,
   "id": "668bc69b",
   "metadata": {},
   "outputs": [
    {
     "data": {
      "text/plain": [
       "customer_id\n",
       "1      0\n",
       "2      0\n",
       "3      0\n",
       "4      0\n",
       "5      0\n",
       "      ..\n",
       "196    0\n",
       "197    0\n",
       "198    0\n",
       "199    0\n",
       "200    0\n",
       "Length: 200, dtype: int64"
      ]
     },
     "execution_count": 49,
     "metadata": {},
     "output_type": "execute_result"
    }
   ],
   "source": [
    "# 5b) Nulls by row\n",
    "mall_df.isnull().sum(axis = 1)"
   ]
  },
  {
   "cell_type": "code",
   "execution_count": 50,
   "id": "3d85cc9e",
   "metadata": {},
   "outputs": [
    {
     "data": {
      "text/plain": [
       "0    200\n",
       "dtype: int64"
      ]
     },
     "execution_count": 50,
     "metadata": {},
     "output_type": "execute_result"
    }
   ],
   "source": [
    "mall_df.isnull().sum(axis = 1).value_counts()"
   ]
  },
  {
   "cell_type": "code",
   "execution_count": null,
   "id": "ff3faaa8",
   "metadata": {},
   "outputs": [],
   "source": []
  },
  {
   "cell_type": "code",
   "execution_count": null,
   "id": "6b6f6595",
   "metadata": {},
   "outputs": [],
   "source": []
  },
  {
   "cell_type": "code",
   "execution_count": null,
   "id": "d88d2973",
   "metadata": {},
   "outputs": [],
   "source": []
  },
  {
   "cell_type": "code",
   "execution_count": null,
   "id": "63d5b627",
   "metadata": {},
   "outputs": [],
   "source": []
  },
  {
   "cell_type": "markdown",
   "id": "c9283b34",
   "metadata": {},
   "source": [
    "## Prepare Function"
   ]
  },
  {
   "cell_type": "markdown",
   "id": "1d327c6b",
   "metadata": {},
   "source": [
    ">Outliers"
   ]
  },
  {
   "cell_type": "code",
   "execution_count": null,
   "id": "47806656",
   "metadata": {},
   "outputs": [],
   "source": [
    "# def remove_outliers(df, outlier_cols, k):\n",
    "    \n",
    "#     for col in df[outlier_cols]:\n",
    "#         q1 = df[col].quantile(.25)\n",
    "#         q3 = df[col].quantile(.75)\n",
    "        \n",
    "#         iqr = q3 - q1\n",
    "        \n",
    "#         upper_bound = q3 + k * iqr\n",
    "#         lower_bound = q1 - k * iqr\n",
    "        \n",
    "#         df = df[(df[col] < upper_bound) & (df[col] > lower_bound)]\n",
    "        \n",
    "#     return df"
   ]
  },
  {
   "cell_type": "code",
   "execution_count": null,
   "id": "0bb992d1",
   "metadata": {},
   "outputs": [],
   "source": [
    "# mall_df_outliers = remove_outliers(mall_df, ['age', 'spending_score', 'annual_income'], 50)\n",
    "# mall_df_outliers.head()"
   ]
  },
  {
   "cell_type": "code",
   "execution_count": null,
   "id": "8967038b",
   "metadata": {},
   "outputs": [],
   "source": [
    "# import seaborn as sns\n",
    "# import matplotlib.pyplot as plt\n",
    "\n",
    "# for col in mall_df.columns:\n",
    "#     if mall_df[col].dtype != 'O':\n",
    "#         sns.boxplot(y = mall_df[col], data = mall_df)\n",
    "#         plt.title(col)\n",
    "#         plt.show()\n",
    "#         print('-------------------')\n",
    "#         print()"
   ]
  },
  {
   "cell_type": "code",
   "execution_count": null,
   "id": "b6aea88e",
   "metadata": {},
   "outputs": [],
   "source": [
    "# for i, col in enumerate(mall_df.columns):\n",
    "    \n",
    "#     if mall_df[col].dtype != 'O':\n",
    "        \n",
    "#         plot_number = i + 1\n",
    "\n",
    "#         plt.subplot(1, len(mall_df.columns), plot_number)\n",
    "\n",
    "#         plt.title(f'{col}')\n",
    "\n",
    "#         sns.boxplot(data = mall_df[[col]])\n",
    "        \n",
    "#         plt.tight_layout(pad = 2)\n",
    "\n",
    "# print('Boxplot Distributions of Numerical Variables With Outliers')\n",
    "\n",
    "   \n",
    "    "
   ]
  },
  {
   "cell_type": "code",
   "execution_count": null,
   "id": "2ff08f19",
   "metadata": {},
   "outputs": [],
   "source": [
    "# for i, col in enumerate(mall_df_outliers.columns):\n",
    "    \n",
    "#     if mall_df_outliers[col].dtype != 'O':\n",
    "        \n",
    "#         plot_number = i + 1\n",
    "\n",
    "#         plt.subplot(1, len(mall_df_outliers.columns), plot_number)\n",
    "\n",
    "#         plt.title(f'{col}')\n",
    "\n",
    "#         sns.boxplot(data = mall_df_outliers[[col]])\n",
    "        \n",
    "#         plt.tight_layout(pad = 2)\n",
    "        \n",
    "# print('Boxplot Distributions of Numerical Variables Without Outliers')"
   ]
  },
  {
   "cell_type": "code",
   "execution_count": null,
   "id": "c881e7c4",
   "metadata": {},
   "outputs": [],
   "source": [
    "# mall_df.hist()\n",
    "# plt.tight_layout(pad = 2)\n",
    "\n",
    "# mall_df_outliers.hist()\n",
    "# plt.tight_layout(pad = 2)\n"
   ]
  },
  {
   "cell_type": "code",
   "execution_count": null,
   "id": "9dad062a",
   "metadata": {},
   "outputs": [],
   "source": []
  }
 ],
 "metadata": {
  "kernelspec": {
   "display_name": "Python 3",
   "language": "python",
   "name": "python3"
  },
  "language_info": {
   "codemirror_mode": {
    "name": "ipython",
    "version": 3
   },
   "file_extension": ".py",
   "mimetype": "text/x-python",
   "name": "python",
   "nbconvert_exporter": "python",
   "pygments_lexer": "ipython3",
   "version": "3.8.8"
  }
 },
 "nbformat": 4,
 "nbformat_minor": 5
}
